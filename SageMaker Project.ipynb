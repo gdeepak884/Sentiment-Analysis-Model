{
 "cells": [
  {
   "cell_type": "markdown",
   "metadata": {},
   "source": [
    "# Creating a Sentiment Analysis Web App\n",
    "## Using PyTorch and SageMaker\n",
    "\n",
    "_Deep Learning Nanodegree Program | Deployment_\n",
    "\n",
    "---\n",
    "\n",
    "Now that we have a basic understanding of how SageMaker works we will try to use it to construct a complete project from end to end. Our goal will be to have a simple web page which a user can use to enter a movie review. The web page will then send the review off to our deployed model which will predict the sentiment of the entered review.\n",
    "\n",
    "## Instructions\n",
    "\n",
    "Some template code has already been provided for you, and you will need to implement additional functionality to successfully complete this notebook. You will not need to modify the included code beyond what is requested. Sections that begin with '**TODO**' in the header indicate that you need to complete or implement some portion within them. Instructions will be provided for each section and the specifics of the implementation are marked in the code block with a `# TODO: ...` comment. Please be sure to read the instructions carefully!\n",
    "\n",
    "In addition to implementing code, there will be questions for you to answer which relate to the task and your implementation. Each section where you will answer a question is preceded by a '**Question:**' header. Carefully read each question and provide your answer below the '**Answer:**' header by editing the Markdown cell.\n",
    "\n",
    "> **Note**: Code and Markdown cells can be executed using the **Shift+Enter** keyboard shortcut. In addition, a cell can be edited by typically clicking it (double-click for Markdown cells) or by pressing **Enter** while it is highlighted.\n",
    "\n",
    "## General Outline\n",
    "\n",
    "Recall the general outline for SageMaker projects using a notebook instance.\n",
    "\n",
    "1. Download or otherwise retrieve the data.\n",
    "2. Process / Prepare the data.\n",
    "3. Upload the processed data to S3.\n",
    "4. Train a chosen model.\n",
    "5. Test the trained model (typically using a batch transform job).\n",
    "6. Deploy the trained model.\n",
    "7. Use the deployed model.\n",
    "\n",
    "For this project, you will be following the steps in the general outline with some modifications. \n",
    "\n",
    "First, you will not be testing the model in its own step. You will still be testing the model, however, you will do it by deploying your model and then using the deployed model by sending the test data to it. One of the reasons for doing this is so that you can make sure that your deployed model is working correctly before moving forward.\n",
    "\n",
    "In addition, you will deploy and use your trained model a second time. In the second iteration you will customize the way that your trained model is deployed by including some of your own code. In addition, your newly deployed model will be used in the sentiment analysis web app."
   ]
  },
  {
   "cell_type": "markdown",
   "metadata": {},
   "source": [
    "## Step 1: Downloading the data\n",
    "\n",
    "As in the XGBoost in SageMaker notebook, we will be using the [IMDb dataset](http://ai.stanford.edu/~amaas/data/sentiment/)\n",
    "\n",
    "> Maas, Andrew L., et al. [Learning Word Vectors for Sentiment Analysis](http://ai.stanford.edu/~amaas/data/sentiment/). In _Proceedings of the 49th Annual Meeting of the Association for Computational Linguistics: Human Language Technologies_. Association for Computational Linguistics, 2011."
   ]
  },
  {
   "cell_type": "code",
   "execution_count": 1,
   "metadata": {},
   "outputs": [
    {
     "name": "stdout",
     "output_type": "stream",
     "text": [
      "mkdir: cannot create directory ‘../data’: File exists\n",
      "--2020-04-09 20:12:39--  http://ai.stanford.edu/~amaas/data/sentiment/aclImdb_v1.tar.gz\n",
      "Resolving ai.stanford.edu (ai.stanford.edu)... 171.64.68.10\n",
      "Connecting to ai.stanford.edu (ai.stanford.edu)|171.64.68.10|:80... connected.\n",
      "HTTP request sent, awaiting response... 200 OK\n",
      "Length: 84125825 (80M) [application/x-gzip]\n",
      "Saving to: ‘../data/aclImdb_v1.tar.gz’\n",
      "\n",
      "../data/aclImdb_v1. 100%[===================>]  80.23M  12.0MB/s    in 12s     \n",
      "\n",
      "2020-04-09 20:12:51 (6.78 MB/s) - ‘../data/aclImdb_v1.tar.gz’ saved [84125825/84125825]\n",
      "\n"
     ]
    }
   ],
   "source": [
    "%mkdir ../data\n",
    "!wget -O ../data/aclImdb_v1.tar.gz http://ai.stanford.edu/~amaas/data/sentiment/aclImdb_v1.tar.gz\n",
    "!tar -zxf ../data/aclImdb_v1.tar.gz -C ../data"
   ]
  },
  {
   "cell_type": "markdown",
   "metadata": {},
   "source": [
    "## Step 2: Preparing and Processing the data\n",
    "\n",
    "Also, as in the XGBoost notebook, we will be doing some initial data processing. The first few steps are the same as in the XGBoost example. To begin with, we will read in each of the reviews and combine them into a single input structure. Then, we will split the dataset into a training set and a testing set."
   ]
  },
  {
   "cell_type": "code",
   "execution_count": 2,
   "metadata": {},
   "outputs": [],
   "source": [
    "import os\n",
    "import glob\n",
    "\n",
    "def read_imdb_data(data_dir='../data/aclImdb'):\n",
    "    data = {}\n",
    "    labels = {}\n",
    "    \n",
    "    for data_type in ['train', 'test']:\n",
    "        data[data_type] = {}\n",
    "        labels[data_type] = {}\n",
    "        \n",
    "        for sentiment in ['pos', 'neg']:\n",
    "            data[data_type][sentiment] = []\n",
    "            labels[data_type][sentiment] = []\n",
    "            \n",
    "            path = os.path.join(data_dir, data_type, sentiment, '*.txt')\n",
    "            files = glob.glob(path)\n",
    "            \n",
    "            for f in files:\n",
    "                with open(f) as review:\n",
    "                    data[data_type][sentiment].append(review.read())\n",
    "                    # Here we represent a positive review by '1' and a negative review by '0'\n",
    "                    labels[data_type][sentiment].append(1 if sentiment == 'pos' else 0)\n",
    "                    \n",
    "            assert len(data[data_type][sentiment]) == len(labels[data_type][sentiment]), \\\n",
    "                    \"{}/{} data size does not match labels size\".format(data_type, sentiment)\n",
    "                \n",
    "    return data, labels"
   ]
  },
  {
   "cell_type": "code",
   "execution_count": 3,
   "metadata": {},
   "outputs": [
    {
     "name": "stdout",
     "output_type": "stream",
     "text": [
      "IMDB reviews: train = 12500 pos / 12500 neg, test = 12500 pos / 12500 neg\n"
     ]
    }
   ],
   "source": [
    "data, labels = read_imdb_data()\n",
    "print(\"IMDB reviews: train = {} pos / {} neg, test = {} pos / {} neg\".format(\n",
    "            len(data['train']['pos']), len(data['train']['neg']),\n",
    "            len(data['test']['pos']), len(data['test']['neg'])))"
   ]
  },
  {
   "cell_type": "markdown",
   "metadata": {},
   "source": [
    "Now that we've read the raw training and testing data from the downloaded dataset, we will combine the positive and negative reviews and shuffle the resulting records."
   ]
  },
  {
   "cell_type": "code",
   "execution_count": 4,
   "metadata": {},
   "outputs": [],
   "source": [
    "from sklearn.utils import shuffle\n",
    "\n",
    "def prepare_imdb_data(data, labels):\n",
    "    \"\"\"Prepare training and test sets from IMDb movie reviews.\"\"\"\n",
    "    \n",
    "    #Combine positive and negative reviews and labels\n",
    "    data_train = data['train']['pos'] + data['train']['neg']\n",
    "    data_test = data['test']['pos'] + data['test']['neg']\n",
    "    labels_train = labels['train']['pos'] + labels['train']['neg']\n",
    "    labels_test = labels['test']['pos'] + labels['test']['neg']\n",
    "    \n",
    "    #Shuffle reviews and corresponding labels within training and test sets\n",
    "    data_train, labels_train = shuffle(data_train, labels_train)\n",
    "    data_test, labels_test = shuffle(data_test, labels_test)\n",
    "    \n",
    "    # Return a unified training data, test data, training labels, test labets\n",
    "    return data_train, data_test, labels_train, labels_test"
   ]
  },
  {
   "cell_type": "code",
   "execution_count": 5,
   "metadata": {},
   "outputs": [
    {
     "name": "stdout",
     "output_type": "stream",
     "text": [
      "IMDb reviews (combined): train = 25000, test = 25000\n"
     ]
    }
   ],
   "source": [
    "train_X, test_X, train_y, test_y = prepare_imdb_data(data, labels)\n",
    "print(\"IMDb reviews (combined): train = {}, test = {}\".format(len(train_X), len(test_X)))"
   ]
  },
  {
   "cell_type": "markdown",
   "metadata": {},
   "source": [
    "Now that we have our training and testing sets unified and prepared, we should do a quick check and see an example of the data our model will be trained on. This is generally a good idea as it allows you to see how each of the further processing steps affects the reviews and it also ensures that the data has been loaded correctly."
   ]
  },
  {
   "cell_type": "code",
   "execution_count": 6,
   "metadata": {},
   "outputs": [
    {
     "name": "stdout",
     "output_type": "stream",
     "text": [
      "It's a bit easy. That's about it.<br /><br />The graphics are clean and realistic, except for the fact that some of the fences are 2d, but that's forgiveable. The rest of the graphics are cleaner than GoldenEye and many other N64 games. The sounds are magnificant. Everything from the speaking to the SFX are pleasant and realistic.<br /><br />The camera angle is a bit frustrating at times, but it's the same for every platform game, like Banjo-Kazooie and Donkey Kong 64.<br /><br />I got this game as a Christmas present in 1997, and since then, I have dutifully gotten 120 stars over 10 times.\n",
      "1\n"
     ]
    }
   ],
   "source": [
    "print(train_X[100])\n",
    "print(train_y[100])"
   ]
  },
  {
   "cell_type": "markdown",
   "metadata": {},
   "source": [
    "The first step in processing the reviews is to make sure that any html tags that appear should be removed. In addition we wish to tokenize our input, that way words such as *entertained* and *entertaining* are considered the same with regard to sentiment analysis."
   ]
  },
  {
   "cell_type": "code",
   "execution_count": 7,
   "metadata": {},
   "outputs": [],
   "source": [
    "import nltk\n",
    "from nltk.corpus import stopwords\n",
    "from nltk.stem.porter import *\n",
    "\n",
    "import re\n",
    "from bs4 import BeautifulSoup\n",
    "\n",
    "def review_to_words(review):\n",
    "    nltk.download(\"stopwords\", quiet=True)\n",
    "    stemmer = PorterStemmer()\n",
    "    \n",
    "    text = BeautifulSoup(review, \"html.parser\").get_text() # Remove HTML tags\n",
    "    text = re.sub(r\"[^a-zA-Z0-9]\", \" \", text.lower()) # Convert to lower case\n",
    "    words = text.split() # Split string into words\n",
    "    words = [w for w in words if w not in stopwords.words(\"english\")] # Remove stopwords\n",
    "    words = [PorterStemmer().stem(w) for w in words] # stem\n",
    "    \n",
    "    return words"
   ]
  },
  {
   "cell_type": "markdown",
   "metadata": {},
   "source": [
    "The `review_to_words` method defined above uses `BeautifulSoup` to remove any html tags that appear and uses the `nltk` package to tokenize the reviews. As a check to ensure we know how everything is working, try applying `review_to_words` to one of the reviews in the training set."
   ]
  },
  {
   "cell_type": "code",
   "execution_count": 8,
   "metadata": {},
   "outputs": [
    {
     "data": {
      "text/plain": [
       "['bit',\n",
       " 'easi',\n",
       " 'graphic',\n",
       " 'clean',\n",
       " 'realist',\n",
       " 'except',\n",
       " 'fact',\n",
       " 'fenc',\n",
       " '2d',\n",
       " 'forgiv',\n",
       " 'rest',\n",
       " 'graphic',\n",
       " 'cleaner',\n",
       " 'goldeney',\n",
       " 'mani',\n",
       " 'n64',\n",
       " 'game',\n",
       " 'sound',\n",
       " 'magnific',\n",
       " 'everyth',\n",
       " 'speak',\n",
       " 'sfx',\n",
       " 'pleasant',\n",
       " 'realist',\n",
       " 'camera',\n",
       " 'angl',\n",
       " 'bit',\n",
       " 'frustrat',\n",
       " 'time',\n",
       " 'everi',\n",
       " 'platform',\n",
       " 'game',\n",
       " 'like',\n",
       " 'banjo',\n",
       " 'kazooi',\n",
       " 'donkey',\n",
       " 'kong',\n",
       " '64',\n",
       " 'got',\n",
       " 'game',\n",
       " 'christma',\n",
       " 'present',\n",
       " '1997',\n",
       " 'sinc',\n",
       " 'duti',\n",
       " 'gotten',\n",
       " '120',\n",
       " 'star',\n",
       " '10',\n",
       " 'time']"
      ]
     },
     "execution_count": 8,
     "metadata": {},
     "output_type": "execute_result"
    }
   ],
   "source": [
    "# TODO: Apply review_to_words to a review (train_X[100] or any other review)\n",
    "review_to_words(train_X[100])"
   ]
  },
  {
   "cell_type": "markdown",
   "metadata": {},
   "source": [
    "**Question:** Above we mentioned that `review_to_words` method removes html formatting and allows us to tokenize the words found in a review, for example, converting *entertained* and *entertaining* into *entertain* so that they are treated as though they are the same word. What else, if anything, does this method do to the input?"
   ]
  },
  {
   "cell_type": "markdown",
   "metadata": {},
   "source": [
    "**Answer:**\n",
    "\n",
    "Asside from stemming, this function also does:\n",
    "- Remove any unnecessary characters.\n",
    "- Remove HTML tags.\n",
    "- Convert to lower case.\n",
    "- Remove stopwords.\n"
   ]
  },
  {
   "cell_type": "markdown",
   "metadata": {},
   "source": [
    "The method below applies the `review_to_words` method to each of the reviews in the training and testing datasets. In addition it caches the results. This is because performing this processing step can take a long time. This way if you are unable to complete the notebook in the current session, you can come back without needing to process the data a second time."
   ]
  },
  {
   "cell_type": "code",
   "execution_count": 9,
   "metadata": {},
   "outputs": [],
   "source": [
    "import pickle\n",
    "\n",
    "cache_dir = os.path.join(\"../cache\", \"sentiment_analysis\")  # where to store cache files\n",
    "os.makedirs(cache_dir, exist_ok=True)  # ensure cache directory exists\n",
    "\n",
    "def preprocess_data(data_train, data_test, labels_train, labels_test,\n",
    "                    cache_dir=cache_dir, cache_file=\"preprocessed_data.pkl\"):\n",
    "    \"\"\"Convert each review to words; read from cache if available.\"\"\"\n",
    "\n",
    "    # If cache_file is not None, try to read from it first\n",
    "    cache_data = None\n",
    "    if cache_file is not None:\n",
    "        try:\n",
    "            with open(os.path.join(cache_dir, cache_file), \"rb\") as f:\n",
    "                cache_data = pickle.load(f)\n",
    "            print(\"Read preprocessed data from cache file:\", cache_file)\n",
    "        except:\n",
    "            pass  # unable to read from cache, but that's okay\n",
    "    \n",
    "    # If cache is missing, then do the heavy lifting\n",
    "    if cache_data is None:\n",
    "        # Preprocess training and test data to obtain words for each review\n",
    "        #words_train = list(map(review_to_words, data_train))\n",
    "        #words_test = list(map(review_to_words, data_test))\n",
    "        words_train = [review_to_words(review) for review in data_train]\n",
    "        words_test = [review_to_words(review) for review in data_test]\n",
    "        \n",
    "        # Write to cache file for future runs\n",
    "        if cache_file is not None:\n",
    "            cache_data = dict(words_train=words_train, words_test=words_test,\n",
    "                              labels_train=labels_train, labels_test=labels_test)\n",
    "            with open(os.path.join(cache_dir, cache_file), \"wb\") as f:\n",
    "                pickle.dump(cache_data, f)\n",
    "            print(\"Wrote preprocessed data to cache file:\", cache_file)\n",
    "    else:\n",
    "        # Unpack data loaded from cache file\n",
    "        words_train, words_test, labels_train, labels_test = (cache_data['words_train'],\n",
    "                cache_data['words_test'], cache_data['labels_train'], cache_data['labels_test'])\n",
    "    \n",
    "    return words_train, words_test, labels_train, labels_test"
   ]
  },
  {
   "cell_type": "code",
   "execution_count": 10,
   "metadata": {},
   "outputs": [
    {
     "name": "stdout",
     "output_type": "stream",
     "text": [
      "Read preprocessed data from cache file: preprocessed_data.pkl\n"
     ]
    }
   ],
   "source": [
    "# Preprocess data\n",
    "train_X, test_X, train_y, test_y = preprocess_data(train_X[:100], test_X[:100], train_y[:100], test_y[:100])"
   ]
  },
  {
   "cell_type": "markdown",
   "metadata": {},
   "source": [
    "## Transform the data\n",
    "\n",
    "In the XGBoost notebook we transformed the data from its word representation to a bag-of-words feature representation. For the model we are going to construct in this notebook we will construct a feature representation which is very similar. To start, we will represent each word as an integer. Of course, some of the words that appear in the reviews occur very infrequently and so likely don't contain much information for the purposes of sentiment analysis. The way we will deal with this problem is that we will fix the size of our working vocabulary and we will only include the words that appear most frequently. We will then combine all of the infrequent words into a single category and, in our case, we will label it as `1`.\n",
    "\n",
    "Since we will be using a recurrent neural network, it will be convenient if the length of each review is the same. To do this, we will fix a size for our reviews and then pad short reviews with the category 'no word' (which we will label `0`) and truncate long reviews."
   ]
  },
  {
   "cell_type": "markdown",
   "metadata": {},
   "source": [
    "### (TODO) Create a word dictionary\n",
    "\n",
    "To begin with, we need to construct a way to map words that appear in the reviews to integers. Here we fix the size of our vocabulary (including the 'no word' and 'infrequent' categories) to be `5000` but you may wish to change this to see how it affects the model.\n",
    "\n",
    "> **TODO:** Complete the implementation for the `build_dict()` method below. Note that even though the vocab_size is set to `5000`, we only want to construct a mapping for the most frequently appearing `4998` words. This is because we want to reserve the special labels `0` for 'no word' and `1` for 'infrequent word'."
   ]
  },
  {
   "cell_type": "code",
   "execution_count": 11,
   "metadata": {},
   "outputs": [],
   "source": [
    "import numpy as np\n",
    "from collections import Counter\n",
    "\n",
    "def get_word_count(data):\n",
    "    \"\"\"\n",
    "    Determines how often each word appears in `data`. Note that `data` is a list of sentences and that a\n",
    "    sentence is a list of words.\n",
    "    return: A dict storing the words that appear in the reviews along with how often they occur\n",
    "    \"\"\"\n",
    "    word_count = {} \n",
    "    for review in data:\n",
    "        for word in review:\n",
    "            if word in word_count:\n",
    "                word_count[word] += 1\n",
    "            else: \n",
    "                word_count[word] = 1\n",
    "    return word_count\n",
    "\n",
    "def build_dict(data, vocab_size = 5000):\n",
    "    \"\"\"Construct and return a dictionary mapping each of the most frequently appearing words to a unique integer.\"\"\"\n",
    "\n",
    "    word_count = get_word_count(data)\n",
    "     # TODO: Sort the words found in `data` so that sorted_words[0] is the most frequently appearing word and\n",
    "    #       sorted_words[-1] is the least frequently appearing word.  \n",
    "    \n",
    "    sorted_words = [v[0] for v in sorted(word_count.items(), key=lambda kv: kv[1], reverse=True)]                \n",
    "    \n",
    "    word_dict = {} # This is what we are building, a dictionary that translates words into integers\n",
    "    for idx, word in enumerate(sorted_words[:vocab_size - 2]): # The -2 is so that we save room for the 'no word'\n",
    "        word_dict[word] = idx + 2                              # 'infrequent' labels\n",
    "        \n",
    "    return word_dict"
   ]
  },
  {
   "cell_type": "code",
   "execution_count": 12,
   "metadata": {},
   "outputs": [],
   "source": [
    "word_dict = build_dict(train_X)"
   ]
  },
  {
   "cell_type": "code",
   "execution_count": 13,
   "metadata": {},
   "outputs": [
    {
     "name": "stdout",
     "output_type": "stream",
     "text": [
      "{'film': 2, 'movi': 3, 'one': 4, 'like': 5, 'make': 6, 'see': 7, 'well': 8, 'good': 9, 'charact': 10, 'watch': 11, 'stori': 12, 'great': 13, 'time': 14, 'get': 15, 'end': 16, 'would': 17, 'even': 18, 'scene': 19, 'look': 20, 'much': 21, 'bad': 22, 'show': 23, 'realli': 24, 'play': 25, 'love': 26, 'know': 27, 'first': 28, 'way': 29, 'think': 30, 'thing': 31, 'peopl': 32, 'give': 33, 'work': 34, 'also': 35, 'could': 36, 'seem': 37, 'made': 38, 'come': 39, 'mani': 40, 'go': 41, 'plot': 42, 'ever': 43, 'still': 44, 'man': 45, 'director': 46, 'seen': 47, 'never': 48, 'act': 49, 'best': 50, 'want': 51, 'feel': 52, 'point': 53, 'year': 54, 'part': 55, 'life': 56, 'girl': 57, 'far': 58, 'fact': 59, 'actor': 60, 'real': 61, 'perform': 62, 'use': 63, 'two': 64, 'take': 65, 'interest': 66, 'though': 67, 'start': 68, 'better': 69, 'someth': 70, 'anoth': 71, 'right': 72, 'guy': 73, 'tri': 74, 'need': 75, 'kind': 76, 'alway': 77, 'everi': 78, 'final': 79, 'person': 80, 'question': 81, 'big': 82, 'shot': 83, 'enough': 84, 'believ': 85, 'idea': 86, 'cast': 87, 'friend': 88, 'long': 89, 'lot': 90, 'old': 91, 'howev': 92, 'war': 93, 'book': 94, 'view': 95, 'money': 96, 'littl': 97, 'beauti': 98, 'complet': 99, 'bore': 100, 'tell': 101, 'fun': 102, 'set': 103, 'say': 104, 'world': 105, 'game': 106, 'role': 107, 'hollywood': 108, 'might': 109, 'live': 110, 'name': 111, 'comment': 112, 'new': 113, 'episod': 114, 'pretti': 115, 'murder': 116, 'mayb': 117, 'origin': 118, 'recommend': 119, 'must': 120, 'move': 121, 'actual': 122, 'back': 123, 'charli': 124, 'turn': 125, 'given': 126, 'worst': 127, 'horror': 128, 'cours': 129, 'put': 130, 'sinc': 131, 'quit': 132, 'expect': 133, 'action': 134, 'kid': 135, 'problem': 136, 'sure': 137, 'disappoint': 138, 'face': 139, 'funni': 140, 'enjoy': 141, 'wodehous': 142, 'lost': 143, 'day': 144, 'read': 145, 'cinema': 146, 'wors': 147, 'mean': 148, 'victim': 149, 'moment': 150, 'equal': 151, 'call': 152, '2': 153, 'break': 154, 'whole': 155, 'along': 156, 'comedi': 157, 'night': 158, 'writer': 159, 'let': 160, 'write': 161, 'surpris': 162, 'fan': 163, 'star': 164, '10': 165, 'find': 166, 'got': 167, 'chang': 168, 'everyon': 169, 'g': 170, 'attempt': 171, 'happen': 172, 'talent': 173, 'husband': 174, 'answer': 175, 'place': 176, 'least': 177, 'yet': 178, 'camera': 179, 'eye': 180, 'wrong': 181, 'anyon': 182, 'appear': 183, 'second': 184, 'away': 185, 'rather': 186, 'short': 187, 'direct': 188, 'sens': 189, 'job': 190, 'hard': 191, 'saw': 192, 'wonder': 193, 'hous': 194, 'sequenc': 195, 'modern': 196, 'wife': 197, 'may': 198, 'reason': 199, 'emot': 200, 'mind': 201, 'product': 202, 'usual': 203, 'western': 204, 'pain': 205, 'done': 206, 'noth': 207, 'word': 208, 'guess': 209, 'killer': 210, 'becom': 211, 'review': 212, 'style': 213, 'except': 214, 'music': 215, 'someon': 216, 'extrem': 217, 'entir': 218, 'plan': 219, 'social': 220, 'manag': 221, 'fall': 222, 'late': 223, 'keep': 224, 'present': 225, 'learn': 226, 'either': 227, 'without': 228, 'black': 229, 'offend': 230, 'critic': 231, 'differ': 232, 'countri': 233, 'earli': 234, 'care': 235, 'stay': 236, 'wast': 237, 'coupl': 238, 'total': 239, '3': 240, 'audienc': 241, 'flick': 242, 'talk': 243, 'sometim': 244, 'low': 245, 'budget': 246, 'help': 247, 'line': 248, 'video': 249, 'superhero': 250, 'jenni': 251, 'basic': 252, 'consid': 253, 'special': 254, '1': 255, 'titl': 256, 'follow': 257, 'perfect': 258, 'seriou': 259, 'hear': 260, 'oh': 261, 'support': 262, 'togeth': 263, 'three': 264, 'script': 265, 'worth': 266, 'mysteri': 267, 'probabl': 268, 'power': 269, 'aspect': 270, 'straight': 271, 'soundtrack': 272, 'base': 273, 'hero': 274, 'almost': 275, '4': 276, 'went': 277, 'involv': 278, 'run': 279, 'close': 280, 'unlik': 281, 'exampl': 282, 'us': 283, 'found': 284, 'sit': 285, 'open': 286, 'around': 287, 'hope': 288, 'excel': 289, 'alan': 290, 'drama': 291, 'julian': 292, 'sex': 293, 'kung': 294, 'fu': 295, 'nice': 296, 'credit': 297, 'pace': 298, 'creat': 299, 'abl': 300, 'laugh': 301, 'miss': 302, 'stupid': 303, 'piec': 304, 'effect': 305, 'genr': 306, 'chanc': 307, 'state': 308, 'lead': 309, 'lack': 310, 'relationship': 311, 'last': 312, 'less': 313, 'screen': 314, 'qualiti': 315, 'highli': 316, 'speak': 317, 'nick': 318, 'humor': 319, 'felt': 320, 'human': 321, 'light': 322, 'true': 323, 'possibl': 324, 'five': 325, 'behind': 326, 'amaz': 327, 'fight': 328, 'begin': 329, 'school': 330, 'minut': 331, 'tintin': 332, 'seri': 333, 'rememb': 334, 'thought': 335, 'die': 336, 'top': 337, 'okay': 338, 'barman': 339, 'art': 340, 'anyth': 341, 'main': 342, 'famili': 343, 'slow': 344, 'car': 345, 'full': 346, 'blank': 347, 'boy': 348, 'zombi': 349, 'stop': 350, 'understand': 351, 'rate': 352, 'appreci': 353, 'porter': 354, 'wait': 355, 'especi': 356, 'rest': 357, 'super': 358, 'bizarr': 359, 'american': 360, 'stuff': 361, 'continu': 362, 'novel': 363, 'career': 364, 'hors': 365, 'said': 366, 'entertain': 367, 'system': 368, 'ladi': 369, 'six': 370, 'logic': 371, 'deserv': 372, 'unfortun': 373, 'develop': 374, 'post': 375, 'sort': 376, 'insid': 377, 'save': 378, 'aw': 379, 'poor': 380, 'white': 381, 'fassbind': 382, 'portray': 383, 'cannot': 384, 'mann': 385, 'half': 386, 'thank': 387, 'averag': 388, 'terribl': 389, 'impress': 390, 'artist': 391, 'left': 392, 'non': 393, 'mood': 394, 'french': 395, 'overal': 396, 'amount': 397, 'dead': 398, 'documentari': 399, 'dvd': 400, 'side': 401, 'although': 402, 'woman': 403, 'messag': 404, 'allen': 405, 'came': 406, 'jay': 407, 'thurman': 408, 'odd': 409, 'ask': 410, 'normal': 411, 'goe': 412, 'easi': 413, 'among': 414, 'dicken': 415, 'georg': 416, 'difficult': 417, 'mr': 418, 'huge': 419, 'brilliant': 420, 'cartoon': 421, 'serv': 422, 'type': 423, 'high': 424, 'fail': 425, 'bodi': 426, 'earlier': 427, 'home': 428, 'control': 429, 'includ': 430, 'dialog': 431, 'imagin': 432, 'stand': 433, 'troubl': 434, 'villain': 435, 'crimin': 436, 'weird': 437, 'result': 438, 'often': 439, 'self': 440, 'appeal': 441, 'pictur': 442, 'note': 443, 'edit': 444, 'exactli': 445, 'express': 446, 'certainli': 447, 'provid': 448, 'caus': 449, 'shock': 450, 'brother': 451, 'perhap': 452, 'dog': 453, '50': 454, 'contain': 455, 'crap': 456, 'realiz': 457, 'convinc': 458, 'dialect': 459, 'relat': 460, 'depict': 461, 'simpli': 462, 'rule': 463, 'stewart': 464, 'chase': 465, 'red': 466, 'bend': 467, 'other': 468, 'fairli': 469, 'violenc': 470, 'leav': 471, 'joke': 472, 'clich': 473, 'dialogu': 474, 'instead': 475, 'jame': 476, 'c': 477, 'interview': 478, 'comic': 479, 'central': 480, 'suffer': 481, 'girlfriend': 482, 'footag': 483, 'releas': 484, 'hand': 485, 'rent': 486, 'term': 487, 'wish': 488, 'letter': 489, 'kill': 490, 'heart': 491, 'throughout': 492, 'els': 493, 'select': 494, 'serial': 495, 'excit': 496, 'pass': 497, 'respect': 498, 'charm': 499, 'connect': 500, 'prison': 501, 'parent': 502, 'chou': 503, 'matt': 504, 'wilson': 505, 'choic': 506, 'twist': 507, 'experi': 508, 'david': 509, 'unbeliev': 510, 'garbag': 511, 'johnson': 512, 'famou': 513, 'robert': 514, 'third': 515, 'author': 516, 'success': 517, 'agre': 518, 'pleas': 519, 'took': 520, 'unabl': 521, 'despit': 522, 'young': 523, 'win': 524, 'gener': 525, 'dress': 526, 'song': 527, 'notic': 528, 'mistak': 529, 'band': 530, 'marri': 531, 'remark': 532, 'carri': 533, 'fine': 534, 'mix': 535, 'toward': 536, 'whose': 537, 'suggest': 538, 'strang': 539, 'later': 540, 'knew': 541, 'produc': 542, 'issu': 543, 'deliv': 544, 'outsid': 545, 'player': 546, 'smile': 547, 'today': 548, 'william': 549, 'remak': 550, 'ye': 551, 'jack': 552, 'tim': 553, 'decent': 554, 'spend': 555, 'mention': 556, 'none': 557, 'anim': 558, 'r': 559, 'synthesi': 560, 'classic': 561, 'approach': 562, 'respons': 563, 'simpl': 564, 'everyth': 565, 'anybodi': 566, 'room': 567, 'somehow': 568, 'hell': 569, 'date': 570, 'order': 571, 'alreadi': 572, 'bunch': 573, 'deniro': 574, 'admit': 575, 'captain': 576, 'regular': 577, 'shoulder': 578, 'meet': 579, 'paul': 580, 'uninterest': 581, 'spoiler': 582, 'filmmak': 583, 'sever': 584, 'larg': 585, 'disabl': 586, 'deal': 587, 'next': 588, 'busi': 589, 'posit': 590, 'pathet': 591, 'beat': 592, 'scari': 593, 'child': 594, 'shoot': 595, 'appar': 596, 'colleg': 597, 'polit': 598, 'explain': 599, 'soldier': 600, 'fantast': 601, 'father': 602, 'london': 603, 'skill': 604, 'build': 605, 'reveal': 606, 'lose': 607, 'ex': 608, 'situat': 609, 'grace': 610, 'element': 611, 'dancer': 612, 'actress': 613, 'small': 614, 'team': 615, 'christma': 616, 'danni': 617, 'intens': 618, 'add': 619, 'quick': 620, 'b': 621, 'magic': 622, 'romanc': 623, 'match': 624, 'henri': 625, 'hilari': 626, 'master': 627, 'mal': 628, 'fiqu': 629, 'wall': 630, 'contest': 631, 'preming': 632, 'andrew': 633, 'train': 634, 'maker': 635, 'anyway': 636, 'honest': 637, 'combin': 638, 'atmospher': 639, 'pull': 640, 'confus': 641, 'church': 642, 'fast': 643, 'forward': 644, 'trust': 645, 'cheap': 646, 'pointless': 647, 'statu': 648, 'ed': 649, 'compar': 650, 'stick': 651, 'reach': 652, 'british': 653, 'remain': 654, 'failur': 655, 'score': 656, 'gardin': 657, 'head': 658, 'burn': 659, 'drive': 660, 'weak': 661, 'somewhat': 662, 'thriller': 663, 'asid': 664, 'standard': 665, 'noir': 666, 'popular': 667, 'concern': 668, 'sloan': 669, 'partner': 670, 'speech': 671, 'told': 672, 'thu': 673, 'possess': 674, 'known': 675, 'intellig': 676, 'statement': 677, 'forth': 678, 'studio': 679, 'opinion': 680, 'fulli': 681, 'promis': 682, 'presenc': 683, 'disast': 684, 'ben': 685, 'co': 686, 'worker': 687, 'invent': 688, 'share': 689, 'million': 690, 'concept': 691, 'avoid': 692, 'nazi': 693, 'women': 694, 'men': 695, 'thesi': 696, 'antithesi': 697, 'opposit': 698, 'death': 699, 'daniel': 700, 'form': 701, 'misus': 702, 'valu': 703, 'besid': 704, 'finish': 705, 'otherwis': 706, 'singl': 707, 'hole': 708, 'cinematographi': 709, 'nobodi': 710, 'histori': 711, 'receiv': 712, 'mark': 713, 'wed': 714, 'bring': 715, 'unfunni': 716, 'dull': 717, 'god': 718, 'sad': 719, 'ludicr': 720, 'mostli': 721, 'ago': 722, 'doubt': 723, 'recent': 724, 'herg': 725, 'variou': 726, 'local': 727, 'drawn': 728, 'cover': 729, 'daughter': 730, 'class': 731, 'taylor': 732, 'deu': 733, 'nation': 734, 'case': 735, '5': 736, 'previou': 737, 'shown': 738, 'scream': 739, 'kept': 740, 'oscar': 741, 'collect': 742, 'uniqu': 743, 'eric': 744, 'annoy': 745, 'middl': 746, 'conclus': 747, 'accept': 748, 'within': 749, 'yeah': 750, 'boyfriend': 751, 'rubbish': 752, 'muslim': 753, 'fiction': 754, 'michael': 755, 'featur': 756, 'obvious': 757, 'requir': 758, 'hour': 759, 'narr': 760, 'mummi': 761, 'educ': 762, 'attack': 763, 'wild': 764, 'satisfi': 765, 'english': 766, 'paragraph': 767, 'forc': 768, 'ridicul': 769, 'natur': 770, 'halloween': 771, 'sister': 772, 'hidden': 773, 'memor': 774, 'exist': 775, 'babi': 776, 'unfold': 777, 'cheadl': 778, 'layer': 779, 'danger': 780, 'viewer': 781, 'smith': 782, 'theme': 783, 'king': 784, 'hit': 785, 'brian': 786, 'ride': 787, 'burst': 788, 'earth': 789, 'buff': 790, 'matador': 791, 'blood': 792, 'desper': 793, 'bit': 794, 'nuditi': 795, 'cameo': 796, 'bear': 797, 'kate': 798, 'root': 799, 'easili': 800, 'ensur': 801, 'cell': 802, 'mst3k': 803, 'iron': 804, 'panel': 805, 'cut': 806, 'safe': 807, 'obviou': 808, 'vonnegut': 809, 'reitman': 810, 'heavi': 811, 'leno': 812, 'meli': 813, 'jafri': 814, 'encourag': 815, 'unexpect': 816, 'profession': 817, 'pallbear': 818, 'walk': 819, 'brain': 820, 'silli': 821, 'wood': 822, '9': 823, 'beyond': 824, 'incred': 825, 'level': 826, 'indian': 827, 'wrote': 828, 'orwel': 829, 'paper': 830, 'surte': 831, 'hunt': 832, 'lover': 833, 'determin': 834, 'grow': 835, 'definit': 836, 'suppos': 837, 'submiss': 838, 'scheme': 839, 'rescu': 840, 'figur': 841, 'waugh': 842, 'gift': 843, 'touch': 844, 'kegg': 845, 'opera': 846, 'typic': 847, 'affair': 848, 'due': 849, 'albert': 850, 'pot': 851, 'switch': 852, 'depend': 853, 'lucki': 854, 'graci': 855, 'marvel': 856, 'roger': 857, 'speed': 858, 'addict': 859, 'moon': 860, 'period': 861, 'happi': 862, 'sailor': 863, 'sea': 864, 'law': 865, 'ander': 866, 'topic': 867, 'mental': 868, 'breakdown': 869, 'employ': 870, 'deep': 871, 'thrown': 872, 'mess': 873, 'vehicl': 874, 'twenti': 875, 'sum': 876, 'controversi': 877, 'recov': 878, 'dare': 879, 'mere': 880, 'knowledg': 881, 'john': 882, 'version': 883, 'x': 884, 'absolut': 885, 'envi': 886, 'decid': 887, 'intend': 888, 'cost': 889, 'manner': 890, 'societi': 891, 'instanc': 892, 'necessarili': 893, 'particip': 894, 'privat': 895, 'repeat': 896, 'longer': 897, 'imag': 898, 'ensembl': 899, 'ford': 900, 'darl': 901, 'river': 902, 'west': 903, 'winchest': 904, 'magnific': 905, 'lock': 906, 'physic': 907, 'punish': 908, 'drag': 909, 'nevertheless': 910, 'monument': 911, 'theater': 912, 'halfway': 913, 'crude': 914, 'prior': 915, '7': 916, 'vote': 917, 'relev': 918, 'focus': 919, 'brashear': 920, 'rough': 921, 'struggl': 922, 'dive': 923, 'accomplish': 924, 'enter': 925, 'soon': 926, 'arrog': 927, 'unless': 928, 'cool': 929, 'truth': 930, 'pb': 931, 'creator': 932, 'page': 933, 'children': 934, 'store': 935, 'written': 936, 'anti': 937, 'accent': 938, 'polic': 939, 'fake': 940, 'dean': 941, 'redeem': 942, 'album': 943, 'quickli': 944, 'rose': 945, 'dilut': 946, 'clearli': 947, 'inspir': 948, 'destini': 949, 'hide': 950, 'sadli': 951, 'attent': 952, 'locat': 953, 'secretari': 954, 'repres': 955, 'waterd': 956, 'stoltz': 957, 'forsyth': 958, 'snipe': 959, 'thoroughli': 960, 'process': 961, 'addit': 962, 'syndrom': 963, 'abus': 964, 'n': 965, 'spradl': 966, 'wear': 967, 'listen': 968, 'sunni': 969, '100': 970, 'jail': 971, 'scienc': 972, 'cheesi': 973, 'buy': 974, 'front': 975, 'screenwrit': 976, 'ignor': 977, 'market': 978, 'current': 979, 'fill': 980, 'etc': 981, 'frighten': 982, 'truli': 983, 'fade': 984, 'throw': 985, 'poison': 986, 'common': 987, 'superb': 988, 'host': 989, 'rothrock': 990, 'veteran': 991, 'return': 992, 'evil': 993, 'steal': 994, 'attitud': 995, 'target': 996, 'daneliuc': 997, 'genuin': 998, 'heroin': 999, 'insan': 1000, 'slaughter': 1001, 'town': 1002, 'terror': 1003, 'rob': 1004, 'disney': 1005, '80': 1006, 'burt': 1007, 'loni': 1008, 'anderson': 1009, 'hot': 1010, 'advertis': 1011, 'abil': 1012, 'industri': 1013, 'wake': 1014, 'realis': 1015, 'affect': 1016, 'fineman': 1017, 'sandler': 1018, 'soul': 1019, 'weight': 1020, 'subtl': 1021, 'friendship': 1022, 'likabl': 1023, 'seal': 1024, 'loss': 1025, 'risk': 1026, 'fisher': 1027, 'allow': 1028, 'stab': 1029, 'stumbl': 1030, 'pressur': 1031, 'youth': 1032, 'teenag': 1033, 'passion': 1034, 'ii': 1035, 'conflict': 1036, 'polici': 1037, 'who': 1038, 'insight': 1039, 'tast': 1040, 'worn': 1041, 'avail': 1042, 'materi': 1043, 'option': 1044, 'copi': 1045, 'ghost': 1046, 'masterpiec': 1047, 'woodi': 1048, 'cold': 1049, 'gore': 1050, 'pay': 1051, 'solid': 1052, 'marijuana': 1053, 'misti': 1054, 'roll': 1055, 'lesbian': 1056, 'decad': 1057, 'street': 1058, 'treat': 1059, 'climat': 1060, 'ice': 1061, 'catch': 1062, 'convey': 1063, 'began': 1064, 'dramat': 1065, 'imdb': 1066, 'neg': 1067, 'trailer': 1068, 'utter': 1069, 'warn': 1070, 'york': 1071, 'endur': 1072, 'onto': 1073, 'card': 1074, 'stage': 1075, 'gotten': 1076, 'gay': 1077, 'near': 1078, 'season': 1079, 'sweet': 1080, 'insult': 1081, 'cosmo': 1082, 'butch': 1083, 'crypt': 1084, 'ashley': 1085, 'practic': 1086, 'pure': 1087, 'strong': 1088, 'design': 1089, 'prove': 1090, 'plain': 1091, 'scroog': 1092, 'mold': 1093, 'grinch': 1094, 'dollar': 1095, 'earn': 1096, 'tension': 1097, 'mother': 1098, 'cinemat': 1099, 'femal': 1100, 'miyazaki': 1101, 'check': 1102, 'uma': 1103, 'cop': 1104, 'luke': 1105, 'romant': 1106, 'bedlam': 1107, 'de': 1108, 'import': 1109, 'sound': 1110, 'krabb': 1111, 'verhoeven': 1112, 'turkish': 1113, 'robberi': 1114, 'ryan': 1115, 'contact': 1116, 'cure': 1117, 'color': 1118, 'suit': 1119, 'bode': 1120, 'futur': 1121, 'gwyneth': 1122, 'paltrow': 1123, 'particularli': 1124, 'group': 1125, 'trash': 1126, 'cult': 1127, 'citizen': 1128, 'kane': 1129, 'al': 1130, 'intern': 1131, 'price': 1132, 'creatur': 1133, 'descend': 1134, 'revers': 1135, 'chief': 1136, 'charl': 1137, 'reader': 1138, 'contemporari': 1139, 'concentr': 1140, 'fanci': 1141, 'forget': 1142, 'transcend': 1143, 'fellow': 1144, 'p': 1145, 'upper': 1146, 'earl': 1147, 'emsworth': 1148, 'rais': 1149, 'england': 1150, 'prepar': 1151, 'profit': 1152, 'apart': 1153, 'inept': 1154, 'limit': 1155, 'purpos': 1156, 'bill': 1157, 'kern': 1158, 'tune': 1159, 'transpos': 1160, 'dozen': 1161, 'distress': 1162, 'screenplay': 1163, 'friendli': 1164, 'occasion': 1165, 'italian': 1166, 'collier': 1167, 'cash': 1168, 'fred': 1169, 'astair': 1170, 'danc': 1171, 'illog': 1172, 'mad': 1173, 'son': 1174, 'ray': 1175, 'offic': 1176, 'fontain': 1177, 'timothi': 1178, 'joli': 1179, 'disgrac': 1180, 'drug': 1181, 'muddl': 1182, 'rush': 1183, 'shanghai': 1184, 'orson': 1185, 'hayworth': 1186, 'crippl': 1187, 'glenn': 1188, 'suicid': 1189, 'verg': 1190, 'ensu': 1191, 'directori': 1192, 'watchabl': 1193, 'destruct': 1194, 'fatal': 1195, 'presum': 1196, 'grisbi': 1197, 'disturb': 1198, 'nag': 1199, 'tend': 1200, 'brilliantli': 1201, 'despis': 1202, 'portrait': 1203, 'rare': 1204, 'hire': 1205, 'prestigi': 1206, 'decis': 1207, 'novak': 1208, 'tv': 1209, 'bland': 1210, 'stiller': 1211, 'ami': 1212, 'walken': 1213, 'factori': 1214, 'buddi': 1215, 'offer': 1216, 'henc': 1217, 'j': 1218, 'protagonist': 1219, 'lili': 1220, 'marleen': 1221, '1981': 1222, 'belong': 1223, 'maria': 1224, 'braun': 1225, 'lola': 1226, 'accord': 1227, 'coincid': 1228, 'chiastic': 1229, 'illustr': 1230, 'citi': 1231, '1975': 1232, 'shadow': 1233, 'angel': 1234, 'germani': 1235, 'exhaust': 1236, 'mutual': 1237, 'viewpoint': 1238, 'ethic': 1239, 'conscienc': 1240, 'deed': 1241, 'neither': 1242, 'mirror': 1243, 'describ': 1244, 'curiou': 1245, 'clementin': 1246, 'nake': 1247, 'strip': 1248, 'beaten': 1249, 'thread': 1250, 'hatr': 1251, 'fire': 1252, 'hotel': 1253, 'gari': 1254, 'cooper': 1255, 'lord': 1256, 'anthoni': 1257, '16': 1258, 'voter': 1259, 'assum': 1260, 'afternoon': 1261, 'sci': 1262, 'fi': 1263, 'channel': 1264, 'event': 1265, 'overlong': 1266, 'chronicl': 1267, 'mile': 1268, 'helm': 1269, 'adapt': 1270, 'honor': 1271, 'goal': 1272, 'sentiment': 1273, 'sunday': 1274, 'vibe': 1275, 'hate': 1276, 'multipl': 1277, 'stun': 1278, 'seat': 1279, 'air': 1280, 'k': 1281, 'discuss': 1282, 'publish': 1283, 'awesom': 1284, 'surreal': 1285, 'dream': 1286, 'librari': 1287, 'secret': 1288, 'cd': 1289, 'treasur': 1290, 'free': 1291, 'construct': 1292, 'strike': 1293, 'corner': 1294, 'dedic': 1295, 'giant': 1296, 'overli': 1297, 'energi': 1298, 'rock': 1299, 'notion': 1300, 'resist': 1301, 'land': 1302, 'accur': 1303, 'ranch': 1304, 'belgian': 1305, 'innov': 1306, 'scale': 1307, 'ego': 1308, 'hurt': 1309, 'fell': 1310, 'crash': 1311, '1999': 1312, 'songwrit': 1313, 'provok': 1314, 'friday': 1315, 'antwerp': 1316, 'slightli': 1317, 'loud': 1318, 'minor': 1319, 'pizza': 1320, 'content': 1321, 'contribut': 1322, 'joy': 1323, 'factor': 1324, 'hardli': 1325, 'flemmish': 1326, 'sharp': 1327, 'websit': 1328, 'terrif': 1329, 'devot': 1330, 'attach': 1331, 'premis': 1332, 'wesley': 1333, 'mainli': 1334, 'stereotyp': 1335, 'handicap': 1336, 'admittedli': 1337, 'perman': 1338, 'despic': 1339, 'somewher': 1340, 'monster': 1341, 'offici': 1342, 'breakfast': 1343, 'verbal': 1344, 'spiderman': 1345, 'lay': 1346, 'sorri': 1347, 'number': 1348, 'valentin': 1349, 'wit': 1350, 'tiger': 1351, 'pattern': 1352, 'vampir': 1353, 'rendit': 1354, 'bollywood': 1355, 'volum': 1356, 'deol': 1357, 'kick': 1358, 'metal': 1359, 'door': 1360, 'claim': 1361, 'sexi': 1362, 'remind': 1363, '60': 1364, 'turkey': 1365, 'sexual': 1366, 'taken': 1367, 'golden': 1368, 'univers': 1369, 'pan': 1370, 'eddi': 1371, 'monk': 1372, 'expressionbad': 1373, 'chop': 1374, 'bird': 1375, 'pop': 1376, 'bloodi': 1377, 'blame': 1378, 'loos': 1379, 'faith': 1380, 'lie': 1381, 'sell': 1382, 'conserv': 1383, 'vh': 1384, 'cabl': 1385, 'serious': 1386, 'duplic': 1387, 'mytholog': 1388, 'north': 1389, 'america': 1390, 'magazin': 1391, 'revolt': 1392, 'ought': 1393, 'detail': 1394, 'forgot': 1395, 'purchas': 1396, 'crazi': 1397, 'nearbi': 1398, 'robe': 1399, 'neck': 1400, 'display': 1401, 'wallac': 1402, 'deck': 1403, 'exot': 1404, 'im': 1405, 'imposs': 1406, 'submit': 1407, 'laid': 1408, 'copyright': 1409, 'site': 1410, 'guidelin': 1411, 'html': 1412, 'board': 1413, 'insert': 1414, 'china': 1415, 'brien': 1416, '1990': 1417, 'cynthia': 1418, 'dragon': 1419, 'ms': 1420, 'richard': 1421, 'notch': 1422, 'label': 1423, 'europ': 1424, 'moral': 1425, 'stanc': 1426, 'fate': 1427, 'foreign': 1428, 'incoher': 1429, 'subject': 1430, 'awkward': 1431, 'storytel': 1432, 'shine': 1433, 'cinematograph': 1434, 'keeper': 1435, 'amateurish': 1436, 'financ': 1437, 'via': 1438, 'driven': 1439, 'corrupt': 1440, 'squander': 1441, 'cultur': 1442, 'field': 1443, 'engag': 1444, 'lauri': 1445, 'debut': 1446, 'defin': 1447, 'cross': 1448, 'path': 1449, 'myer': 1450, 'stalk': 1451, 'pick': 1452, 'moodi': 1453, 'gloomi': 1454, 'constantli': 1455, 'chill': 1456, 'alon': 1457, 'spawn': 1458, 'seven': 1459, 'sequel': 1460, '1950': 1461, 'stone': 1462, 'former': 1463, 'reynold': 1464, 'plu': 1465, 'butt': 1466, 'technic': 1467, 'warm': 1468, 'renew': 1469, 'shape': 1470, 'initi': 1471, 'own': 1472, 'inher': 1473, 'tyler': 1474, 'navig': 1475, 'sheer': 1476, 'deni': 1477, 'deepli': 1478, 'demon': 1479, 'admir': 1480, 'recogn': 1481, 'silent': 1482, 'reward': 1483, 'isol': 1484, 'forgett': 1485, 'motorcycl': 1486, 'fli': 1487, 'nearli': 1488, 'wound': 1489, 'captur': 1490, 'usa': 1491, 'swedish': 1492, 'dawson': 1493, 'lesson': 1494, 'awe': 1495, 'outstand': 1496, 'battl': 1497, 'televis': 1498, '120': 1499, 'menu': 1500, 'diminish': 1501, '30': 1502, 'broadcast': 1503, 'buffalo': 1504, 'station': 1505, 'challeng': 1506, 'psycholog': 1507, 'gorgeou': 1508, 'repetit': 1509, 'supernatur': 1510, 'tale': 1511, 'bbc': 1512, 'surpass': 1513, 'fault': 1514, 'hill': 1515, 'tire': 1516, 'ir': 1517, 'agent': 1518, 'thoma': 1519, 'frustrat': 1520, 'key': 1521, 'hook': 1522, 'readi': 1523, 'past': 1524, 'unusu': 1525, 'brosnan': 1526, 'experienc': 1527, 'spent': 1528, 'lone': 1529, 'kinnear': 1530, 'assassin': 1531, 'gross': 1532, '99': 1533, 'rip': 1534, 'devil': 1535, 'quirk': 1536, 'convers': 1537, 'plea': 1538, 'major': 1539, 'joe': 1540, 'pound': 1541, 'gun': 1542, 'random': 1543, 'debt': 1544, 'discov': 1545, 'smoke': 1546, 'professor': 1547, 'stock': 1548, 'nasti': 1549, 'costum': 1550, 'nomin': 1551, 'core': 1552, 'raider': 1553, 'f': 1554, 'four': 1555, 'grab': 1556, 'lull': 1557, 'overdon': 1558, 'scheider': 1559, 'round': 1560, 'secur': 1561, 'nod': 1562, 'justic': 1563, 'degener': 1564, 'celebr': 1565, 'herd': 1566, 'polar': 1567, 'introduc': 1568, 'global': 1569, 'shrink': 1570, 'migrat': 1571, 'across': 1572, 'spectacular': 1573, 'motion': 1574, 'recal': 1575, 'seventi': 1576, 'instruct': 1577, 'avenet': 1578, 'bradley': 1579, 'feedback': 1580, 'hype': 1581, 'creativ': 1582, 'cube': 1583, 'absurdist': 1584, 'explan': 1585, 'similar': 1586, 'reverber': 1587, 'welcom': 1588, 'glad': 1589, 'regard': 1590, 'newer': 1591, 'effort': 1592, 'progress': 1593, 'upon': 1594, 'refer': 1595, 'teen': 1596, 'age': 1597, 'lite': 1598, 'cylon': 1599, 'dot': 1600, 'object': 1601, 'aspir': 1602, 'johansson': 1603, 'hugh': 1604, 'jackman': 1605, 'comed': 1606, 'unsur': 1607, 'canadian': 1608, 'sick': 1609, 'trick': 1610, 'week': 1611, 'greatli': 1612, 'cleverli': 1613, 'tasti': 1614, 'bright': 1615, 'pepto': 1616, 'bismol': 1617, 'timmi': 1618, 'simpson': 1619, 'hartman': 1620, 'vulgar': 1621, 'cancel': 1622, 'freddi': 1623, '1st': 1624, 'narrat': 1625, 'heard': 1626, 'parker': 1627, 'chloe': 1628, 'attract': 1629, 'psychic': 1630, 'lake': 1631, 'bell': 1632, 'spirit': 1633, 'substanc': 1634, 'bigg': 1635, 'spread': 1636, 'rumor': 1637, 'pvt': 1638, 'snafu': 1639, 'confid': 1640, 'bomb': 1641, 'meant': 1642, 'tens': 1643, 'cheer': 1644, 'acquir': 1645, '250': 1646, 'reviv': 1647, 'compliment': 1648, 'bibl': 1649, 'peck': 1650, 'grip': 1651, 'shakespear': 1652, 'asleep': 1653, 'doubl': 1654, 'unintent': 1655, 'guin': 1656, 'dread': 1657, 'finney': 1658, 'blend': 1659, 'alley': 1660, 'australian': 1661, '105': 1662, 'razor': 1663, 'guard': 1664, 'suddenli': 1665, 'pregnant': 1666, 'motiv': 1667, 'subdu': 1668, 'australia': 1669, 'ebert': 1670, 'carrey': 1671, 'makeup': 1672, 'momsen': 1673, 'cindi': 1674, 'lou': 1675, 'whovil': 1676, 'voic': 1677, 'space': 1678, 'shatner': 1679, 'model': 1680, 'complex': 1681, 'phrase': 1682, 'network': 1683, 'separ': 1684, 'correct': 1685, '13': 1686, 'rang': 1687, '000': 1688, 'ad': 1689, 'held': 1690, 'biggest': 1691, 'block': 1692, 'geek': 1693, 'champion': 1694, 'castl': 1695, 'panahi': 1696, 'resourc': 1697, 'gave': 1698, 'wagon': 1699, 'loser': 1700, 'psycho': 1701, 'award': 1702, 'whip': 1703, 'ivan': 1704, 'payn': 1705, 'nut': 1706, 'intent': 1707, 'barri': 1708, 'dana': 1709, 'facial': 1710, 'rage': 1711, 'eager': 1712, 'gripe': 1713, 'snippet': 1714, 'judd': 1715, 'feminist': 1716, 'soap': 1717, 'liber': 1718, 'cerebr': 1719, 'palsi': 1720, 'christi': 1721, 'brown': 1722, 'barr': 1723, 'nastassja': 1724, 'kinski': 1725, 'heist': 1726, 'clooney': 1727, 'wise': 1728, 'petersson': 1729, 'lousi': 1730, 'rancid': 1731, 'aluminium': 1732, 'hahahaha': 1733, 'prop': 1734, 'clown': 1735, 'morita': 1736, 'gerard': 1737, 'christin': 1738, 'soutendijk': 1739, 'hoffman': 1740, 'male': 1741, 'spetter': 1742, 'symbol': 1743, 'powerhous': 1744, 'denmark': 1745, 'borrow': 1746, 'spoil': 1747, 'pioneer': 1748, 'trip': 1749, 'loom': 1750, 'jump': 1751, 'link': 1752, 'parti': 1753, 'arm': 1754, 'phil': 1755, 'mucci': 1756, 'heck': 1757, 'interestingli': 1758, 'thrill': 1759, 'apprais': 1760, 'tremend': 1761, 'inexperienc': 1762, 'forese': 1763, 'partli': 1764, 'juli': 1765, 'schwimmer': 1766, 'damag': 1767, 'ultra': 1768, 'instant': 1769, 'thor': 1770, 'pacino': 1771, 'gloriou': 1772, 'corman': 1773, 'poe': 1774, 'saga': 1775, 'blaxploit': 1776, 'z': 1777, 'essay': 1778, 'regret': 1779, 'pickwick': 1780, 'precis': 1781, 'misadventur': 1782, 'fox': 1783, 'romford': 1784, 'hound': 1785, 'hunter': 1786, 'unread': 1787, 'sketch': 1788, 'boz': 1789, 'oliv': 1790, 'grim': 1791, 'overlook': 1792, 'poke': 1793, 'prouder': 1794, 'finest': 1795, 'pig': 1796, 'psmith': 1797, 'counterattack': 1798, 'unfair': 1799, 'superior': 1800, 'stanley': 1801, 'uckridg': 1802, 'net': 1803, 'jeev': 1804, 'berti': 1805, 'wooster': 1806, 'boss': 1807, 'mission': 1808, 'glow': 1809, 'evelyn': 1810, 'intellectu': 1811, '20th': 1812, 'centuri': 1813, 'literatur': 1814, 'brideshead': 1815, 'revisit': 1816, 'declin': 1817, 'frequent': 1818, 'collaps': 1819, 'vile': 1820, 'ordeal': 1821, 'gilbert': 1822, 'pinfold': 1823, 'lesser': 1824, 'hack': 1825, 'lyricist': 1826, 'showboat': 1827, 'hammerstein': 1828, 'handi': 1829, 'dramatist': 1830, 'damsel': 1831, 'butler': 1832, 'reginald': 1833, 'scoundrel': 1834, 'rig': 1835, 'gambl': 1836, 'staff': 1837, 'refrain': 1838, 'sing': 1839, 'constanc': 1840, 'impuls': 1841, 'character': 1842, 'alyc': 1843, 'jerri': 1844, 'antic': 1845, 'antagonist': 1846, 'allan': 1847, 'stiff': 1848, 'lip': 1849, 'whisk': 1850, 'broom': 1851, 'carolin': 1852, 'reggi': 1853, 'nobl': 1854, 'leader': 1855, 'goodby': 1856, 'supposedli': 1857, 'box': 1858, 'ginger': 1859, 'joan': 1860, 'flaw': 1861, 'gershwin': 1862, 'duchovney': 1863, 'replic': 1864, 'californ': 1865, 'hutton': 1866, 'angelina': 1867, 'pout': 1868, 'doctor': 1869, 'desir': 1870, 'sultri': 1871, 'headi': 1872, 'cocktail': 1873, 'weaker': 1874, 'fbi': 1875, 'emin': 1876, 'convent': 1877, 'irish': 1878, 'rita': 1879, 'impot': 1880, 'braini': 1881, 'malevol': 1882, 'gusto': 1883, 'everett': 1884, 'voyag': 1885, 'tow': 1886, 'bodyguard': 1887, 'thicken': 1888, 'morbid': 1889, 'calam': 1890, 'fuzzi': 1891, 'leisur': 1892, 'consist': 1893, 'urgenc': 1894, 'incomprehens': 1895, 'resurrect': 1896, 'interven': 1897, 'fetch': 1898, 'femm': 1899, 'peculiar': 1900, 'trait': 1901, 'lovabl': 1902, 'unapp': 1903, 'hammi': 1904, 'hara': 1905, 'easygo': 1906, 'thirti': 1907, 'sean': 1908, 'conneri': 1909, 'shaw': 1910, 'breath': 1911, 'looni': 1912, 'treacher': 1913, 'photograph': 1914, 'sour': 1915, 'choppili': 1916, 'derang': 1917, 'palpabl': 1918, 'anticip': 1919, 'genteel': 1920, 'flamboy': 1921, 'method': 1922, 'fifti': 1923, 'carey': 1924, 'whether': 1925, 'partial': 1926, 'rope': 1927, 'nose': 1928, 'thumb': 1929, 'mogul': 1930, 'suspect': 1931, 'amor': 1932, 'rival': 1933, 'lawyer': 1934, 'broker': 1935, 'rootless': 1936, 'inveter': 1937, 'travel': 1938, 'firestorm': 1939, 'coloni': 1940, 'inabl': 1941, 'forestal': 1942, 'amiabl': 1943, 'naiv': 1944, 'worldlier': 1945, 'visit': 1946, 'deer': 1947, 'fratern': 1948, 'holden': 1949, 'kim': 1950, 'gen': 1951, 'er': 1952, 'kraft': 1953, 'chees': 1954, 'poehler': 1955, 'christoph': 1956, 'dingman': 1957, 'vanderpark': 1958, 'sandpap': 1959, 'afford': 1960, 'dreamer': 1961, 'spray': 1962, 'poop': 1963, 'disappear': 1964, 'invest': 1965, 'refus': 1966, 'va': 1967, 'poo': 1968, 'rize': 1969, 'larger': 1970, 'trainer': 1971, 'desert': 1972, 'christop': 1973, 'homeless': 1974, 'pun': 1975, 'tuxi': 1976, 'bathroom': 1977, 'w': 1978, 'wilki': 1979, 'connoisseur': 1980, 'marriag': 1981, '1979': 1982, 'fulfil': 1983, 'capabl': 1984, 'moreov': 1985, 'abolish': 1986, 'concret': 1987, 'fascist': 1988, 'underground': 1989, 'fighter': 1990, 'ruler': 1991, 'abstract': 1992, 'schmid': 1993, '1976': 1994, 'therefor': 1995, 'priori': 1996, 'recognit': 1997, 'primit': 1998, 'schema': 1999, 'member': 2000, 'scrutin': 2001, 'synthet': 2002, 'establish': 2003, 'insuffici': 2004, 'survivor': 2005, 'ancestor': 2006, 'exclud': 2007, 'evalu': 2008, 'condemn': 2009, 'strategi': 2010, 'legitim': 2011, 'structur': 2012, 'unequ': 2013, 'uneven': 2014, 'gap': 2015, 'furi': 2016, '73': 2017, 'yep': 2018, 'spur': 2019, 'glare': 2020, 'laps': 2021, 'greatest': 2022, 'mawkish': 2023, 'aliv': 2024, 'mc': 2025, 'horn': 2026, 'pedestrian': 2027, 'larami': 2028, 'hang': 2029, 'boil': 2030, 'somebodi': 2031, 'displac': 2032, 'dachau': 2033, 'raft': 2034, 'winc': 2035, 'territori': 2036, 'record': 2037, 'extremi': 2038, 'scetchi': 2039, 'roar': 2040, 'sat': 2041, 'samoan': 2042, 'wreck': 2043, 'yawn': 2044, 'peev': 2045, 'predict': 2046, '2006': 2047, 'ugli': 2048, 'shout': 2049, 'higher': 2050, 'primarili': 2051, 'characterless': 2052, 'raini': 2053, 'rebroadcast': 2054, 'pedant': 2055, 'fabric': 2056, 'birth': 2057, 'feder': 2058, 'bureau': 2059, 'investig': 2060, 'promisingli': 2061, 'probe': 2062, 'airplan': 2063, 'explos': 2064, 'melodrama': 2065, 'vera': 2066, 'habit': 2067, 'tepid': 2068, 'wive': 2069, 'duress': 2070, 'fray': 2071, 'nerv': 2072, 'arriv': 2073, 'schedul': 2074, 'esteem': 2075, 'mervyn': 2076, 'leroy': 2077, 'whitehead': 2078, 'murray': 2079, 'hamilton': 2080, 'twice': 2081, 'plenti': 2082, 'carl': 2083, 'cuba': 2084, 'jr': 2085, 'african': 2086, 'diver': 2087, 'navi': 2088, 'farmer': 2089, 'tamper': 2090, 'test': 2091, 'mater': 2092, 'teacher': 2093, 'attend': 2094, 'omit': 2095, 'wilpow': 2096, 'punch': 2097, 'snooz': 2098, 'v': 2099, 'tape': 2100, 'remi': 2101, '1971': 2102, 'cathol': 2103, 'newspap': 2104, 'sweep': 2105, 'encount': 2106, 'digest': 2107, 'elementari': 2108, 'unicorn': 2109, 'mom': 2110, 'subscript': 2111, 'rackham': 2112, 'month': 2113, '1978': 2114, '12': 2115, 'outgrow': 2116, '1989': 2117, 'colorist': 2118, 'fanni': 2119, 'updat': 2120, '07': 2121, 'tailor': 2122, 'capitalist': 2123, 'rabbl': 2124, 'rouser': 2125, 'chip': 2126, 'dearli': 2127, 'vow': 2128, 'employe': 2129, 'faulti': 2130, 'equip': 2131, 'accid': 2132, 'cockney': 2133, 'intact': 2134, 'approv': 2135, 'nonetheless': 2136, 'snowi': 2137, 'contrapt': 2138, 'utterli': 2139, 'hudson': 2140, 'elizabeth': 2141, 'rancher': 2142, 'drill': 2143, 'oil': 2144, 'absurd': 2145, 'houston': 2146, 'coffe': 2147, 'texa': 2148, 'hud': 2149, 'newman': 2150, 'counterpoint': 2151, 'bewar': 2152, 'writeup': 2153, 'tom': 2154, 'frontman': 2155, '90': 2156, 'belgium': 2157, 'adventur': 2158, 'fame': 2159, 'monick': 2160, 'tamer': 2161, 'breakthrough': 2162, 'ideal': 2163, 'musician': 2164, 'shallow': 2165, 'shortcom': 2166, 'wind': 2167, 'enthral': 2168, 'banana': 2169, 'pepper': 2170, 'thousand': 2171, 'johni': 2172, 'tarantino': 2173, 'ost': 2174, 'commerci': 2175, 'weakest': 2176, 'sight': 2177, 'daerden': 2178, 'aileen': 2179, 'gonsalv': 2180, 'bank': 2181, 'roshan': 2182, 'seth': 2183, 'restaur': 2184, 'inform': 2185, 'extraordinari': 2186, 'mesmer': 2187, 'photographi': 2188, 'deservedli': 2189, 'warmli': 2190, '1991': 2191, 'rehab': 2192, 'center': 2193, 'similarli': 2194, 'injur': 2195, 'harsh': 2196, 'confin': 2197, 'wheelchair': 2198, 'deploy': 2199, 'schmaltz': 2200, 'et': 2201, 'prick': 2202, 'soften': 2203, 'romantic': 2204, 'parcel': 2205, 'vari': 2206, 'degre': 2207, 'disneyfi': 2208, 'ground': 2209, 'flame': 2210, 'narcissist': 2211, 'inexplic': 2212, 'forgiv': 2213, 'apolog': 2214, 'forgiven': 2215, 'obnoxi': 2216, 'club': 2217, 'bulli': 2218, 'everybodi': 2219, 'earshot': 2220, 'latest': 2221, 'supervillain': 2222, 'sandman': 2223, 'chunk': 2224, 'manhattan': 2225, 'wail': 2226, '15': 2227, 'monoton': 2228, 'wave': 2229, 'bye': 2230, 'egregi': 2231, 'if': 2232, 'racist': 2233, 'biker': 2234, 'whoop': 2235, 'slap': 2236, '81': 2237, 'span': 2238, 'handl': 2239, 'scott': 2240, 'merrideth': 2241, 'tie': 2242, 'highlight': 2243, 'beach': 2244, 'chummi': 2245, 'boorish': 2246, 'denic': 2247, 'duff': 2248, 'bloodstorm': 2249, 'subspeci': 2250, 'punctuat': 2251, 'honestli': 2252, 'gadar': 2253, 'overr': 2254, 'anil': 2255, 'sharma': 2256, 'prefer': 2257, 'daft': 2258, 'teesri': 2259, 'aankh': 2260, 'amisha': 2261, 'patel': 2262, 'bone': 2263, 'cloth': 2264, 'laughabl': 2265, 'amus': 2266, 'ida': 2267, 'lupino': 2268, '53': 2269, 'hitch': 2270, 'hiker': 2271, 'assault': 2272, 'leonard': 2273, 'maltin': 2274, '1986': 2275, 'badli': 2276, 'glitter': 2277, 'murphi': 2278, 'itit': 2279, 'buddist': 2280, 'kneel': 2281, 'templechild': 2282, 'monkschild': 2283, 'cage': 2284, 'sleepov': 2285, 'jackson': 2286, 'wonderland': 2287, 'wooden': 2288, 'childth': 2289, '1980': 2290, 'heavili': 2291, 'funki': 2292, '2004': 2293, 'jar': 2294, 'splice': 2295, 'commenc': 2296, 'fantasi': 2297, 'martial': 2298, 'summar': 2299, 'violent': 2300, 'realiti': 2301, 'claptrap': 2302, 'will': 2303, 'propaganda': 2304, 'aim': 2305, 'midget': 2306, 'islam': 2307, 'east': 2308, 'elsewher': 2309, 'qualifi': 2310, 'sourc': 2311, 'theatric': 2312, 'stagger': 2313, 'halperin': 2314, 'dracula': 2315, 'stuck': 2316, 'contrari': 2317, 'allegori': 2318, 'jagger': 2319, 'megalomaniac': 2320, 'allegor': 2321, 'undead': 2322, 'cannib': 2323, 'loath': 2324, 'dislik': 2325, 'histor': 2326, 'doco': 2327, 'unbias': 2328, 'factual': 2329, 'deutschen': 2330, 'panzer': 2331, 'iwo': 2332, 'jima': 2333, 'flag': 2334, 'trumpet': 2335, 'krimi': 2336, 'wacki': 2337, 'crime': 2338, 'lab': 2339, 'scientist': 2340, 'toxic': 2341, 'mastermind': 2342, 'maraud': 2343, 'bullwhip': 2344, 'tongu': 2345, 'cheek': 2346, 'smoothli': 2347, 'tick': 2348, 'colour': 2349, 'edgar': 2350, 'lair': 2351, 'extra': 2352, 'cant': 2353, 'climax': 2354, 'horribl': 2355, 'text': 2356, 'waist': 2357, 'unit': 2358, 'harvet': 2359, 'clous': 2360, 'norton': 2361, 'corey': 2362, 'yuen': 2363, 'hoi': 2364, 'meng': 2365, 'dad': 2366, 'mob': 2367, 'restor': 2368, 'toppl': 2369, 'mister': 2370, 'croni': 2371, 'cater': 2372, 'raymond': 2373, 'chow': 2374, 'shell': 2375, 'shekel': 2376, 'studi': 2377, 'denot': 2378, 'unhealthi': 2379, 'lust': 2380, 'caco': 2381, 'imageri': 2382, 'sanctimoni': 2383, 'childishli': 2384, 'ill': 2385, 'moldavia': 2386, 'pauper': 2387, 'region': 2388, 'iota': 2389, 'flu': 2390, 'romanian': 2391, 'european': 2392, 'thiev': 2393, 'sore': 2394, 'pose': 2395, 'righteou': 2396, 'modicum': 2397, 'legion': 2398, 'acumen': 2399, 'uncl': 2400, 'gogu': 2401, 'drunkenli': 2402, 'wet': 2403, 'guest': 2404, 'chaotic': 2405, 'randomli': 2406, 'bustl': 2407, 'sundri': 2408, 'illiter': 2409, 'dilettant': 2410, 'mediocr': 2411, 'mise': 2412, 'en': 2413, 'annoyingli': 2414, 'absenc': 2415, 'languag': 2416, 'ntarea': 2417, 'rom': 2418, 'niei': 2419, 'romania': 2420, 'chant': 2421, 'paradox': 2422, 'soccer': 2423, 'necula': 2424, 'raducanu': 2425, 'nicodim': 2426, 'ungureanu': 2427, 'oana': 2428, 'piecnita': 2429, 'fresh': 2430, 'compromis': 2431, 'offens': 2432, 'hefti': 2433, 'council': 2434, 'dinosaur': 2435, 'thirsti': 2436, 'govern': 2437, 'udder': 2438, 'economi': 2439, 'instantli': 2440, 'elimin': 2441, 'juri': 2442, 'scabrou': 2443, 'simplist': 2444, 'carpent': 2445, 'nail': 2446, 'bite': 2447, 'nightmar': 2448, 'strode': 2449, 'jami': 2450, 'lee': 2451, 'curti': 2452, 'mischiev': 2453, 'sneaki': 2454, 'relentless': 2455, 'psychopath': 2456, 'escap': 2457, 'aslyum': 2458, 'fifteen': 2459, 'haddonfield': 2460, 'sleepi': 2461, 'illinoi': 2462, 'drop': 2463, 'packag': 2464, 'abandon': 2465, 'maniac': 2466, 'outdat': 2467, 'goos': 2468, 'bump': 2469, 'induc': 2470, 'shocker': 2471, 'eventu': 2472, 'heap': 2473, 'hint': 2474, 'olen': 2475, 'hey': 2476, 'humour': 2477, 'dee': 2478, 'russ': 2479, 'tamblyn': 2480, 'kiddi': 2481, 'toif': 2482, 'honey': 2483, 'shrunk': 2484, 'blew': 2485, 'moviemi': 2486, '19': 2487, 'yo': 2488, '10rate': 2489, 'funnier': 2490, 'cannonbal': 2491, 'chicken': 2492, 'racecar': 2493, 'luxuri': 2494, 'eightiesli': 2495, 'vaccuum': 2496, 'cleaner': 2497, 'racetrack': 2498, 'upset': 2499, 'stroker': 2500, 'ace': 2501, 'burti': 2502, 'finger': 2503, 'suffic': 2504, 'panegyr': 2505, 'soi': 2506, 'disant': 2507, 'odiou': 2508, 'tosh': 2509, 'news': 2510, 'bile': 2511, 'profici': 2512, 'martin': 2513, 'novelist': 2514, 'readabl': 2515, 'regain': 2516, 'plagu': 2517, 'flight': 2518, 'boston': 2519, 'morn': 2520, 'septemb': 2521, '11': 2522, '2001': 2523, 'gate': 2524, 'gain': 2525, 'dentist': 2526, 'roommat': 2527, 'adam': 2528, 'solidifi': 2529, 'obligatori': 2530, 'simplic': 2531, 'inhabit': 2532, 'wherebi': 2533, 'amongst': 2534, 'disintegr': 2535, 'subtli': 2536, 'evid': 2537, 'introduct': 2538, 'onion': 2539, 'sneak': 2540, 'eas': 2541, 'consumm': 2542, 'delic': 2543, 'textur': 2544, 'demand': 2545, 'intrud': 2546, 'cloister': 2547, 'intrigu': 2548, 'reclus': 2549, 'task': 2550, 'gingerli': 2551, 'nudg': 2552, 'servic': 2553, 'psychologist': 2554, 'angela': 2555, 'oakhurst': 2556, 'liv': 2557, 'nearer': 2558, 'push': 2559, 'edg': 2560, 'abyss': 2561, 'teeter': 2562, 'dint': 2563, 'denial': 2564, 'priorli': 2565, 'grief': 2566, 'withdraw': 2567, 'exact': 2568, 'lous': 2569, 'effici': 2570, 'janean': 2571, 'jada': 2572, 'pinkett': 2573, 'recoveri': 2574, 'inward': 2575, 'independ': 2576, 'reconnect': 2577, 'sorrow': 2578, 'conclud': 2579, 'tradit': 2580, 'reign': 2581, 'lidia': 2582, 'sinclair': 2583, 'amanda': 2584, 'plummer': 2585, 'donna': 2586, 'remar': 2587, 'saffron': 2588, 'burrow': 2589, 'sketchi': 2590, 'patient': 2591, 'unstabl': 2592, 'complement': 2593, 'borderlin': 2594, 'ring': 2595, 'devorah': 2596, 'macdonald': 2597, 'vancouv': 2598, 'bc': 2599, 'reserv': 2600, 'awar': 2601, 'count': 2602, 'disingenu': 2603, 'deliber': 2604, 'flamenco': 2605, 'mock': 2606, 'baldwin': 2607, 'veget': 2608, 'cart': 2609, 'gone': 2610, 'stair': 2611, 'curb': 2612, 'knife': 2613, 'hmmm': 2614, 'horsemanship': 2615, 'ridden': 2616, 'tilt': 2617, 'forev': 2618, 'steam': 2619, 'horseback': 2620, 'rider': 2621, 'mill': 2622, 'valley': 2623, 'festiv': 2624, 'blom': 2625, 'ann': 2626, 'e': 2627, 'potenti': 2628, 'fals': 2629, 'amidst': 2630, 'inflict': 2631, 'anxieti': 2632, 'shatter': 2633, 'dilemma': 2634, 'briskli': 2635, 'distribut': 2636, 'sophist': 2637, 'creek': 2638, 'pilot': 2639, 'alter': 2640, 'jeremi': 2641, 'sumpter': 2642, 'basebal': 2643, 'tunnel': 2644, 'vision': 2645, 'laurenc': 2646, 'olivi': 2647, 'sombr': 2648, 'deliveri': 2649, 'tone': 2650, 'perfectli': 2651, 'ww': 2652, 'politician': 2653, 'extend': 2654, 'aircraft': 2655, 'carrier': 2656, 'bush': 2657, 'whi': 2658, 'how': 2659, '26': 2660, 'roughli': 2661, 'chronolog': 2662, 'bound': 2663, 'interspers': 2664, 'personnel': 2665, 'eyewit': 2666, 'upfront': 2667, 'strongli': 2668, 'gaptooth': 2669, 'overpr': 2670, 'ebay': 2671, 'paid': 2672, 'cdn': 2673, 'disc': 2674, 'bonu': 2675, 'mode': 2676, 'chapter': 2677, 'comprehens': 2678, 'tini': 2679, 'impact': 2680, 'nay': 2681, 'honour': 2682, 'sacrific': 2683, 'overcom': 2684, 'russia': 2685, 'britain': 2686, 'canada': 2687, 'victori': 2688, 'visual': 2689, 'digit': 2690, 'dreami': 2691, 'trippi': 2692, 'pretenti': 2693, 'captiv': 2694, 'confess': 2695, 'signalman': 2696, 'crusad': 2697, 'harden': 2698, 'grant': 2699, 'nieport': 2700, 'gabriel': 2701, 'muccino': 2702, 'highest': 2703, 'anger': 2704, 'emili': 2705, 'rosario': 2706, 'harrelson': 2707, 'interrupt': 2708, 'phone': 2709, 'unravel': 2710, 'unbal': 2711, 'mid': 2712, 'crise': 2713, '22': 2714, 'profess': 2715, 'stress': 2716, 'bar': 2717, 'greg': 2718, 'latch': 2719, 'halt': 2720, 'quintessenti': 2721, 'unsavori': 2722, 'unheard': 2723, 'impli': 2724, 'adrenalin': 2725, 'remors': 2726, 'redempt': 2727, 'horrif': 2728, 'unorthodox': 2729, 'authent': 2730, 'mundan': 2731, 'focu': 2732, 'shuffl': 2733, 'cancer': 2734, 'sympathi': 2735, 'unsettl': 2736, 'divorc': 2737, 'bond': 2738, 'smooth': 2739, 'sudden': 2740, 'shift': 2741, 'suav': 2742, 'childish': 2743, 'tantrum': 2744, 'grasp': 2745, 'saniti': 2746, 'piano': 2747, 'unexpectedli': 2748, 'meati': 2749, 'unspectacular': 2750, 'shyamalan': 2751, 'philosoph': 2752, 'spiritu': 2753, 'prerequisit': 2754, 'trevethyn': 2755, 'widow': 2756, 'u': 2757, 'financi': 2758, 'commit': 2759, 'tragic': 2760, 'matthew': 2761, 'garden': 2762, 'partnership': 2763, 'titular': 2764, 'topless': 2765, 'babe': 2766, 'eccentr': 2767, 'pith': 2768, 'helmet': 2769, 'broken': 2770, 'moth': 2771, 'eaten': 2772, 'dime': 2773, 'fourth': 2774, 'reich': 2775, 'wimmen': 2776, 'skimpier': 2777, 'portion': 2778, 'protract': 2779, 'critter': 2780, 'curvac': 2781, 'undivid': 2782, 'soft': 2783, 'throwback': 2784, '1960': 2785, 'stan': 2786, 'borden': 2787, 'friedman': 2788, 'harri': 2789, 'crank': 2790, '42nd': 2791, 'wham': 2792, 'bam': 2793, 'spaceman': 2794, 'kiss': 2795, 'munda': 2796, 'print': 2797, 'busey': 2798, 'roy': 2799, 'strictli': 2800, 'rambo': 2801, 'standout': 2802, 'particular': 2803, 'mine': 2804, 'brat': 2805, 'pack': 2806, 'gut': 2807, 'tobia': 2808, 'oz': 2809, 'proxim': 2810, 'fugit': 2811, 'coburn': 2812, 'spokesman': 2813, 'out': 2814, 'strident': 2815, 'gloom': 2816, 'doom': 2817, 'habitat': 2818, 'eleph': 2819, 'whale': 2820, 'calf': 2821, 'pole': 2822, 'proce': 2823, 'south': 2824, 'tropic': 2825, 'denizen': 2826, 'zone': 2827, 'travers': 2828, 'wander': 2829, 'island': 2830, 'search': 2831, 'food': 2832, 'solut': 2833, 'aerial': 2834, 'carib': 2835, 'tundra': 2836, 'wildlif': 2837, 'wildfowl': 2838, 'admiss': 2839, 'shark': 2840, 'characterist': 2841, 'sidelight': 2842, 'demonstr': 2843, 'techniqu': 2844, 'spare': 2845, 'grisli': 2846, 'prey': 2847, 'predat': 2848, '2007': 2849, 'click': 2850, 'whenev': 2851, 'mistakenli': 2852, 'awak': 2853, 'horrid': 2854, 'proper': 2855, 'up': 2856, 'hokey': 2857, 'inan': 2858, 'overus': 2859, 'split': 2860, 'synchron': 2861, 'altern': 2862, 'zero': 2863, 'minu': 2864, 'spell': 2865, 'checker': 2866, 'reminisc': 2867, 'rosencrantz': 2868, 'guildernstern': 2869, 'slowli': 2870, 'gradual': 2871, 'escal': 2872, 'timeless': 2873, 'proverb': 2874, 'etern': 2875, 'sensibl': 2876, 'grate': 2877, 'muni': 2878, 'legendari': 2879, 'luminesc': 2880, 'priceless': 2881, 'luis': 2882, 'rainer': 2883, 'splendid': 2884, 'wrought': 2885, 'eloqu': 2886, 'ampli': 2887, 'epic': 2888, 'proport': 2889, 'necessari': 2890, 'naysay': 2891, 'shun': 2892, 'lifetim': 2893, 'enrich': 2894, 'prod': 2895, 'race': 2896, 'princip': 2897, 'obsess': 2898, 'pearl': 2899, 'buck': 2900, 'poignanc': 2901, 'convict': 2902, 'aromat': 2903, 'fragranc': 2904, 'eman': 2905, 'improv': 2906, 'quot': 2907, 'gold': 2908, 'diminut': 2909, 'aggress': 2910, 'alien': 2911, 'mistaken': 2912, 'fool': 2913, 'unsophist': 2914, 'gem': 2915, 'starter': 2916, 'bridg': 2917, 'cafe': 2918, 'messi': 2919, 'activ': 2920, 'angst': 2921, 'fret': 2922, 'teeni': 2923, 'proto': 2924, 'eyedot': 2925, 'scan': 2926, 'machin': 2927, 'map': 2928, 'fix': 2929, 'tha': 2930, 'tarot': 2931, 'prostitut': 2932, 'journalist': 2933, 'sondra': 2934, 'pranski': 2935, 'scarlett': 2936, 'tip': 2937, 'peter': 2938, 'lyman': 2939, 'magician': 2940, 'sid': 2941, 'waterman': 2942, 'shorter': 2943, 'till': 2944, 'tiresom': 2945, 'surprisingli': 2946, 'bath': 2947, 'debit': 2948, '8': 2949, 'kinda': 2950, 'gloss': 2951, 'anywher': 2952, 'colm': 2953, 'feor': 2954, 'hag': 2955, 'neighborhood': 2956, 'pale': 2957, 'um': 2958, 'decrepit': 2959, 'sking': 2960, 'alchohol': 2961, 'druggi': 2962, 'cubitt': 2963, 'cred': 2964, 'grew': 2965, 'moimem': 2966, 'dig': 2967, 'overview': 2968, 'prosi': 2969, 'poetic': 2970, 'quell': 2971, 'to': 2972, 'candi': 2973, 'replac': 2974, 'endear': 2975, 'devolv': 2976, 'cretin': 2977, 'selfish': 2978, 'jerkwad': 2979, 'bart': 2980, 'happili': 2981, 'snot': 2982, 'snotti': 2983, 'wanda': 2984, 'charmer': 2985, 'godchild': 2986, 'crummi': 2987, 'toon': 2988, 'phantom': 2989, '13th': 2990, 'poltergeist': 2991, 'legaci': 2992, 'elm': 2993, 'antholog': 2994, '4th': 2995, 'protest': 2996, 'shame': 2997, 'ruin': 2998, 'eva': 2999, 'longoria': 3000, 'crush': 3001, 'fianc': 3002, 'rudd': 3003, 'lindsay': 3004, 'arrang': 3005, 'nip': 3006, 'bud': 3007, 'stephen': 3008, 'jason': 3009, 'morgan': 3010, 'sheppard': 3011, 'wendi': 3012, 'mclendon': 3013, 'covey': 3014, 'stole': 3015, 'alli': 3016, 'mixtur': 3017, 'fear': 3018, 'incorrectli': 3019, 'panic': 3020, 'demor': 3021, 'enemi': 3022, 'declar': 3023, 'baloney': 3024, '65': 3025, 'terrorist': 3026, 'bumper': 3027, 'sticker': 3028, 'slogan': 3029, 'dr': 3030, 'suess': 3031, 'analog': 3032, 'balloon': 3033, 'juic': 3034, 'theodor': 3035, 'geisel': 3036, 'rhyme': 3037, 'clever': 3038, '1943': 3039, 'justifi': 3040, 'paranoia': 3041, 'midst': 3042, 'depth': 3043, 'basket': 3044, 'idol': 3045, 'li': 3046, 'xiao': 3047, 'extent': 3048, 'hair': 3049, 'sunshin': 3050, 'tall': 3051, 'mass': 3052, 'churn': 3053, 'orgasm': 3054, 'lame': 3055, 'basketbal': 3056, 'court': 3057, 'bash': 3058, 'oppon': 3059, 'ala': 3060, 'royal': 3061, 'rumbl': 3062, 'crowd': 3063, 'wtf': 3064, 'observ': 3065, 'woodwork': 3066, 'acknowledg': 3067, 'tad': 3068, 'wrap': 3069, 'chick': 3070, 'list': 3071, 'switchblad': 3072, 'preced': 3073, 'winner': 3074, 'carr': 3075, 'sent': 3076, 'fraud': 3077, 'quietli': 3078, 'lassal': 3079, 'transvestit': 3080, 'marcu': 3081, 'retard': 3082, 'daisi': 3083, 'journal': 3084, 'translat': 3085, 'scope': 3086, 'fair': 3087, 'asset': 3088, 'restraint': 3089, 'restrain': 3090, 'flow': 3091, 'valett': 3092, 'claustrophob': 3093, 'immens': 3094, 'benefit': 3095, 'unknown': 3096, 'worri': 3097, 'horrifi': 3098, 'grey': 3099, 'flannel': 3100, 'schlock': 3101, 'giggl': 3102, 'conscious': 3103, 'varieti': 3104, 'spear': 3105, 'neanderth': 3106, 'flat': 3107, 'unleaven': 3108, 'bread': 3109, 'strikingli': 3110, 'ambival': 3111, 'belief': 3112, 'biblic': 3113, 'billi': 3114, 'duke': 3115, 'h': 3116, 'l': 3117, 'mencken': 3118, 'heavenli': 3119, 'choru': 3120, 'boast': 3121, 'repent': 3122, 'jayn': 3123, 'meadow': 3124, 'bitter': 3125, 'michol': 3126, 'vivid': 3127, 'dawn': 3128, 'rous': 3129, 'psalm': 3130, 'anxious': 3131, 'recip': 3132, 'rich': 3133, '25': 3134, 'drain': 3135, 'movement': 3136, 'lifeless': 3137, 'cauldron': 3138, 'reaction': 3139, 'veiwer': 3140, 'worthless': 3141, 'drivel': 3142, 'melodi': 3143, 'lyric': 3144, 'gladli': 3145, 'chain': 3146, 'alec': 3147, 'jacob': 3148, 'marley': 3149, 'powder': 3150, 'foppishli': 3151, 'pranc': 3152, 'float': 3153, 'disdain': 3154, 'meanwhil': 3155, 'alistar': 3156, 'sim': 3157, 'laughton': 3158, 'hopelessli': 3159, 'loathsom': 3160, 'quasimodo': 3161, 'hideou': 3162, 'transform': 3163, 'steer': 3164, 'clear': 3165, 'abomin': 3166, 'convolut': 3167, 'ripper': 3168, 'garb': 3169, 'hundr': 3170, 'tour': 3171, 'den': 3172, 'fashion': 3173, 'renov': 3174, 'climb': 3175, 'remov': 3176, 'cach': 3177, 'cellar': 3178, 'starv': 3179, 'conceal': 3180, 'hobb': 3181, 'infiltr': 3182, 'semen': 3183, 'burli': 3184, 'overpow': 3185, 'voltag': 3186, 'knock': 3187, 'wire': 3188, 'reincarn': 3189, 'boxer': 3190, 'tht': 3191, 'roeper': 3192, 'jim': 3193, 'sicn': 3194, 'postmast': 3195, 'irwin': 3196, 'ron': 3197, 'howard': 3198, 'narrtor': 3199, 'hopkin': 3200, 'jeffrey': 3201, 'tambor': 3202, 'muppet': 3203, 'mayor': 3204, 'surfac': 3205, 'surround': 3206, 'baker': 3207, 'leggi': 3208, 'trivia': 3209, 'format': 3210, 'smtm': 3211, 'prime': 3212, 'briefli': 3213, 'plug': 3214, 'chose': 3215, 'scroll': 3216, '20': 3217, 'subtract': 3218, 'incorrect': 3219, 'correctli': 3220, 'knowingli': 3221, 'deadli': 3222, 'complic': 3223, 'prevent': 3224, 'program': 3225, 'terpsichorean': 3226, 'ie': 3227, 'goug': 3228, 'ear': 3229, 'code': 3230, 'miracl': 3231, 'campi': 3232, 'tug': 3233, 'string': 3234, 'rudolph': 3235, 'slide': 3236, 'fanfar': 3237, 'deris': 3238, '1996': 3239, 'keith': 3240, 'gordon': 3241, 'kurt': 3242, 'unfilm': 3243, 'treatment': 3244, 'underappreci': 3245, 'stilt': 3246, 'literari': 3247, 'poetri': 3248, 'endors': 3249, 'mourn': 3250, 'neglect': 3251, 'sincer': 3252, 'familiar': 3253, 'urgh': 3254, 'fork': 3255, 'byrn': 3256, 'rastu': 3257, 'sandra': 3258, 'bernhard': 3259, 'miscast': 3260, 'that': 3261, 'laputa': 3262, 'sky': 3263, 'pirat': 3264, 'reus': 3265, 'evok': 3266, 'sheeta': 3267, 'pazu': 3268, 'rank': 3269, 'nausicaa': 3270, 'howl': 3271, 'readili': 3272, 'piper': 3273, 'pg13': 3274, 'cusack': 3275, 'occur': 3276, 'mari': 3277, 'forsa': 3278, 'busti': 3279, 'helga': 3280, 'everytim': 3281, 'realist': 3282, 'inequ': 3283, 'hypocrisi': 3284, 'lighter': 3285, 'dark': 3286, 'circl': 3287, 'favourit': 3288, 'iranian': 3289, 'banter': 3290, 'aftermath': 3291, 'astonish': 3292, 'realism': 3293, 'kenni': 3294, 'credibl': 3295, 'chador': 3296, 'paradigm': 3297, 'maintain': 3298, 'teheran': 3299, 'caught': 3300, 'frivol': 3301, 'commentari': 3302, 'adult': 3303, 'matur': 3304, 'onward': 3305, 'subtitl': 3306, 'repress': 3307, 'iran': 3308, 'kiarostami': 3309, 'constraint': 3310, 'leaf': 3311, 'summer': 3312, 'sylvan': 3313, 'dakota': 3314, 'cull': 3315, 'dori': 3316, 'nicholson': 3317, 'noon': 3318, 'blackboard': 3319, 'jungl': 3320, 'rebel': 3321, 'disgust': 3322, 'sadist': 3323, 'hostag': 3324, 'whatev': 3325, 'taught': 3326, 'talia': 3327, 'dement': 3328, 'psychiatrist': 3329, 'prescrib': 3330, 'stronger': 3331, 'medic': 3332, 'uncal': 3333, 'larri': 3334, 'clark': 3335, 'behavior': 3336, 'manifest': 3337, 'congratul': 3338, 'goer': 3339, 'academi': 3340, 'recap': 3341, 'toilet': 3342, 'lighten': 3343, 'rebound': 3344, 'tight': 3345, 'bookish': 3346, 'museum': 3347, 'curat': 3348, 'basi': 3349, 'miscalcul': 3350, 'ident': 3351, 'persona': 3352, 'saunder': 3353, 'liberti': 3354, 'curious': 3355, 'repli': 3356, 'nutti': 3357, 'terrifi': 3358, 'swing': 3359, 'dire': 3360, 'prozac': 3361, 'breezi': 3362, 'tail': 3363, 'superman': 3364, 'inconsist': 3365, 'charismat': 3366, 'sympathet': 3367, 'caricatur': 3368, 'aka': 3369, 'izzard': 3370, 'lex': 3371, 'luthor': 3372, 'domin': 3373, 'hold': 3374, 'grudg': 3375, 'expectedli': 3376, 'dude': 3377, 'repugn': 3378, 'vaughn': 3379, 'rainn': 3380, 'whack': 3381, 'imperson': 3382, 'dens': 3383, 'hannah': 3384, 'perki': 3385, 'anna': 3386, 'fari': 3387, 'chemistri': 3388, 'satir': 3389, 'disguis': 3390, 'convincingli': 3391, 'suffici': 3392, 'surviv': 3393, 'otto': 3394, 'grandios': 3395, 'visionari': 3396, 'ambigu': 3397, 'betray': 3398, 'essenc': 3399, 'vex': 3400, 'vindict': 3401, 'irrat': 3402, 'reclaim': 3403, 'tangl': 3404, 'rectitud': 3405, 'circuit': 3406, 'latter': 3407, 'hecht': 3408, 'satur': 3409, 'relevantli': 3410, 'prosaic': 3411, 'peripher': 3412, 'distant': 3413, 'furnish': 3414, 'streak': 3415, 'infest': 3416, 'secretli': 3417, 'entangl': 3418, 'snare': 3419, 'outward': 3420, 'vintag': 3421, 'viscer': 3422, 'execut': 3423, 'reflect': 3424, 'specif': 3425, 'phase': 3426, 'engross': 3427, 'feral': 3428, 'shadi': 3429, 'underworld': 3430, 'estrang': 3431, 'swell': 3432, 'ration': 3433, 'occup': 3434, 'principl': 3435, 'wink': 3436, 'commun': 3437, 'sprawl': 3438, 'cityscap': 3439, 'existenti': 3440, 'journey': 3441, 'ramif': 3442, 'oedip': 3443, 'fixat': 3444, 'disconnect': 3445, 'influenc': 3446, 'undi': 3447, 'percept': 3448, 'compani': 3449, 'puss': 3450, 'evad': 3451, 'connipt': 3452, 'busybodi': 3453, 'expressionist': 3454, 'matter': 3455, 'inimit': 3456, 'inject': 3457, 'everyday': 3458, 'backdrop': 3459, 'depress': 3460, 'relief': 3461, 'per': 3462, 'assert': 3463, 'karl': 3464, 'malden': 3465, 'missionari': 3466, 'inspector': 3467, 'waitress': 3468, 'lunch': 3469, 'counter': 3470, 'gene': 3471, 'tierney': 3472, 'anguish': 3473, 'futil': 3474, 'slice': 3475, 'surefir': 3476, 'scatter': 3477, 'childhood': 3478, 'incorpor': 3479, 'phenomen': 3480, 'public': 3481, 'speaker': 3482, 'montag': 3483, 'rebelli': 3484, 'wow': 3485, 'staunch': 3486, 'cherish': 3487, 'wing': 3488, 'elev': 3489, 'moron': 3490, 'fluff': 3491, 'preach': 3492, 'agenda': 3493, 'outset': 3494, 'brenda': 3495, 'fricker': 3496, 'conner': 3497, 'brash': 3498, 'petul': 3499, 'gabi': 3500, 'gimp': 3501, 'cp': 3502, 'be': 3503, '70': 3504, 'pleasant': 3505, 'therapist': 3506, 'chair': 3507, 'variat': 3508, 'angl': 3509, 'ageless': 3510, 'alexandra': 3511, 'overwrought': 3512, 'exclam': 3513, 'shrew': 3514, 'rosanna': 3515, 'arquett': 3516, 'malign': 3517, 'occas': 3518, 'reject': 3519, 'uhm': 3520, 'entereth': 3521, 'almighti': 3522, 'solo': 3523, 'collinwood': 3524, 'ultim': 3525, 'unfamiliar': 3526, 'merit': 3527, 'brief': 3528, 'wheel': 3529, 'cracker': 3530, 'tattoo': 3531, 'wash': 3532, 'needless': 3533, 'paolo': 3534, 'cont': 3535, 'hum': 3536, 'miser': 3537, 'thorough': 3538, 'join': 3539, 'embarrass': 3540, 'rotten': 3541, 'abysm': 3542, 'bosnian': 3543, 'uninspir': 3544, 'lightn': 3545, 'cake': 3546, 'unmotiv': 3547, 'injuri': 3548, 'devoid': 3549, 'henchman': 3550, 'dethron': 3551, 'thin': 3552, 'experiment': 3553, 'dictat': 3554, 'dani': 3555, 'behr': 3556, 'circumst': 3557, 'sleep': 3558, 'cri': 3559, 'funniest': 3560, 'shit': 3561, 'porn': 3562, 'tear': 3563, 'phoni': 3564, 'expens': 3565, 'driver': 3566, 'nintendo': 3567, 'scare': 3568, 'creep': 3569, 'fat': 3570, 'lurk': 3571, 'hahaha': 3572, 'error': 3573, 'lisp': 3574, 'susan': 3575, 'novelti': 3576, 'clean': 3577, 'spout': 3578, 'formula': 3579, 'mismatch': 3580, 'caper': 3581, 'collis': 3582, 'pelican': 3583, 'comedian': 3584, 'pat': 3585, 'track': 3586, 'stolen': 3587, 'prototyp': 3588, 'turbocharg': 3589, 'fish': 3590, 'water': 3591, 'routin': 3592, 'hurri': 3593, 'worthi': 3594, 'increasingli': 3595, 'scarc': 3596, 'consider': 3597, 'holland': 3598, 'jeroen': 3599, 'lectur': 3600, 'overnight': 3601, 'rene': 3602, 'hunki': 3603, 'herman': 3604, 'thom': 3605, '1983': 3606, 'strangul': 3607, 'frontal': 3608, 'castrat': 3609, 'mutil': 3610, 'simul': 3611, 'denounc': 3612, 'prais': 3613, 'jan': 3614, 'bont': 3615, 'handsom': 3616, 'sweat': 3617, 'shower': 3618, 'afterward': 3619, 'theoret': 3620, 'copenhagen': 3621, 'beckham': 3622, 'footbal': 3623, 'transfer': 3624, 'competit': 3625, 'expert': 3626, 'semra': 3627, 'turan': 3628, 'autobiograph': 3629, 'account': 3630, 'sidenot': 3631, 'fought': 3632, 'grave': 3633, 'reveng': 3634, 'xian': 3635, 'gao': 3636, 'chines': 3637, 'instructor': 3638, 'crouch': 3639, 'masterif': 3640, 'edwin': 3641, '1903': 3642, 'entitl': 3643, 'ingenu': 3644, 'blown': 3645, 'hail': 3646, 'unwant': 3647, 'civilian': 3648, 'eastwood': 3649, 'grappl': 3650, 'jade': 3651, 'haphazard': 3652, 'untrac': 3653, 'unsurpris': 3654, 'linear': 3655, 'robber': 3656, 'predestin': 3657, 'glitch': 3658, 'proverbi': 3659, 'emphas': 3660, 'strongest': 3661, 'era': 3662, 'nonfict': 3663, 'mainstream': 3664, 'broke': 3665, 'prophet': 3666, 'bandwagon': 3667, 'plant': 3668, 'explor': 3669, 'kitschi': 3670, 'ness': 3671, 'capsul': 3672, 'grade': 3673, 'suspens': 3674, 'toolbox': 3675, 'lower': 3676, 'extrovert': 3677, 'bohemian': 3678, 'gasp': 3679, 'closer': 3680, 'euro': 3681, 'imit': 3682, 'slick': 3683, 'minim': 3684, 'consciou': 3685, 'defend': 3686, 'spotlight': 3687, 'hardi': 3688, 'sarcast': 3689, 'drunk': 3690, 'spot': 3691, 'baddiel': 3692, 'anatomis': 3693, 'amateur': 3694, 'latex': 3695, 'bought': 3696, 'hooker': 3697, 'bed': 3698, 'wipe': 3699, 'werewolv': 3700, 'rubber': 3701, 'mask': 3702, 'bother': 3703, 'appli': 3704, 'wrist': 3705, 'guarante': 3706}\n"
     ]
    }
   ],
   "source": [
    "print(word_dict)"
   ]
  },
  {
   "cell_type": "markdown",
   "metadata": {},
   "source": [
    "**Question:** What are the five most frequently appearing (tokenized) words in the training set? Does it makes sense that these words appear frequently in the training set?"
   ]
  },
  {
   "cell_type": "markdown",
   "metadata": {},
   "source": [
    "**Answer:** film,movi,one,like,make, No, traing sets have different words as user input words or sentences . "
   ]
  },
  {
   "cell_type": "code",
   "execution_count": 14,
   "metadata": {},
   "outputs": [
    {
     "name": "stdout",
     "output_type": "stream",
     "text": [
      "The 20 most common words in reviews are:  [('film', 225), ('movi', 214), ('one', 113), ('like', 101), ('make', 70), ('see', 62), ('well', 61), ('good', 61), ('charact', 59), ('watch', 58), ('stori', 57), ('great', 55), ('time', 54), ('get', 52), ('end', 51), ('would', 51), ('even', 50), ('scene', 49), ('look', 47), ('much', 47)]\n"
     ]
    }
   ],
   "source": [
    "# TODO: Use this space to determine the five most frequently appearing words in the training set.\n",
    "word_count = get_word_count(train_X)\n",
    "sorted_words = [(v[0], v[1]) for v in sorted(word_count.items(), key=lambda kv: kv[1], reverse=True)]                \n",
    "print(\"The 20 most common words in reviews are: \", sorted_words[:20])"
   ]
  },
  {
   "cell_type": "markdown",
   "metadata": {},
   "source": [
    "### Save `word_dict`\n",
    "\n",
    "Later on when we construct an endpoint which processes a submitted review we will need to make use of the `word_dict` which we have created. As such, we will save it to a file now for future use."
   ]
  },
  {
   "cell_type": "code",
   "execution_count": 15,
   "metadata": {},
   "outputs": [],
   "source": [
    "data_dir = '../data/pytorch' # The folder we will use for storing data\n",
    "if not os.path.exists(data_dir): # Make sure that the folder exists\n",
    "    os.makedirs(data_dir)"
   ]
  },
  {
   "cell_type": "code",
   "execution_count": 16,
   "metadata": {},
   "outputs": [],
   "source": [
    "with open(os.path.join(data_dir, 'word_dict.pkl'), \"wb\") as f:\n",
    "    pickle.dump(word_dict, f)"
   ]
  },
  {
   "cell_type": "markdown",
   "metadata": {},
   "source": [
    "### Transform the reviews\n",
    "\n",
    "Now that we have our word dictionary which allows us to transform the words appearing in the reviews into integers, it is time to make use of it and convert our reviews to their integer sequence representation, making sure to pad or truncate to a fixed length, which in our case is `500`."
   ]
  },
  {
   "cell_type": "code",
   "execution_count": 17,
   "metadata": {},
   "outputs": [],
   "source": [
    "def convert_and_pad(word_dict, sentence, pad=500):\n",
    "    NOWORD = 0 # We will use 0 to represent the 'no word' category\n",
    "    INFREQ = 1 # and we use 1 to represent the infrequent words, i.e., words not appearing in word_dict\n",
    "    \n",
    "    working_sentence = [NOWORD] * pad\n",
    "    \n",
    "    for word_index, word in enumerate(sentence[:pad]):\n",
    "        if word in word_dict:\n",
    "            working_sentence[word_index] = word_dict[word]\n",
    "        else:\n",
    "            working_sentence[word_index] = INFREQ\n",
    "            \n",
    "    return working_sentence, min(len(sentence), pad)\n",
    "\n",
    "def convert_and_pad_data(word_dict, data, pad=500):\n",
    "    result = []\n",
    "    lengths = []\n",
    "    \n",
    "    for sentence in data:\n",
    "        converted, leng = convert_and_pad(word_dict, sentence, pad)\n",
    "        result.append(converted)\n",
    "        lengths.append(leng)\n",
    "        \n",
    "    return np.array(result), np.array(lengths)"
   ]
  },
  {
   "cell_type": "code",
   "execution_count": 19,
   "metadata": {},
   "outputs": [],
   "source": [
    "train_X, train_X_len = convert_and_pad_data(word_dict, train_X)\n",
    "test_X, test_X_len = convert_and_pad_data(word_dict, test_X)"
   ]
  },
  {
   "cell_type": "markdown",
   "metadata": {},
   "source": [
    "As a quick check to make sure that things are working as intended, check to see what one of the reviews in the training set looks like after having been processeed. Does this look reasonable? What is the length of a review in the training set?"
   ]
  },
  {
   "cell_type": "code",
   "execution_count": 20,
   "metadata": {},
   "outputs": [
    {
     "data": {
      "text/plain": [
       "array([  24,   22,   83,  249,    2,   38,    4,   64,  264, 3694,  249,\n",
       "        635,   41,    6,   22,  128,    2,  177,  985,  792, 1050,  795,\n",
       "        792,  448, 3695,  806, 1754, 1734, 3696,  771,  935, 1056, 3697,\n",
       "        795,  293, 1056,  555,   90,   14, 3698,  243,   37,  444,  305,\n",
       "        984, 3699,  981,  794,  229,  183, 1684,   19,  389,  215,   22,\n",
       "        811, 1359,  530,  537, 1328,   65, 1539,   16,  297, 3700,  955,\n",
       "       3701, 3702, 1331,   60,  139,   18, 3703, 3704, 1722, 1672, 1400,\n",
       "       1754, 3705, 3706,  165,   54,   91,  249,  179,   36,  130,  263,\n",
       "         69,    3,  199,  974,  486,   11,    2,  214,  282,    6,  245,\n",
       "        246,  249,    0,    0,    0,    0,    0,    0,    0,    0,    0,\n",
       "          0,    0,    0,    0,    0,    0,    0,    0,    0,    0,    0,\n",
       "          0,    0,    0,    0,    0,    0,    0,    0,    0,    0,    0,\n",
       "          0,    0,    0,    0,    0,    0,    0,    0,    0,    0,    0,\n",
       "          0,    0,    0,    0,    0,    0,    0,    0,    0,    0,    0,\n",
       "          0,    0,    0,    0,    0,    0,    0,    0,    0,    0,    0,\n",
       "          0,    0,    0,    0,    0,    0,    0,    0,    0,    0,    0,\n",
       "          0,    0,    0,    0,    0,    0,    0,    0,    0,    0,    0,\n",
       "          0,    0,    0,    0,    0,    0,    0,    0,    0,    0,    0,\n",
       "          0,    0,    0,    0,    0,    0,    0,    0,    0,    0,    0,\n",
       "          0,    0,    0,    0,    0,    0,    0,    0,    0,    0,    0,\n",
       "          0,    0,    0,    0,    0,    0,    0,    0,    0,    0,    0,\n",
       "          0,    0,    0,    0,    0,    0,    0,    0,    0,    0,    0,\n",
       "          0,    0,    0,    0,    0,    0,    0,    0,    0,    0,    0,\n",
       "          0,    0,    0,    0,    0,    0,    0,    0,    0,    0,    0,\n",
       "          0,    0,    0,    0,    0,    0,    0,    0,    0,    0,    0,\n",
       "          0,    0,    0,    0,    0,    0,    0,    0,    0,    0,    0,\n",
       "          0,    0,    0,    0,    0,    0,    0,    0,    0,    0,    0,\n",
       "          0,    0,    0,    0,    0,    0,    0,    0,    0,    0,    0,\n",
       "          0,    0,    0,    0,    0,    0,    0,    0,    0,    0,    0,\n",
       "          0,    0,    0,    0,    0,    0,    0,    0,    0,    0,    0,\n",
       "          0,    0,    0,    0,    0,    0,    0,    0,    0,    0,    0,\n",
       "          0,    0,    0,    0,    0,    0,    0,    0,    0,    0,    0,\n",
       "          0,    0,    0,    0,    0,    0,    0,    0,    0,    0,    0,\n",
       "          0,    0,    0,    0,    0,    0,    0,    0,    0,    0,    0,\n",
       "          0,    0,    0,    0,    0,    0,    0,    0,    0,    0,    0,\n",
       "          0,    0,    0,    0,    0,    0,    0,    0,    0,    0,    0,\n",
       "          0,    0,    0,    0,    0,    0,    0,    0,    0,    0,    0,\n",
       "          0,    0,    0,    0,    0,    0,    0,    0,    0,    0,    0,\n",
       "          0,    0,    0,    0,    0,    0,    0,    0,    0,    0,    0,\n",
       "          0,    0,    0,    0,    0,    0,    0,    0,    0,    0,    0,\n",
       "          0,    0,    0,    0,    0,    0,    0,    0,    0,    0,    0,\n",
       "          0,    0,    0,    0,    0,    0,    0,    0,    0,    0,    0,\n",
       "          0,    0,    0,    0,    0,    0,    0,    0,    0,    0,    0,\n",
       "          0,    0,    0,    0,    0,    0,    0,    0,    0,    0,    0,\n",
       "          0,    0,    0,    0,    0,    0,    0,    0,    0,    0,    0,\n",
       "          0,    0,    0,    0,    0])"
      ]
     },
     "execution_count": 20,
     "metadata": {},
     "output_type": "execute_result"
    }
   ],
   "source": [
    "# Use this cell to examine one of the processed reviews to make sure everything is working as intended.\n",
    "train_X[99]"
   ]
  },
  {
   "cell_type": "markdown",
   "metadata": {},
   "source": [
    "**Question:** In the cells above we use the `preprocess_data` and `convert_and_pad_data` methods to process both the training and testing set. Why or why not might this be a problem?"
   ]
  },
  {
   "cell_type": "markdown",
   "metadata": {},
   "source": [
    "**Answer:**\n",
    " For reviews shorter than 500 words, we'll pad with 0s. For reviews longer than 500, we truncate them to the first 500 words.\n"
   ]
  },
  {
   "cell_type": "markdown",
   "metadata": {},
   "source": [
    "## Step 3: Upload the data to S3\n",
    "\n",
    "As in the XGBoost notebook, we will need to upload the training dataset to S3 in order for our training code to access it. For now we will save it locally and we will upload to S3 later on.\n",
    "\n",
    "### Save the processed training dataset locally\n",
    "\n",
    "It is important to note the format of the data that we are saving as we will need to know it when we write the training code. In our case, each row of the dataset has the form `label`, `length`, `review[500]` where `review[500]` is a sequence of `500` integers representing the words in the review."
   ]
  },
  {
   "cell_type": "code",
   "execution_count": 21,
   "metadata": {},
   "outputs": [],
   "source": [
    "import pandas as pd\n",
    "    \n",
    "pd.concat([pd.DataFrame(train_y), pd.DataFrame(train_X_len), pd.DataFrame(train_X)], axis=1) \\\n",
    "        .to_csv(os.path.join(data_dir, 'train.csv'), header=False, index=False)"
   ]
  },
  {
   "cell_type": "markdown",
   "metadata": {},
   "source": [
    "### Uploading the training data\n",
    "\n",
    "\n",
    "Next, we need to upload the training data to the SageMaker default S3 bucket so that we can provide access to it while training our model."
   ]
  },
  {
   "cell_type": "code",
   "execution_count": 22,
   "metadata": {},
   "outputs": [],
   "source": [
    "import sagemaker\n",
    "\n",
    "sagemaker_session = sagemaker.Session()\n",
    "\n",
    "bucket = sagemaker_session.default_bucket()\n",
    "prefix = 'sagemaker/sentiment_rnn'\n",
    "\n",
    "role = sagemaker.get_execution_role()"
   ]
  },
  {
   "cell_type": "code",
   "execution_count": 23,
   "metadata": {},
   "outputs": [],
   "source": [
    "input_data = sagemaker_session.upload_data(path=data_dir, bucket=bucket, key_prefix=prefix)"
   ]
  },
  {
   "cell_type": "markdown",
   "metadata": {},
   "source": [
    "**NOTE:** The cell above uploads the entire contents of our data directory. This includes the `word_dict.pkl` file. This is fortunate as we will need this later on when we create an endpoint that accepts an arbitrary review. For now, we will just take note of the fact that it resides in the data directory (and so also in the S3 training bucket) and that we will need to make sure it gets saved in the model directory."
   ]
  },
  {
   "cell_type": "markdown",
   "metadata": {},
   "source": [
    "## Step 4: Build and Train the PyTorch Model\n",
    "\n",
    "In the XGBoost notebook we discussed what a model is in the SageMaker framework. In particular, a model comprises three objects\n",
    "\n",
    " - Model Artifacts,\n",
    " - Training Code, and\n",
    " - Inference Code,\n",
    " \n",
    "each of which interact with one another. In the XGBoost example we used training and inference code that was provided by Amazon. Here we will still be using containers provided by Amazon with the added benefit of being able to include our own custom code.\n",
    "\n",
    "We will start by implementing our own neural network in PyTorch along with a training script. For the purposes of this project we have provided the necessary model object in the `model.py` file, inside of the `train` folder. You can see the provided implementation by running the cell below."
   ]
  },
  {
   "cell_type": "code",
   "execution_count": 24,
   "metadata": {},
   "outputs": [
    {
     "name": "stdout",
     "output_type": "stream",
     "text": [
      "\u001b[34mimport\u001b[39;49;00m \u001b[04m\u001b[36mtorch.nn\u001b[39;49;00m \u001b[34mas\u001b[39;49;00m \u001b[04m\u001b[36mnn\u001b[39;49;00m\r\n",
      "\r\n",
      "\u001b[34mclass\u001b[39;49;00m \u001b[04m\u001b[32mLSTMClassifier\u001b[39;49;00m(nn.Module):\r\n",
      "    \u001b[33m\"\"\"\u001b[39;49;00m\r\n",
      "\u001b[33m    This is the simple RNN model we will be using to perform Sentiment Analysis.\u001b[39;49;00m\r\n",
      "\u001b[33m    \"\"\"\u001b[39;49;00m\r\n",
      "\r\n",
      "    \u001b[34mdef\u001b[39;49;00m \u001b[32m__init__\u001b[39;49;00m(\u001b[36mself\u001b[39;49;00m, embedding_dim, hidden_dim, vocab_size):\r\n",
      "        \u001b[33m\"\"\"\u001b[39;49;00m\r\n",
      "\u001b[33m        Initialize the model by settingg up the various layers.\u001b[39;49;00m\r\n",
      "\u001b[33m        \"\"\"\u001b[39;49;00m\r\n",
      "        \u001b[36msuper\u001b[39;49;00m(LSTMClassifier, \u001b[36mself\u001b[39;49;00m).\u001b[32m__init__\u001b[39;49;00m()\r\n",
      "\r\n",
      "        \u001b[36mself\u001b[39;49;00m.embedding = nn.Embedding(vocab_size, embedding_dim, padding_idx=\u001b[34m0\u001b[39;49;00m)\r\n",
      "        \u001b[36mself\u001b[39;49;00m.lstm = nn.LSTM(embedding_dim, hidden_dim)\r\n",
      "        \u001b[36mself\u001b[39;49;00m.dense = nn.Linear(in_features=hidden_dim, out_features=\u001b[34m1\u001b[39;49;00m)\r\n",
      "        \u001b[36mself\u001b[39;49;00m.sig = nn.Sigmoid()\r\n",
      "        \r\n",
      "        \u001b[36mself\u001b[39;49;00m.word_dict = \u001b[36mNone\u001b[39;49;00m\r\n",
      "\r\n",
      "    \u001b[34mdef\u001b[39;49;00m \u001b[32mforward\u001b[39;49;00m(\u001b[36mself\u001b[39;49;00m, x):\r\n",
      "        \u001b[33m\"\"\"\u001b[39;49;00m\r\n",
      "\u001b[33m        Perform a forward pass of our model on some input.\u001b[39;49;00m\r\n",
      "\u001b[33m        \"\"\"\u001b[39;49;00m\r\n",
      "        x = x.t()\r\n",
      "        lengths = x[\u001b[34m0\u001b[39;49;00m,:]\r\n",
      "        reviews = x[\u001b[34m1\u001b[39;49;00m:,:]\r\n",
      "        embeds = \u001b[36mself\u001b[39;49;00m.embedding(reviews)\r\n",
      "        lstm_out, _ = \u001b[36mself\u001b[39;49;00m.lstm(embeds)\r\n",
      "        out = \u001b[36mself\u001b[39;49;00m.dense(lstm_out)\r\n",
      "        out = out[lengths - \u001b[34m1\u001b[39;49;00m, \u001b[36mrange\u001b[39;49;00m(\u001b[36mlen\u001b[39;49;00m(lengths))]\r\n",
      "        \u001b[34mreturn\u001b[39;49;00m \u001b[36mself\u001b[39;49;00m.sig(out.squeeze())\r\n"
     ]
    }
   ],
   "source": [
    "!pygmentize train/model.py"
   ]
  },
  {
   "cell_type": "markdown",
   "metadata": {},
   "source": [
    "The important takeaway from the implementation provided is that there are three parameters that we may wish to tweak to improve the performance of our model. These are the embedding dimension, the hidden dimension and the size of the vocabulary. We will likely want to make these parameters configurable in the training script so that if we wish to modify them we do not need to modify the script itself. We will see how to do this later on. To start we will write some of the training code in the notebook so that we can more easily diagnose any issues that arise.\n",
    "\n",
    "First we will load a small portion of the training data set to use as a sample. It would be very time consuming to try and train the model completely in the notebook as we do not have access to a gpu and the compute instance that we are using is not particularly powerful. However, we can work on a small bit of the data to get a feel for how our training script is behaving."
   ]
  },
  {
   "cell_type": "code",
   "execution_count": 25,
   "metadata": {},
   "outputs": [],
   "source": [
    "import torch\n",
    "import torch.utils.data\n",
    "\n",
    "# Read in only the first 250 rows\n",
    "train_sample = pd.read_csv(os.path.join(data_dir, 'train.csv'), header=None, names=None, nrows=250)\n",
    "\n",
    "# Turn the input pandas dataframe into tensors\n",
    "train_sample_y = torch.from_numpy(train_sample[[0]].values).float().squeeze()\n",
    "train_sample_X = torch.from_numpy(train_sample.drop([0], axis=1).values).long()\n",
    "\n",
    "# Build the dataset\n",
    "train_sample_ds = torch.utils.data.TensorDataset(train_sample_X, train_sample_y)\n",
    "# Build the dataloader\n",
    "train_sample_dl = torch.utils.data.DataLoader(train_sample_ds, batch_size=50)"
   ]
  },
  {
   "cell_type": "markdown",
   "metadata": {},
   "source": [
    "### (TODO) Writing the training method\n",
    "\n",
    "Next we need to write the training code itself. This should be very similar to training methods that you have written before to train PyTorch models. We will leave any difficult aspects such as model saving / loading and parameter loading until a little later."
   ]
  },
  {
   "cell_type": "code",
   "execution_count": 26,
   "metadata": {},
   "outputs": [],
   "source": [
    "def train(model, train_loader, epochs, optimizer, loss_fn, device):\n",
    "    for epoch in range(1, epochs + 1):\n",
    "        model.train()\n",
    "        total_loss = 0\n",
    "        for batch in train_loader:         \n",
    "            batch_X, batch_y = batch\n",
    "            \n",
    "            batch_X = batch_X.to(device)\n",
    "            batch_y = batch_y.to(device)\n",
    "            \n",
    "            # TODO: Complete this train method to train the model provided.\n",
    "            optimizer.zero_grad()\n",
    "            output = model.forward(batch_X)\n",
    "            loss = loss_fn(output, batch_y)\n",
    "            loss.backward()\n",
    "            \n",
    "            optimizer.step()\n",
    "            \n",
    "            total_loss += loss.data.item()\n",
    "        print(\"Epoch: {}, BCELoss: {}\".format(epoch, total_loss / len(train_loader)))"
   ]
  },
  {
   "cell_type": "markdown",
   "metadata": {},
   "source": [
    "Supposing we have the training method above, we will test that it is working by writing a bit of code in the notebook that executes our training method on the small sample training set that we loaded earlier. The reason for doing this in the notebook is so that we have an opportunity to fix any errors that arise early when they are easier to diagnose."
   ]
  },
  {
   "cell_type": "code",
   "execution_count": 27,
   "metadata": {},
   "outputs": [
    {
     "name": "stdout",
     "output_type": "stream",
     "text": [
      "Epoch: 1, BCELoss: 0.6947859525680542\n",
      "Epoch: 2, BCELoss: 0.6866194009780884\n",
      "Epoch: 3, BCELoss: 0.6792903244495392\n",
      "Epoch: 4, BCELoss: 0.6719329357147217\n",
      "Epoch: 5, BCELoss: 0.6643093526363373\n"
     ]
    }
   ],
   "source": [
    "import torch.optim as optim\n",
    "from train.model import LSTMClassifier\n",
    "\n",
    "device = torch.device(\"cuda\" if torch.cuda.is_available() else \"cpu\")\n",
    "model = LSTMClassifier(32, 100, 5000).to(device)\n",
    "optimizer = optim.Adam(model.parameters())\n",
    "loss_fn = torch.nn.BCELoss()\n",
    "\n",
    "train(model, train_sample_dl, 5, optimizer, loss_fn, device)"
   ]
  },
  {
   "cell_type": "markdown",
   "metadata": {},
   "source": [
    "In order to construct a PyTorch model using SageMaker we must provide SageMaker with a training script. We may optionally include a directory which will be copied to the container and from which our training code will be run. When the training container is executed it will check the uploaded directory (if there is one) for a `requirements.txt` file and install any required Python libraries, after which the training script will be run."
   ]
  },
  {
   "cell_type": "markdown",
   "metadata": {},
   "source": [
    "### (TODO) Training the model\n",
    "\n",
    "When a PyTorch model is constructed in SageMaker, an entry point must be specified. This is the Python file which will be executed when the model is trained. Inside of the `train` directory is a file called `train.py` which has been provided and which contains most of the necessary code to train our model. The only thing that is missing is the implementation of the `train()` method which you wrote earlier in this notebook.\n",
    "\n",
    "**TODO**: Copy the `train()` method written above and paste it into the `train/train.py` file where required.\n",
    "\n",
    "The way that SageMaker passes hyperparameters to the training script is by way of arguments. These arguments can then be parsed and used in the training script. To see how this is done take a look at the provided `train/train.py` file."
   ]
  },
  {
   "cell_type": "code",
   "execution_count": 28,
   "metadata": {},
   "outputs": [],
   "source": [
    "from sagemaker.pytorch import PyTorch\n",
    "\n",
    "estimator = PyTorch(entry_point=\"train.py\",\n",
    "                    source_dir=\"train\",\n",
    "                    role=role,\n",
    "                    framework_version='0.4.0',\n",
    "                    train_instance_count=1,\n",
    "                    train_instance_type='ml.p2.xlarge',\n",
    "                    hyperparameters={\n",
    "                        'epochs': 10,\n",
    "                        'hidden_dim': 200,\n",
    "                    })"
   ]
  },
  {
   "cell_type": "code",
   "execution_count": 29,
   "metadata": {},
   "outputs": [
    {
     "name": "stdout",
     "output_type": "stream",
     "text": [
      "2020-04-09 20:14:09 Starting - Starting the training job...\n",
      "2020-04-09 20:14:11 Starting - Launching requested ML instances......\n",
      "2020-04-09 20:15:14 Starting - Preparing the instances for training......\n",
      "2020-04-09 20:16:31 Downloading - Downloading input data...\n",
      "2020-04-09 20:17:04 Training - Downloading the training image...\n",
      "2020-04-09 20:17:34 Training - Training image download completed. Training in progress..\u001b[34mbash: cannot set terminal process group (-1): Inappropriate ioctl for device\u001b[0m\n",
      "\u001b[34mbash: no job control in this shell\u001b[0m\n",
      "\u001b[34m2020-04-09 20:17:35,598 sagemaker-containers INFO     Imported framework sagemaker_pytorch_container.training\u001b[0m\n",
      "\u001b[34m2020-04-09 20:17:35,624 sagemaker_pytorch_container.training INFO     Block until all host DNS lookups succeed.\u001b[0m\n",
      "\u001b[34m2020-04-09 20:17:38,640 sagemaker_pytorch_container.training INFO     Invoking user training script.\u001b[0m\n",
      "\u001b[34m2020-04-09 20:17:39,158 sagemaker-containers INFO     Module train does not provide a setup.py. \u001b[0m\n",
      "\u001b[34mGenerating setup.py\u001b[0m\n",
      "\u001b[34m2020-04-09 20:17:39,159 sagemaker-containers INFO     Generating setup.cfg\u001b[0m\n",
      "\u001b[34m2020-04-09 20:17:39,159 sagemaker-containers INFO     Generating MANIFEST.in\u001b[0m\n",
      "\u001b[34m2020-04-09 20:17:39,159 sagemaker-containers INFO     Installing module with the following command:\u001b[0m\n",
      "\u001b[34m/usr/bin/python -m pip install -U . -r requirements.txt\u001b[0m\n",
      "\u001b[34mProcessing /opt/ml/code\u001b[0m\n",
      "\u001b[34mCollecting pandas (from -r requirements.txt (line 1))\u001b[0m\n",
      "\u001b[34m  Downloading https://files.pythonhosted.org/packages/74/24/0cdbf8907e1e3bc5a8da03345c23cbed7044330bb8f73bb12e711a640a00/pandas-0.24.2-cp35-cp35m-manylinux1_x86_64.whl (10.0MB)\u001b[0m\n",
      "\u001b[34mCollecting numpy (from -r requirements.txt (line 2))\n",
      "  Downloading https://files.pythonhosted.org/packages/ff/18/c0b937e2f84095ae230196899e56d1d7d76c8e8424fb235ed7e5bb6d68af/numpy-1.18.2-cp35-cp35m-manylinux1_x86_64.whl (20.0MB)\u001b[0m\n",
      "\u001b[34mCollecting nltk (from -r requirements.txt (line 3))\n",
      "  Downloading https://files.pythonhosted.org/packages/f6/1d/d925cfb4f324ede997f6d47bea4d9babba51b49e87a767c170b77005889d/nltk-3.4.5.zip (1.5MB)\u001b[0m\n",
      "\u001b[34mCollecting beautifulsoup4 (from -r requirements.txt (line 4))\n",
      "  Downloading https://files.pythonhosted.org/packages/e8/b5/7bb03a696f2c9b7af792a8f51b82974e51c268f15e925fc834876a4efa0b/beautifulsoup4-4.9.0-py3-none-any.whl (109kB)\u001b[0m\n",
      "\u001b[34mCollecting html5lib (from -r requirements.txt (line 5))\n",
      "  Downloading https://files.pythonhosted.org/packages/a5/62/bbd2be0e7943ec8504b517e62bab011b4946e1258842bc159e5dfde15b96/html5lib-1.0.1-py2.py3-none-any.whl (117kB)\u001b[0m\n",
      "\u001b[34mCollecting pytz>=2011k (from pandas->-r requirements.txt (line 1))\u001b[0m\n",
      "\u001b[34m  Downloading https://files.pythonhosted.org/packages/e7/f9/f0b53f88060247251bf481fa6ea62cd0d25bf1b11a87888e53ce5b7c8ad2/pytz-2019.3-py2.py3-none-any.whl (509kB)\u001b[0m\n",
      "\u001b[34mRequirement already satisfied, skipping upgrade: python-dateutil>=2.5.0 in /usr/local/lib/python3.5/dist-packages (from pandas->-r requirements.txt (line 1)) (2.7.5)\u001b[0m\n",
      "\u001b[34mRequirement already satisfied, skipping upgrade: six in /usr/local/lib/python3.5/dist-packages (from nltk->-r requirements.txt (line 3)) (1.11.0)\u001b[0m\n",
      "\u001b[34mCollecting soupsieve>1.2 (from beautifulsoup4->-r requirements.txt (line 4))\n",
      "  Downloading https://files.pythonhosted.org/packages/05/cf/ea245e52f55823f19992447b008bcbb7f78efc5960d77f6c34b5b45b36dd/soupsieve-2.0-py2.py3-none-any.whl\u001b[0m\n",
      "\u001b[34mCollecting webencodings (from html5lib->-r requirements.txt (line 5))\n",
      "  Downloading https://files.pythonhosted.org/packages/f4/24/2a3e3df732393fed8b3ebf2ec078f05546de641fe1b667ee316ec1dcf3b7/webencodings-0.5.1-py2.py3-none-any.whl\u001b[0m\n",
      "\u001b[34mBuilding wheels for collected packages: nltk, train\n",
      "  Running setup.py bdist_wheel for nltk: started\u001b[0m\n",
      "\u001b[34m  Running setup.py bdist_wheel for nltk: finished with status 'done'\n",
      "  Stored in directory: /root/.cache/pip/wheels/96/86/f6/68ab24c23f207c0077381a5e3904b2815136b879538a24b483\n",
      "  Running setup.py bdist_wheel for train: started\u001b[0m\n",
      "\u001b[34m  Running setup.py bdist_wheel for train: finished with status 'done'\n",
      "  Stored in directory: /tmp/pip-ephem-wheel-cache-ox4uttgj/wheels/35/24/16/37574d11bf9bde50616c67372a334f94fa8356bc7164af8ca3\u001b[0m\n",
      "\u001b[34mSuccessfully built nltk train\u001b[0m\n",
      "\u001b[34mInstalling collected packages: pytz, numpy, pandas, nltk, soupsieve, beautifulsoup4, webencodings, html5lib, train\n",
      "  Found existing installation: numpy 1.15.4\n",
      "    Uninstalling numpy-1.15.4:\u001b[0m\n",
      "\u001b[34m      Successfully uninstalled numpy-1.15.4\u001b[0m\n",
      "\u001b[34mSuccessfully installed beautifulsoup4-4.9.0 html5lib-1.0.1 nltk-3.4.5 numpy-1.18.2 pandas-0.24.2 pytz-2019.3 soupsieve-2.0 train-1.0.0 webencodings-0.5.1\u001b[0m\n",
      "\u001b[34mYou are using pip version 18.1, however version 20.0.2 is available.\u001b[0m\n",
      "\u001b[34mYou should consider upgrading via the 'pip install --upgrade pip' command.\u001b[0m\n",
      "\u001b[34m2020-04-09 20:17:51,874 sagemaker-containers INFO     Invoking user script\n",
      "\u001b[0m\n",
      "\u001b[34mTraining Env:\n",
      "\u001b[0m\n",
      "\u001b[34m{\n",
      "    \"input_data_config\": {\n",
      "        \"training\": {\n",
      "            \"S3DistributionType\": \"FullyReplicated\",\n",
      "            \"RecordWrapperType\": \"None\",\n",
      "            \"TrainingInputMode\": \"File\"\n",
      "        }\n",
      "    },\n",
      "    \"job_name\": \"sagemaker-pytorch-2020-04-09-20-14-08-566\",\n",
      "    \"channel_input_dirs\": {\n",
      "        \"training\": \"/opt/ml/input/data/training\"\n",
      "    },\n",
      "    \"additional_framework_parameters\": {},\n",
      "    \"log_level\": 20,\n",
      "    \"num_cpus\": 4,\n",
      "    \"input_config_dir\": \"/opt/ml/input/config\",\n",
      "    \"current_host\": \"algo-1\",\n",
      "    \"output_dir\": \"/opt/ml/output\",\n",
      "    \"model_dir\": \"/opt/ml/model\",\n",
      "    \"module_name\": \"train\",\n",
      "    \"hosts\": [\n",
      "        \"algo-1\"\n",
      "    ],\n",
      "    \"module_dir\": \"s3://sagemaker-us-east-1-550430076035/sagemaker-pytorch-2020-04-09-20-14-08-566/source/sourcedir.tar.gz\",\n",
      "    \"input_dir\": \"/opt/ml/input\",\n",
      "    \"user_entry_point\": \"train.py\",\n",
      "    \"framework_module\": \"sagemaker_pytorch_container.training:main\",\n",
      "    \"num_gpus\": 1,\n",
      "    \"hyperparameters\": {\n",
      "        \"epochs\": 10,\n",
      "        \"hidden_dim\": 200\n",
      "    },\n",
      "    \"output_intermediate_dir\": \"/opt/ml/output/intermediate\",\n",
      "    \"output_data_dir\": \"/opt/ml/output/data\",\n",
      "    \"resource_config\": {\n",
      "        \"current_host\": \"algo-1\",\n",
      "        \"hosts\": [\n",
      "            \"algo-1\"\n",
      "        ],\n",
      "        \"network_interface_name\": \"eth0\"\n",
      "    },\n",
      "    \"network_interface_name\": \"eth0\"\u001b[0m\n",
      "\u001b[34m}\n",
      "\u001b[0m\n",
      "\u001b[34mEnvironment variables:\n",
      "\u001b[0m\n",
      "\u001b[34mSM_OUTPUT_DIR=/opt/ml/output\u001b[0m\n",
      "\u001b[34mSM_HPS={\"epochs\":10,\"hidden_dim\":200}\u001b[0m\n",
      "\u001b[34mSM_HP_HIDDEN_DIM=200\u001b[0m\n",
      "\u001b[34mSM_MODEL_DIR=/opt/ml/model\u001b[0m\n",
      "\u001b[34mSM_FRAMEWORK_PARAMS={}\u001b[0m\n",
      "\u001b[34mSM_NETWORK_INTERFACE_NAME=eth0\u001b[0m\n",
      "\u001b[34mSM_NUM_GPUS=1\u001b[0m\n",
      "\u001b[34mPYTHONPATH=/usr/local/bin:/usr/lib/python35.zip:/usr/lib/python3.5:/usr/lib/python3.5/plat-x86_64-linux-gnu:/usr/lib/python3.5/lib-dynload:/usr/local/lib/python3.5/dist-packages:/usr/lib/python3/dist-packages\u001b[0m\n",
      "\u001b[34mSM_HOSTS=[\"algo-1\"]\u001b[0m\n",
      "\u001b[34mSM_LOG_LEVEL=20\u001b[0m\n",
      "\u001b[34mSM_MODULE_DIR=s3://sagemaker-us-east-1-550430076035/sagemaker-pytorch-2020-04-09-20-14-08-566/source/sourcedir.tar.gz\u001b[0m\n",
      "\u001b[34mSM_OUTPUT_DATA_DIR=/opt/ml/output/data\u001b[0m\n",
      "\u001b[34mSM_CHANNELS=[\"training\"]\u001b[0m\n",
      "\u001b[34mSM_CHANNEL_TRAINING=/opt/ml/input/data/training\u001b[0m\n",
      "\u001b[34mSM_CURRENT_HOST=algo-1\u001b[0m\n",
      "\u001b[34mSM_TRAINING_ENV={\"additional_framework_parameters\":{},\"channel_input_dirs\":{\"training\":\"/opt/ml/input/data/training\"},\"current_host\":\"algo-1\",\"framework_module\":\"sagemaker_pytorch_container.training:main\",\"hosts\":[\"algo-1\"],\"hyperparameters\":{\"epochs\":10,\"hidden_dim\":200},\"input_config_dir\":\"/opt/ml/input/config\",\"input_data_config\":{\"training\":{\"RecordWrapperType\":\"None\",\"S3DistributionType\":\"FullyReplicated\",\"TrainingInputMode\":\"File\"}},\"input_dir\":\"/opt/ml/input\",\"job_name\":\"sagemaker-pytorch-2020-04-09-20-14-08-566\",\"log_level\":20,\"model_dir\":\"/opt/ml/model\",\"module_dir\":\"s3://sagemaker-us-east-1-550430076035/sagemaker-pytorch-2020-04-09-20-14-08-566/source/sourcedir.tar.gz\",\"module_name\":\"train\",\"network_interface_name\":\"eth0\",\"num_cpus\":4,\"num_gpus\":1,\"output_data_dir\":\"/opt/ml/output/data\",\"output_dir\":\"/opt/ml/output\",\"output_intermediate_dir\":\"/opt/ml/output/intermediate\",\"resource_config\":{\"current_host\":\"algo-1\",\"hosts\":[\"algo-1\"],\"network_interface_name\":\"eth0\"},\"user_entry_point\":\"train.py\"}\u001b[0m\n",
      "\u001b[34mSM_INPUT_DIR=/opt/ml/input\u001b[0m\n",
      "\u001b[34mSM_INPUT_DATA_CONFIG={\"training\":{\"RecordWrapperType\":\"None\",\"S3DistributionType\":\"FullyReplicated\",\"TrainingInputMode\":\"File\"}}\u001b[0m\n",
      "\u001b[34mSM_FRAMEWORK_MODULE=sagemaker_pytorch_container.training:main\u001b[0m\n",
      "\u001b[34mSM_INPUT_CONFIG_DIR=/opt/ml/input/config\u001b[0m\n",
      "\u001b[34mSM_MODULE_NAME=train\u001b[0m\n",
      "\u001b[34mSM_USER_ENTRY_POINT=train.py\u001b[0m\n",
      "\u001b[34mSM_RESOURCE_CONFIG={\"current_host\":\"algo-1\",\"hosts\":[\"algo-1\"],\"network_interface_name\":\"eth0\"}\u001b[0m\n",
      "\u001b[34mSM_USER_ARGS=[\"--epochs\",\"10\",\"--hidden_dim\",\"200\"]\u001b[0m\n",
      "\u001b[34mSM_NUM_CPUS=4\u001b[0m\n",
      "\u001b[34mSM_HP_EPOCHS=10\u001b[0m\n",
      "\u001b[34mSM_OUTPUT_INTERMEDIATE_DIR=/opt/ml/output/intermediate\n",
      "\u001b[0m\n",
      "\u001b[34mInvoking script with the following command:\n",
      "\u001b[0m\n",
      "\u001b[34m/usr/bin/python -m train --epochs 10 --hidden_dim 200\n",
      "\n",
      "\u001b[0m\n",
      "\u001b[34mUsing device cuda.\u001b[0m\n",
      "\u001b[34mGet train data loader.\u001b[0m\n"
     ]
    },
    {
     "name": "stdout",
     "output_type": "stream",
     "text": [
      "\n",
      "2020-04-09 20:18:07 Uploading - Uploading generated training model\n",
      "2020-04-09 20:18:07 Completed - Training job completed\n",
      "\u001b[34mModel loaded with embedding_dim 32, hidden_dim 200, vocab_size 5000.\u001b[0m\n",
      "\u001b[34mEpoch: 1, BCELoss: 0.6926591992378235\u001b[0m\n",
      "\u001b[34mEpoch: 2, BCELoss: 0.6853913068771362\u001b[0m\n",
      "\u001b[34mEpoch: 3, BCELoss: 0.6781159043312073\u001b[0m\n",
      "\u001b[34mEpoch: 4, BCELoss: 0.670676589012146\u001b[0m\n",
      "\u001b[34mEpoch: 5, BCELoss: 0.6629030108451843\u001b[0m\n",
      "\u001b[34mEpoch: 6, BCELoss: 0.6546187400817871\u001b[0m\n",
      "\u001b[34mEpoch: 7, BCELoss: 0.6456328630447388\u001b[0m\n",
      "\u001b[34mEpoch: 8, BCELoss: 0.6357253789901733\u001b[0m\n",
      "\u001b[34mEpoch: 9, BCELoss: 0.6246357560157776\u001b[0m\n",
      "\u001b[34mEpoch: 10, BCELoss: 0.6120463609695435\u001b[0m\n",
      "\u001b[34m2020-04-09 20:17:58,801 sagemaker-containers INFO     Reporting training SUCCESS\u001b[0m\n",
      "Training seconds: 96\n",
      "Billable seconds: 96\n"
     ]
    }
   ],
   "source": [
    "estimator.fit({'training': input_data})"
   ]
  },
  {
   "cell_type": "markdown",
   "metadata": {},
   "source": [
    "## Step 5: Testing the model\n",
    "\n",
    "As mentioned at the top of this notebook, we will be testing this model by first deploying it and then sending the testing data to the deployed endpoint. We will do this so that we can make sure that the deployed model is working correctly.\n",
    "\n",
    "## Step 6: Deploy the model for testing\n",
    "\n",
    "Now that we have trained our model, we would like to test it to see how it performs. Currently our model takes input of the form `review_length, review[500]` where `review[500]` is a sequence of `500` integers which describe the words present in the review, encoded using `word_dict`. Fortunately for us, SageMaker provides built-in inference code for models with simple inputs such as this.\n",
    "\n",
    "There is one thing that we need to provide, however, and that is a function which loads the saved model. This function must be called `model_fn()` and takes as its only parameter a path to the directory where the model artifacts are stored. This function must also be present in the python file which we specified as the entry point. In our case the model loading function has been provided and so no changes need to be made.\n",
    "\n",
    "**NOTE**: When the built-in inference code is run it must import the `model_fn()` method from the `train.py` file. This is why the training code is wrapped in a main guard ( ie, `if __name__ == '__main__':` )\n",
    "\n",
    "Since we don't need to change anything in the code that was uploaded during training, we can simply deploy the current model as-is.\n",
    "\n",
    "**NOTE:** When deploying a model you are asking SageMaker to launch an compute instance that will wait for data to be sent to it. As a result, this compute instance will continue to run until *you* shut it down. This is important to know since the cost of a deployed endpoint depends on how long it has been running for.\n",
    "\n",
    "In other words **If you are no longer using a deployed endpoint, shut it down!**\n",
    "\n",
    "**TODO:** Deploy the trained model."
   ]
  },
  {
   "cell_type": "code",
   "execution_count": 30,
   "metadata": {},
   "outputs": [
    {
     "name": "stdout",
     "output_type": "stream",
     "text": [
      "---------------!"
     ]
    }
   ],
   "source": [
    "# TODO: Deploy the trained model\n",
    "predictor = estimator.deploy(initial_instance_count = 1, instance_type = 'ml.m4.xlarge')"
   ]
  },
  {
   "cell_type": "markdown",
   "metadata": {},
   "source": [
    "## Step 7 - Use the model for testing\n",
    "\n",
    "Once deployed, we can read in the test data and send it off to our deployed model to get some results. Once we collect all of the results we can determine how accurate our model is."
   ]
  },
  {
   "cell_type": "code",
   "execution_count": 31,
   "metadata": {},
   "outputs": [],
   "source": [
    "test_X = pd.concat([pd.DataFrame(test_X_len), pd.DataFrame(test_X)], axis=1)\\\n"
   ]
  },
  {
   "cell_type": "code",
   "execution_count": 32,
   "metadata": {},
   "outputs": [],
   "source": [
    "# We split the data into chunks and send each chunk seperately, accumulating the results.\n",
    "\n",
    "def predict(data, rows=512):\n",
    "    split_array = np.array_split(data, int(data.shape[0] / float(rows) + 1))\n",
    "    predictions = np.array([])\n",
    "    for array in split_array:\n",
    "        predictions = np.append(predictions, predictor.predict(array))\n",
    "    \n",
    "    return predictions"
   ]
  },
  {
   "cell_type": "code",
   "execution_count": 33,
   "metadata": {},
   "outputs": [],
   "source": [
    "predictions = predict(test_X.values)\n",
    "predictions = [round(num) for num in predictions]"
   ]
  },
  {
   "cell_type": "code",
   "execution_count": 34,
   "metadata": {},
   "outputs": [
    {
     "data": {
      "text/plain": [
       "0.55"
      ]
     },
     "execution_count": 34,
     "metadata": {},
     "output_type": "execute_result"
    }
   ],
   "source": [
    "from sklearn.metrics import accuracy_score\n",
    "accuracy_score(test_y, predictions)"
   ]
  },
  {
   "cell_type": "markdown",
   "metadata": {},
   "source": [
    "**Question:** How does this model compare to the XGBoost model you created earlier? Why might these two models perform differently on this dataset? Which do *you* think is better for sentiment analysis?"
   ]
  },
  {
   "cell_type": "markdown",
   "metadata": {},
   "source": [
    "**Answer:**\n",
    "This model's accurancy score is not much better as i expected."
   ]
  },
  {
   "cell_type": "markdown",
   "metadata": {},
   "source": [
    "### (TODO) More testing\n",
    "\n",
    "We now have a trained model which has been deployed and which we can send processed reviews to and which returns the predicted sentiment. However, ultimately we would like to be able to send our model an unprocessed review. That is, we would like to send the review itself as a string. For example, suppose we wish to send the following review to our model."
   ]
  },
  {
   "cell_type": "code",
   "execution_count": 35,
   "metadata": {},
   "outputs": [],
   "source": [
    "test_review = 'The simplest pleasures in life are the best, and this film is one of them. Combining a rather basic storyline of love and adventure this movie transcends the usual weekend fair with wit and unmitigated charm.'"
   ]
  },
  {
   "cell_type": "markdown",
   "metadata": {},
   "source": [
    "The question we now need to answer is, how do we send this review to our model?\n",
    "\n",
    "Recall in the first section of this notebook we did a bunch of data processing to the IMDb dataset. In particular, we did two specific things to the provided reviews.\n",
    " - Removed any html tags and stemmed the input\n",
    " - Encoded the review as a sequence of integers using `word_dict`\n",
    " \n",
    "In order process the review we will need to repeat these two steps.\n",
    "\n",
    "**TODO**: Using the `review_to_words` and `convert_and_pad` methods from section one, convert `test_review` into a numpy array `test_data` suitable to send to our model. Remember that our model expects input of the form `review_length, review[500]`."
   ]
  },
  {
   "cell_type": "code",
   "execution_count": 36,
   "metadata": {},
   "outputs": [],
   "source": [
    "# TODO: Convert test_review into a form usable by the model and save the results in test_data\n",
    "test_data = review_to_words(test_review)"
   ]
  },
  {
   "cell_type": "code",
   "execution_count": 37,
   "metadata": {},
   "outputs": [],
   "source": [
    "test_data = [np.array(convert_and_pad(word_dict, test_data)[0])]"
   ]
  },
  {
   "cell_type": "markdown",
   "metadata": {},
   "source": [
    "Now that we have processed the review, we can send the resulting array to our model to predict the sentiment of the review."
   ]
  },
  {
   "cell_type": "code",
   "execution_count": 38,
   "metadata": {},
   "outputs": [
    {
     "data": {
      "text/plain": [
       "array(0.47718668, dtype=float32)"
      ]
     },
     "execution_count": 38,
     "metadata": {},
     "output_type": "execute_result"
    }
   ],
   "source": [
    "predictor.predict(test_data)"
   ]
  },
  {
   "cell_type": "markdown",
   "metadata": {},
   "source": [
    "Since the return value of our model is close to `1`, we can be certain that the review we submitted is positive."
   ]
  },
  {
   "cell_type": "markdown",
   "metadata": {},
   "source": [
    "### Delete the endpoint\n",
    "\n",
    "Of course, just like in the XGBoost notebook, once we've deployed an endpoint it continues to run until we tell it to shut down. Since we are done using our endpoint for now, we can delete it."
   ]
  },
  {
   "cell_type": "code",
   "execution_count": 39,
   "metadata": {},
   "outputs": [],
   "source": [
    "estimator.delete_endpoint()"
   ]
  },
  {
   "cell_type": "markdown",
   "metadata": {},
   "source": [
    "## Step 6 (again) - Deploy the model for the web app\n",
    "\n",
    "Now that we know that our model is working, it's time to create some custom inference code so that we can send the model a review which has not been processed and have it determine the sentiment of the review.\n",
    "\n",
    "As we saw above, by default the estimator which we created, when deployed, will use the entry script and directory which we provided when creating the model. However, since we now wish to accept a string as input and our model expects a processed review, we need to write some custom inference code.\n",
    "\n",
    "We will store the code that we write in the `serve` directory. Provided in this directory is the `model.py` file that we used to construct our model, a `utils.py` file which contains the `review_to_words` and `convert_and_pad` pre-processing functions which we used during the initial data processing, and `predict.py`, the file which will contain our custom inference code. Note also that `requirements.txt` is present which will tell SageMaker what Python libraries are required by our custom inference code.\n",
    "\n",
    "When deploying a PyTorch model in SageMaker, you are expected to provide four functions which the SageMaker inference container will use.\n",
    " - `model_fn`: This function is the same function that we used in the training script and it tells SageMaker how to load our model.\n",
    " - `input_fn`: This function receives the raw serialized input that has been sent to the model's endpoint and its job is to de-serialize and make the input available for the inference code.\n",
    " - `output_fn`: This function takes the output of the inference code and its job is to serialize this output and return it to the caller of the model's endpoint.\n",
    " - `predict_fn`: The heart of the inference script, this is where the actual prediction is done and is the function which you will need to complete.\n",
    "\n",
    "For the simple website that we are constructing during this project, the `input_fn` and `output_fn` methods are relatively straightforward. We only require being able to accept a string as input and we expect to return a single value as output. You might imagine though that in a more complex application the input or output may be image data or some other binary data which would require some effort to serialize.\n",
    "\n",
    "### (TODO) Writing inference code\n",
    "\n",
    "Before writing our custom inference code, we will begin by taking a look at the code which has been provided."
   ]
  },
  {
   "cell_type": "code",
   "execution_count": 40,
   "metadata": {},
   "outputs": [
    {
     "name": "stdout",
     "output_type": "stream",
     "text": [
      "\u001b[34mimport\u001b[39;49;00m \u001b[04m\u001b[36margparse\u001b[39;49;00m\r\n",
      "\u001b[34mimport\u001b[39;49;00m \u001b[04m\u001b[36mjson\u001b[39;49;00m\r\n",
      "\u001b[34mimport\u001b[39;49;00m \u001b[04m\u001b[36mos\u001b[39;49;00m\r\n",
      "\u001b[34mimport\u001b[39;49;00m \u001b[04m\u001b[36mpickle\u001b[39;49;00m\r\n",
      "\u001b[34mimport\u001b[39;49;00m \u001b[04m\u001b[36msys\u001b[39;49;00m\r\n",
      "\u001b[34mimport\u001b[39;49;00m \u001b[04m\u001b[36msagemaker_containers\u001b[39;49;00m\r\n",
      "\u001b[34mimport\u001b[39;49;00m \u001b[04m\u001b[36mpandas\u001b[39;49;00m \u001b[34mas\u001b[39;49;00m \u001b[04m\u001b[36mpd\u001b[39;49;00m\r\n",
      "\u001b[34mimport\u001b[39;49;00m \u001b[04m\u001b[36mnumpy\u001b[39;49;00m \u001b[34mas\u001b[39;49;00m \u001b[04m\u001b[36mnp\u001b[39;49;00m\r\n",
      "\u001b[34mimport\u001b[39;49;00m \u001b[04m\u001b[36mtorch\u001b[39;49;00m\r\n",
      "\u001b[34mimport\u001b[39;49;00m \u001b[04m\u001b[36mtorch.nn\u001b[39;49;00m \u001b[34mas\u001b[39;49;00m \u001b[04m\u001b[36mnn\u001b[39;49;00m\r\n",
      "\u001b[34mimport\u001b[39;49;00m \u001b[04m\u001b[36mtorch.optim\u001b[39;49;00m \u001b[34mas\u001b[39;49;00m \u001b[04m\u001b[36moptim\u001b[39;49;00m\r\n",
      "\u001b[34mimport\u001b[39;49;00m \u001b[04m\u001b[36mtorch.utils.data\u001b[39;49;00m\r\n",
      "\r\n",
      "\u001b[34mfrom\u001b[39;49;00m \u001b[04m\u001b[36mmodel\u001b[39;49;00m \u001b[34mimport\u001b[39;49;00m LSTMClassifier\r\n",
      "\r\n",
      "\u001b[34mfrom\u001b[39;49;00m \u001b[04m\u001b[36mutils\u001b[39;49;00m \u001b[34mimport\u001b[39;49;00m review_to_words, convert_and_pad\r\n",
      "\r\n",
      "\u001b[34mdef\u001b[39;49;00m \u001b[32mmodel_fn\u001b[39;49;00m(model_dir):\r\n",
      "    \u001b[33m\"\"\"Load the PyTorch model from the `model_dir` directory.\"\"\"\u001b[39;49;00m\r\n",
      "    \u001b[34mprint\u001b[39;49;00m(\u001b[33m\"\u001b[39;49;00m\u001b[33mLoading model.\u001b[39;49;00m\u001b[33m\"\u001b[39;49;00m)\r\n",
      "\r\n",
      "    \u001b[37m# First, load the parameters used to create the model.\u001b[39;49;00m\r\n",
      "    model_info = {}\r\n",
      "    model_info_path = os.path.join(model_dir, \u001b[33m'\u001b[39;49;00m\u001b[33mmodel_info.pth\u001b[39;49;00m\u001b[33m'\u001b[39;49;00m)\r\n",
      "    \u001b[34mwith\u001b[39;49;00m \u001b[36mopen\u001b[39;49;00m(model_info_path, \u001b[33m'\u001b[39;49;00m\u001b[33mrb\u001b[39;49;00m\u001b[33m'\u001b[39;49;00m) \u001b[34mas\u001b[39;49;00m f:\r\n",
      "        model_info = torch.load(f)\r\n",
      "\r\n",
      "    \u001b[34mprint\u001b[39;49;00m(\u001b[33m\"\u001b[39;49;00m\u001b[33mmodel_info: {}\u001b[39;49;00m\u001b[33m\"\u001b[39;49;00m.format(model_info))\r\n",
      "\r\n",
      "    \u001b[37m# Determine the device and construct the model.\u001b[39;49;00m\r\n",
      "    device = torch.device(\u001b[33m\"\u001b[39;49;00m\u001b[33mcuda\u001b[39;49;00m\u001b[33m\"\u001b[39;49;00m \u001b[34mif\u001b[39;49;00m torch.cuda.is_available() \u001b[34melse\u001b[39;49;00m \u001b[33m\"\u001b[39;49;00m\u001b[33mcpu\u001b[39;49;00m\u001b[33m\"\u001b[39;49;00m)\r\n",
      "    model = LSTMClassifier(model_info[\u001b[33m'\u001b[39;49;00m\u001b[33membedding_dim\u001b[39;49;00m\u001b[33m'\u001b[39;49;00m], model_info[\u001b[33m'\u001b[39;49;00m\u001b[33mhidden_dim\u001b[39;49;00m\u001b[33m'\u001b[39;49;00m], model_info[\u001b[33m'\u001b[39;49;00m\u001b[33mvocab_size\u001b[39;49;00m\u001b[33m'\u001b[39;49;00m])\r\n",
      "\r\n",
      "    \u001b[37m# Load the store model parameters.\u001b[39;49;00m\r\n",
      "    model_path = os.path.join(model_dir, \u001b[33m'\u001b[39;49;00m\u001b[33mmodel.pth\u001b[39;49;00m\u001b[33m'\u001b[39;49;00m)\r\n",
      "    \u001b[34mwith\u001b[39;49;00m \u001b[36mopen\u001b[39;49;00m(model_path, \u001b[33m'\u001b[39;49;00m\u001b[33mrb\u001b[39;49;00m\u001b[33m'\u001b[39;49;00m) \u001b[34mas\u001b[39;49;00m f:\r\n",
      "        model.load_state_dict(torch.load(f))\r\n",
      "\r\n",
      "    \u001b[37m# Load the saved word_dict.\u001b[39;49;00m\r\n",
      "    word_dict_path = os.path.join(model_dir, \u001b[33m'\u001b[39;49;00m\u001b[33mword_dict.pkl\u001b[39;49;00m\u001b[33m'\u001b[39;49;00m)\r\n",
      "    \u001b[34mwith\u001b[39;49;00m \u001b[36mopen\u001b[39;49;00m(word_dict_path, \u001b[33m'\u001b[39;49;00m\u001b[33mrb\u001b[39;49;00m\u001b[33m'\u001b[39;49;00m) \u001b[34mas\u001b[39;49;00m f:\r\n",
      "        model.word_dict = pickle.load(f)\r\n",
      "\r\n",
      "    model.to(device).eval()\r\n",
      "\r\n",
      "    \u001b[34mprint\u001b[39;49;00m(\u001b[33m\"\u001b[39;49;00m\u001b[33mDone loading model.\u001b[39;49;00m\u001b[33m\"\u001b[39;49;00m)\r\n",
      "    \u001b[34mreturn\u001b[39;49;00m model\r\n",
      "\r\n",
      "\u001b[34mdef\u001b[39;49;00m \u001b[32minput_fn\u001b[39;49;00m(serialized_input_data, content_type):\r\n",
      "    \u001b[34mprint\u001b[39;49;00m(\u001b[33m'\u001b[39;49;00m\u001b[33mDeserializing the input data.\u001b[39;49;00m\u001b[33m'\u001b[39;49;00m)\r\n",
      "    \u001b[34mif\u001b[39;49;00m content_type == \u001b[33m'\u001b[39;49;00m\u001b[33mtext/plain\u001b[39;49;00m\u001b[33m'\u001b[39;49;00m:\r\n",
      "        data = serialized_input_data.decode(\u001b[33m'\u001b[39;49;00m\u001b[33mutf-8\u001b[39;49;00m\u001b[33m'\u001b[39;49;00m)\r\n",
      "        \u001b[34mreturn\u001b[39;49;00m data\r\n",
      "    \u001b[34mraise\u001b[39;49;00m \u001b[36mException\u001b[39;49;00m(\u001b[33m'\u001b[39;49;00m\u001b[33mRequested unsupported ContentType in content_type: \u001b[39;49;00m\u001b[33m'\u001b[39;49;00m + content_type)\r\n",
      "\r\n",
      "\u001b[34mdef\u001b[39;49;00m \u001b[32moutput_fn\u001b[39;49;00m(prediction_output, accept):\r\n",
      "    \u001b[34mprint\u001b[39;49;00m(\u001b[33m'\u001b[39;49;00m\u001b[33mSerializing the generated output.\u001b[39;49;00m\u001b[33m'\u001b[39;49;00m)\r\n",
      "    \u001b[34mreturn\u001b[39;49;00m \u001b[36mstr\u001b[39;49;00m(prediction_output)\r\n",
      "\r\n",
      "\u001b[34mdef\u001b[39;49;00m \u001b[32mpredict_fn\u001b[39;49;00m(input_data, model):\r\n",
      "    \u001b[34mprint\u001b[39;49;00m(\u001b[33m'\u001b[39;49;00m\u001b[33mInferring sentiment of input data.\u001b[39;49;00m\u001b[33m'\u001b[39;49;00m)\r\n",
      "\r\n",
      "    device = torch.device(\u001b[33m\"\u001b[39;49;00m\u001b[33mcuda\u001b[39;49;00m\u001b[33m\"\u001b[39;49;00m \u001b[34mif\u001b[39;49;00m torch.cuda.is_available() \u001b[34melse\u001b[39;49;00m \u001b[33m\"\u001b[39;49;00m\u001b[33mcpu\u001b[39;49;00m\u001b[33m\"\u001b[39;49;00m)\r\n",
      "    \r\n",
      "    \u001b[34mif\u001b[39;49;00m model.word_dict \u001b[35mis\u001b[39;49;00m \u001b[36mNone\u001b[39;49;00m:\r\n",
      "        \u001b[34mraise\u001b[39;49;00m \u001b[36mException\u001b[39;49;00m(\u001b[33m'\u001b[39;49;00m\u001b[33mModel has not been loaded properly, no word_dict.\u001b[39;49;00m\u001b[33m'\u001b[39;49;00m)\r\n",
      "    \r\n",
      "    data_X, data_len = convert_and_pad(model.word_dict, review_to_words(input_data))\r\n",
      "\r\n",
      "    \u001b[37m# Using data_X and data_len we construct an appropriate input tensor. Remember\u001b[39;49;00m\r\n",
      "    \u001b[37m# that our model expects input data of the form 'len, review[500]'.\u001b[39;49;00m\r\n",
      "    data_pack = np.hstack((data_len, data_X))\r\n",
      "    data_pack = data_pack.reshape(\u001b[34m1\u001b[39;49;00m, -\u001b[34m1\u001b[39;49;00m)\r\n",
      "    \r\n",
      "    data = torch.from_numpy(data_pack)\r\n",
      "    data = data.to(device)\r\n",
      "\r\n",
      "    \u001b[37m# Make sure to put the model into evaluation mode\u001b[39;49;00m\r\n",
      "    model.eval()\r\n",
      "\r\n",
      "    \r\n",
      "    \u001b[34mwith\u001b[39;49;00m torch.no_grad():\r\n",
      "        output = model.forward(data)\r\n",
      "        \r\n",
      "    result = np.round(output.numpy())\r\n",
      "\r\n",
      "    \u001b[34mreturn\u001b[39;49;00m result\r\n"
     ]
    }
   ],
   "source": [
    "!pygmentize serve/predict.py"
   ]
  },
  {
   "cell_type": "markdown",
   "metadata": {},
   "source": [
    "As mentioned earlier, the `model_fn` method is the same as the one provided in the training code and the `input_fn` and `output_fn` methods are very simple and your task will be to complete the `predict_fn` method. Make sure that you save the completed file as `predict.py` in the `serve` directory.\n",
    "\n",
    "**TODO**: Complete the `predict_fn()` method in the `serve/predict.py` file."
   ]
  },
  {
   "cell_type": "markdown",
   "metadata": {},
   "source": [
    "### Deploying the model\n",
    "\n",
    "Now that the custom inference code has been written, we will create and deploy our model. To begin with, we need to construct a new PyTorchModel object which points to the model artifacts created during training and also points to the inference code that we wish to use. Then we can call the deploy method to launch the deployment container.\n",
    "\n",
    "**NOTE**: The default behaviour for a deployed PyTorch model is to assume that any input passed to the predictor is a `numpy` array. In our case we want to send a string so we need to construct a simple wrapper around the `RealTimePredictor` class to accomodate simple strings. In a more complicated situation you may want to provide a serialization object, for example if you wanted to sent image data."
   ]
  },
  {
   "cell_type": "code",
   "execution_count": 41,
   "metadata": {},
   "outputs": [
    {
     "name": "stdout",
     "output_type": "stream",
     "text": [
      "---------------!"
     ]
    }
   ],
   "source": [
    "from sagemaker.predictor import RealTimePredictor\n",
    "from sagemaker.pytorch import PyTorchModel\n",
    "\n",
    "class StringPredictor(RealTimePredictor):\n",
    "    def __init__(self, endpoint_name, sagemaker_session):\n",
    "        super(StringPredictor, self).__init__(endpoint_name, sagemaker_session, content_type='text/plain')\n",
    "\n",
    "model = PyTorchModel(model_data=estimator.model_data,\n",
    "                     role = role,\n",
    "                     framework_version='0.4.0',\n",
    "                     entry_point='predict.py',\n",
    "                     source_dir='serve',\n",
    "                     predictor_cls=StringPredictor)\n",
    "predictor = model.deploy(initial_instance_count=1, instance_type='ml.m4.xlarge')"
   ]
  },
  {
   "cell_type": "markdown",
   "metadata": {},
   "source": [
    "### Testing the model\n",
    "\n",
    "Now that we have deployed our model with the custom inference code, we should test to see if everything is working. Here we test our model by loading the first `250` positive and negative reviews and send them to the endpoint, then collect the results. The reason for only sending some of the data is that the amount of time it takes for our model to process the input and then perform inference is quite long and so testing the entire data set would be prohibitive."
   ]
  },
  {
   "cell_type": "code",
   "execution_count": 42,
   "metadata": {},
   "outputs": [],
   "source": [
    "import glob\n",
    "\n",
    "def test_reviews(data_dir='../data/aclImdb', stop=250):\n",
    "    \n",
    "    results = []\n",
    "    ground = []\n",
    "    \n",
    "    # We make sure to test both positive and negative reviews    \n",
    "    for sentiment in ['pos', 'neg']:\n",
    "        \n",
    "        path = os.path.join(data_dir, 'test', sentiment, '*.txt')\n",
    "        files = glob.glob(path)\n",
    "        \n",
    "        files_read = 0\n",
    "        \n",
    "        print('Starting ', sentiment, ' files')\n",
    "        \n",
    "        # Iterate through the files and send them to the predictor\n",
    "        for f in files:\n",
    "            with open(f) as review:\n",
    "                # First, we store the ground truth (was the review positive or negative)\n",
    "                if sentiment == 'pos':\n",
    "                    ground.append(1)\n",
    "                else:\n",
    "                    ground.append(0)\n",
    "                # Read in the review and convert to 'utf-8' for transmission via HTTP\n",
    "                review_input = review.read().encode('utf-8')\n",
    "                # Send the review to the predictor and store the results\n",
    "                results.append(float(predictor.predict(review_input)))\n",
    "                \n",
    "            # Sending reviews to our endpoint one at a time takes a while so we\n",
    "            # only send a small number of reviews\n",
    "            files_read += 1\n",
    "            if files_read == stop:\n",
    "                break\n",
    "            \n",
    "    return ground, results"
   ]
  },
  {
   "cell_type": "code",
   "execution_count": 43,
   "metadata": {},
   "outputs": [
    {
     "name": "stdout",
     "output_type": "stream",
     "text": [
      "Starting  pos  files\n",
      "Starting  neg  files\n"
     ]
    }
   ],
   "source": [
    "ground, results = test_reviews()"
   ]
  },
  {
   "cell_type": "code",
   "execution_count": 44,
   "metadata": {},
   "outputs": [
    {
     "data": {
      "text/plain": [
       "0.532"
      ]
     },
     "execution_count": 44,
     "metadata": {},
     "output_type": "execute_result"
    }
   ],
   "source": [
    "from sklearn.metrics import accuracy_score\n",
    "accuracy_score(ground, results)"
   ]
  },
  {
   "cell_type": "markdown",
   "metadata": {},
   "source": [
    "As an additional test, we can try sending the `test_review` that we looked at earlier."
   ]
  },
  {
   "cell_type": "code",
   "execution_count": 45,
   "metadata": {},
   "outputs": [
    {
     "data": {
      "text/plain": [
       "b'1.0'"
      ]
     },
     "execution_count": 45,
     "metadata": {},
     "output_type": "execute_result"
    }
   ],
   "source": [
    "predictor.predict(test_review)"
   ]
  },
  {
   "cell_type": "markdown",
   "metadata": {},
   "source": [
    "Now that we know our endpoint is working as expected, we can set up the web page that will interact with it. If you don't have time to finish the project now, make sure to skip down to the end of this notebook and shut down your endpoint. You can deploy it again when you come back."
   ]
  },
  {
   "cell_type": "markdown",
   "metadata": {},
   "source": [
    "## Step 7 (again): Use the model for the web app\n",
    "\n",
    "> **TODO:** This entire section and the next contain tasks for you to complete, mostly using the AWS console.\n",
    "\n",
    "So far we have been accessing our model endpoint by constructing a predictor object which uses the endpoint and then just using the predictor object to perform inference. What if we wanted to create a web app which accessed our model? The way things are set up currently makes that not possible since in order to access a SageMaker endpoint the app would first have to authenticate with AWS using an IAM role which included access to SageMaker endpoints. However, there is an easier way! We just need to use some additional AWS services.\n",
    "\n",
    "<img src=\"Web App Diagram.svg\">\n",
    "\n",
    "The diagram above gives an overview of how the various services will work together. On the far right is the model which we trained above and which is deployed using SageMaker. On the far left is our web app that collects a user's movie review, sends it off and expects a positive or negative sentiment in return.\n",
    "\n",
    "In the middle is where some of the magic happens. We will construct a Lambda function, which you can think of as a straightforward Python function that can be executed whenever a specified event occurs. We will give this function permission to send and recieve data from a SageMaker endpoint.\n",
    "\n",
    "Lastly, the method we will use to execute the Lambda function is a new endpoint that we will create using API Gateway. This endpoint will be a url that listens for data to be sent to it. Once it gets some data it will pass that data on to the Lambda function and then return whatever the Lambda function returns. Essentially it will act as an interface that lets our web app communicate with the Lambda function.\n",
    "\n",
    "### Setting up a Lambda function\n",
    "\n",
    "The first thing we are going to do is set up a Lambda function. This Lambda function will be executed whenever our public API has data sent to it. When it is executed it will receive the data, perform any sort of processing that is required, send the data (the review) to the SageMaker endpoint we've created and then return the result.\n",
    "\n",
    "#### Part A: Create an IAM Role for the Lambda function\n",
    "\n",
    "Since we want the Lambda function to call a SageMaker endpoint, we need to make sure that it has permission to do so. To do this, we will construct a role that we can later give the Lambda function.\n",
    "\n",
    "Using the AWS Console, navigate to the **IAM** page and click on **Roles**. Then, click on **Create role**. Make sure that the **AWS service** is the type of trusted entity selected and choose **Lambda** as the service that will use this role, then click **Next: Permissions**.\n",
    "\n",
    "In the search box type `sagemaker` and select the check box next to the **AmazonSageMakerFullAccess** policy. Then, click on **Next: Review**.\n",
    "\n",
    "Lastly, give this role a name. Make sure you use a name that you will remember later on, for example `LambdaSageMakerRole`. Then, click on **Create role**.\n",
    "\n",
    "#### Part B: Create a Lambda function\n",
    "\n",
    "Now it is time to actually create the Lambda function.\n",
    "\n",
    "Using the AWS Console, navigate to the AWS Lambda page and click on **Create a function**. When you get to the next page, make sure that **Author from scratch** is selected. Now, name your Lambda function, using a name that you will remember later on, for example `sentiment_analysis_func`. Make sure that the **Python 3.6** runtime is selected and then choose the role that you created in the previous part. Then, click on **Create Function**.\n",
    "\n",
    "On the next page you will see some information about the Lambda function you've just created. If you scroll down you should see an editor in which you can write the code that will be executed when your Lambda function is triggered. In our example, we will use the code below. \n",
    "\n",
    "```python\n",
    "# We need to use the low-level library to interact with SageMaker since the SageMaker API\n",
    "# is not available natively through Lambda.\n",
    "import boto3\n",
    "\n",
    "def lambda_handler(event, context):\n",
    "\n",
    "    # The SageMaker runtime is what allows us to invoke the endpoint that we've created.\n",
    "    runtime = boto3.Session().client('sagemaker-runtime')\n",
    "\n",
    "    # Now we use the SageMaker runtime to invoke our endpoint, sending the review we were given\n",
    "    response = runtime.invoke_endpoint(EndpointName = '**ENDPOINT NAME HERE**',    # The name of the endpoint we created\n",
    "                                       ContentType = 'text/plain',                 # The data format that is expected\n",
    "                                       Body = event['body'])                       # The actual review\n",
    "\n",
    "    # The response is an HTTP response whose body contains the result of our inference\n",
    "    result = response['Body'].read().decode('utf-8')\n",
    "\n",
    "    return {\n",
    "        'statusCode' : 200,\n",
    "        'headers' : { 'Content-Type' : 'text/plain', 'Access-Control-Allow-Origin' : '*' },\n",
    "        'body' : result\n",
    "    }\n",
    "```\n",
    "\n",
    "Once you have copy and pasted the code above into the Lambda code editor, replace the `**ENDPOINT NAME HERE**` portion with the name of the endpoint that we deployed earlier. You can determine the name of the endpoint using the code cell below."
   ]
  },
  {
   "cell_type": "code",
   "execution_count": 46,
   "metadata": {},
   "outputs": [
    {
     "data": {
      "text/plain": [
       "'sagemaker-pytorch-2020-04-09-20-29-33-095'"
      ]
     },
     "execution_count": 46,
     "metadata": {},
     "output_type": "execute_result"
    }
   ],
   "source": [
    "predictor.endpoint"
   ]
  },
  {
   "cell_type": "markdown",
   "metadata": {},
   "source": [
    "Once you have added the endpoint name to the Lambda function, click on **Save**. Your Lambda function is now up and running. Next we need to create a way for our web app to execute the Lambda function.\n",
    "\n",
    "### Setting up API Gateway\n",
    "\n",
    "Now that our Lambda function is set up, it is time to create a new API using API Gateway that will trigger the Lambda function we have just created.\n",
    "\n",
    "Using AWS Console, navigate to **Amazon API Gateway** and then click on **Get started**.\n",
    "\n",
    "On the next page, make sure that **New API** is selected and give the new api a name, for example, `sentiment_analysis_api`. Then, click on **Create API**.\n",
    "\n",
    "Now we have created an API, however it doesn't currently do anything. What we want it to do is to trigger the Lambda function that we created earlier.\n",
    "\n",
    "Select the **Actions** dropdown menu and click **Create Method**. A new blank method will be created, select its dropdown menu and select **POST**, then click on the check mark beside it.\n",
    "\n",
    "For the integration point, make sure that **Lambda Function** is selected and click on the **Use Lambda Proxy integration**. This option makes sure that the data that is sent to the API is then sent directly to the Lambda function with no processing. It also means that the return value must be a proper response object as it will also not be processed by API Gateway.\n",
    "\n",
    "Type the name of the Lambda function you created earlier into the **Lambda Function** text entry box and then click on **Save**. Click on **OK** in the pop-up box that then appears, giving permission to API Gateway to invoke the Lambda function you created.\n",
    "\n",
    "The last step in creating the API Gateway is to select the **Actions** dropdown and click on **Deploy API**. You will need to create a new Deployment stage and name it anything you like, for example `prod`.\n",
    "\n",
    "You have now successfully set up a public API to access your SageMaker model. Make sure to copy or write down the URL provided to invoke your newly created public API as this will be needed in the next step. This URL can be found at the top of the page, highlighted in blue next to the text **Invoke URL**."
   ]
  },
  {
   "cell_type": "markdown",
   "metadata": {},
   "source": [
    "## Step 4: Deploying our web app\n",
    "\n",
    "Now that we have a publicly available API, we can start using it in a web app. For our purposes, we have provided a simple static html file which can make use of the public api you created earlier.\n",
    "\n",
    "In the `website` folder there should be a file called `index.html`. Download the file to your computer and open that file up in a text editor of your choice. There should be a line which contains **\\*\\*REPLACE WITH PUBLIC API URL\\*\\***. Replace this string with the url that you wrote down in the last step and then save the file.\n",
    "\n",
    "Now, if you open `index.html` on your local computer, your browser will behave as a local web server and you can use the provided site to interact with your SageMaker model.\n",
    "\n",
    "If you'd like to go further, you can host this html file anywhere you'd like, for example using github or hosting a static site on Amazon's S3. Once you have done this you can share the link with anyone you'd like and have them play with it too!\n",
    "\n",
    "> **Important Note** In order for the web app to communicate with the SageMaker endpoint, the endpoint has to actually be deployed and running. This means that you are paying for it. Make sure that the endpoint is running when you want to use the web app but that you shut it down when you don't need it, otherwise you will end up with a surprisingly large AWS bill.\n",
    "\n",
    "**TODO:** Make sure that you include the edited `index.html` file in your project submission."
   ]
  },
  {
   "cell_type": "markdown",
   "metadata": {},
   "source": [
    "Now that your web app is working, trying playing around with it and see how well it works.\n",
    "\n",
    "**Question**: Give an example of a review that you entered into your web app. What was the predicted sentiment of your example review?"
   ]
  },
  {
   "cell_type": "markdown",
   "metadata": {},
   "source": [
    "**Answer:**\n",
    "\n",
    "review 1: \n",
    "\"body\": \"Hehehe, This movie is awsome that i watched today. Even though there were some comdey parts in it and some fighting that cool.and i would like to recommend this movie.\"\n",
    "predicted result: Your review was POSITIVE! (1.0)\n",
    "\n",
    "review 2:\n",
    "\"body\": \"I hate this movie. even i like some ramantic movies but time it's worst to watch this movie very dissapointing.\"\n",
    "predicted result: Your review was NAGATIVE! (0.0)"
   ]
  },
  {
   "cell_type": "markdown",
   "metadata": {},
   "source": [
    "### Delete the endpoint\n",
    "\n",
    "Remember to always shut down your endpoint if you are no longer using it. You are charged for the length of time that the endpoint is running so if you forget and leave it on you could end up with an unexpectedly large bill."
   ]
  },
  {
   "cell_type": "code",
   "execution_count": 47,
   "metadata": {},
   "outputs": [],
   "source": [
    "predictor.delete_endpoint()"
   ]
  },
  {
   "cell_type": "code",
   "execution_count": null,
   "metadata": {},
   "outputs": [],
   "source": []
  }
 ],
 "metadata": {
  "kernelspec": {
   "display_name": "conda_pytorch_p36",
   "language": "python",
   "name": "conda_pytorch_p36"
  },
  "language_info": {
   "codemirror_mode": {
    "name": "ipython",
    "version": 3
   },
   "file_extension": ".py",
   "mimetype": "text/x-python",
   "name": "python",
   "nbconvert_exporter": "python",
   "pygments_lexer": "ipython3",
   "version": "3.6.5"
  }
 },
 "nbformat": 4,
 "nbformat_minor": 2
}
