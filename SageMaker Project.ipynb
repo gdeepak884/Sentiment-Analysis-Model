{
 "cells": [
  {
   "cell_type": "markdown",
   "metadata": {},
   "source": [
    "# Creating a Sentiment Analysis Web App\n",
    "## Using PyTorch and SageMaker\n",
    "\n",
    "_Deep Learning Nanodegree Program | Deployment_\n",
    "\n",
    "---\n",
    "\n",
    "Now that we have a basic understanding of how SageMaker works we will try to use it to construct a complete project from end to end. Our goal will be to have a simple web page which a user can use to enter a movie review. The web page will then send the review off to our deployed model which will predict the sentiment of the entered review.\n",
    "\n",
    "## Instructions\n",
    "\n",
    "Some template code has already been provided for you, and you will need to implement additional functionality to successfully complete this notebook. You will not need to modify the included code beyond what is requested. Sections that begin with '**TODO**' in the header indicate that you need to complete or implement some portion within them. Instructions will be provided for each section and the specifics of the implementation are marked in the code block with a `# TODO: ...` comment. Please be sure to read the instructions carefully!\n",
    "\n",
    "In addition to implementing code, there will be questions for you to answer which relate to the task and your implementation. Each section where you will answer a question is preceded by a '**Question:**' header. Carefully read each question and provide your answer below the '**Answer:**' header by editing the Markdown cell.\n",
    "\n",
    "> **Note**: Code and Markdown cells can be executed using the **Shift+Enter** keyboard shortcut. In addition, a cell can be edited by typically clicking it (double-click for Markdown cells) or by pressing **Enter** while it is highlighted.\n",
    "\n",
    "## General Outline\n",
    "\n",
    "Recall the general outline for SageMaker projects using a notebook instance.\n",
    "\n",
    "1. Download or otherwise retrieve the data.\n",
    "2. Process / Prepare the data.\n",
    "3. Upload the processed data to S3.\n",
    "4. Train a chosen model.\n",
    "5. Test the trained model (typically using a batch transform job).\n",
    "6. Deploy the trained model.\n",
    "7. Use the deployed model.\n",
    "\n",
    "For this project, you will be following the steps in the general outline with some modifications. \n",
    "\n",
    "First, you will not be testing the model in its own step. You will still be testing the model, however, you will do it by deploying your model and then using the deployed model by sending the test data to it. One of the reasons for doing this is so that you can make sure that your deployed model is working correctly before moving forward.\n",
    "\n",
    "In addition, you will deploy and use your trained model a second time. In the second iteration you will customize the way that your trained model is deployed by including some of your own code. In addition, your newly deployed model will be used in the sentiment analysis web app."
   ]
  },
  {
   "cell_type": "markdown",
   "metadata": {},
   "source": [
    "## Step 1: Downloading the data\n",
    "\n",
    "As in the XGBoost in SageMaker notebook, we will be using the [IMDb dataset](http://ai.stanford.edu/~amaas/data/sentiment/)\n",
    "\n",
    "> Maas, Andrew L., et al. [Learning Word Vectors for Sentiment Analysis](http://ai.stanford.edu/~amaas/data/sentiment/). In _Proceedings of the 49th Annual Meeting of the Association for Computational Linguistics: Human Language Technologies_. Association for Computational Linguistics, 2011."
   ]
  },
  {
   "cell_type": "code",
   "execution_count": 1,
   "metadata": {},
   "outputs": [
    {
     "name": "stdout",
     "output_type": "stream",
     "text": [
      "mkdir: cannot create directory ‘../data’: File exists\n",
      "--2018-12-17 18:46:45--  http://ai.stanford.edu/~amaas/data/sentiment/aclImdb_v1.tar.gz\n",
      "Resolving ai.stanford.edu (ai.stanford.edu)... 171.64.68.10\n",
      "Connecting to ai.stanford.edu (ai.stanford.edu)|171.64.68.10|:80... connected.\n",
      "HTTP request sent, awaiting response... 200 OK\n",
      "Length: 84125825 (80M) [application/x-gzip]\n",
      "Saving to: ‘../data/aclImdb_v1.tar.gz’\n",
      "\n",
      "../data/aclImdb_v1. 100%[===================>]  80.23M  21.0MB/s    in 4.8s    \n",
      "\n",
      "2018-12-17 18:46:50 (16.6 MB/s) - ‘../data/aclImdb_v1.tar.gz’ saved [84125825/84125825]\n",
      "\n"
     ]
    }
   ],
   "source": [
    "%mkdir ../data\n",
    "!wget -O ../data/aclImdb_v1.tar.gz http://ai.stanford.edu/~amaas/data/sentiment/aclImdb_v1.tar.gz\n",
    "!tar -zxf ../data/aclImdb_v1.tar.gz -C ../data"
   ]
  },
  {
   "cell_type": "markdown",
   "metadata": {},
   "source": [
    "## Step 2: Preparing and Processing the data\n",
    "\n",
    "Also, as in the XGBoost notebook, we will be doing some initial data processing. The first few steps are the same as in the XGBoost example. To begin with, we will read in each of the reviews and combine them into a single input structure. Then, we will split the dataset into a training set and a testing set."
   ]
  },
  {
   "cell_type": "code",
   "execution_count": 1,
   "metadata": {},
   "outputs": [],
   "source": [
    "import os\n",
    "import glob\n",
    "\n",
    "def read_imdb_data(data_dir='../data/aclImdb'):\n",
    "    data = {}\n",
    "    labels = {}\n",
    "    \n",
    "    for data_type in ['train', 'test']:\n",
    "        data[data_type] = {}\n",
    "        labels[data_type] = {}\n",
    "        \n",
    "        for sentiment in ['pos', 'neg']:\n",
    "            data[data_type][sentiment] = []\n",
    "            labels[data_type][sentiment] = []\n",
    "            \n",
    "            path = os.path.join(data_dir, data_type, sentiment, '*.txt')\n",
    "            files = glob.glob(path)\n",
    "            \n",
    "            for f in files:\n",
    "                with open(f) as review:\n",
    "                    data[data_type][sentiment].append(review.read())\n",
    "                    # Here we represent a positive review by '1' and a negative review by '0'\n",
    "                    labels[data_type][sentiment].append(1 if sentiment == 'pos' else 0)\n",
    "                    \n",
    "            assert len(data[data_type][sentiment]) == len(labels[data_type][sentiment]), \\\n",
    "                    \"{}/{} data size does not match labels size\".format(data_type, sentiment)\n",
    "                \n",
    "    return data, labels"
   ]
  },
  {
   "cell_type": "code",
   "execution_count": 2,
   "metadata": {},
   "outputs": [
    {
     "name": "stdout",
     "output_type": "stream",
     "text": [
      "IMDB reviews: train = 12500 pos / 12500 neg, test = 12500 pos / 12500 neg\n"
     ]
    }
   ],
   "source": [
    "data, labels = read_imdb_data()\n",
    "print(\"IMDB reviews: train = {} pos / {} neg, test = {} pos / {} neg\".format(\n",
    "            len(data['train']['pos']), len(data['train']['neg']),\n",
    "            len(data['test']['pos']), len(data['test']['neg'])))"
   ]
  },
  {
   "cell_type": "markdown",
   "metadata": {},
   "source": [
    "Now that we've read the raw training and testing data from the downloaded dataset, we will combine the positive and negative reviews and shuffle the resulting records."
   ]
  },
  {
   "cell_type": "code",
   "execution_count": 5,
   "metadata": {},
   "outputs": [],
   "source": [
    "from sklearn.utils import shuffle\n",
    "\n",
    "def prepare_imdb_data(data, labels):\n",
    "    \"\"\"Prepare training and test sets from IMDb movie reviews.\"\"\"\n",
    "    \n",
    "    #Combine positive and negative reviews and labels\n",
    "    data_train = data['train']['pos'] + data['train']['neg']\n",
    "    data_test = data['test']['pos'] + data['test']['neg']\n",
    "    labels_train = labels['train']['pos'] + labels['train']['neg']\n",
    "    labels_test = labels['test']['pos'] + labels['test']['neg']\n",
    "    \n",
    "    #Shuffle reviews and corresponding labels within training and test sets\n",
    "    data_train, labels_train = shuffle(data_train, labels_train)\n",
    "    data_test, labels_test = shuffle(data_test, labels_test)\n",
    "    \n",
    "    # Return a unified training data, test data, training labels, test labets\n",
    "    return data_train, data_test, labels_train, labels_test"
   ]
  },
  {
   "cell_type": "code",
   "execution_count": 6,
   "metadata": {},
   "outputs": [
    {
     "name": "stdout",
     "output_type": "stream",
     "text": [
      "IMDb reviews (combined): train = 25000, test = 25000\n"
     ]
    }
   ],
   "source": [
    "train_X, test_X, train_y, test_y = prepare_imdb_data(data, labels)\n",
    "print(\"IMDb reviews (combined): train = {}, test = {}\".format(len(train_X), len(test_X)))"
   ]
  },
  {
   "cell_type": "markdown",
   "metadata": {},
   "source": [
    "Now that we have our training and testing sets unified and prepared, we should do a quick check and see an example of the data our model will be trained on. This is generally a good idea as it allows you to see how each of the further processing steps affects the reviews and it also ensures that the data has been loaded correctly."
   ]
  },
  {
   "cell_type": "code",
   "execution_count": 7,
   "metadata": {},
   "outputs": [
    {
     "name": "stdout",
     "output_type": "stream",
     "text": [
      "Any film with a title as ridiculous as \"The Bagman\" should automatically attract the attention of any bad movie lover, but the plot is far different than what one may expect after viewing the DVD cover. The Bagman is by no means a good movie. It falls into the category of films that seem to have been (and probably were) filmed on a home video camera. The acting is awful. I haven't heard and seen such wooden acting since Troll 2. There are plenty of scenes with nudity and sex, but they are clearly jumped into too fast. The characters are morons and entirely forgettable. The ending (which I will not spoil) can be easily anticipated after watching the very first scene. Due to the cheesy nature of the film, nothing aside from the awful production values is truly scary (awful attempts at realistic gore, a driving scene where the car is clearly stationary, etc). Recommended for bad movie aficionados only.\n",
      "0\n"
     ]
    }
   ],
   "source": [
    "print(train_X[100])\n",
    "print(train_y[100])"
   ]
  },
  {
   "cell_type": "markdown",
   "metadata": {},
   "source": [
    "The first step in processing the reviews is to make sure that any html tags that appear should be removed. In addition we wish to tokenize our input, that way words such as *entertained* and *entertaining* are considered the same with regard to sentiment analysis."
   ]
  },
  {
   "cell_type": "code",
   "execution_count": 8,
   "metadata": {},
   "outputs": [],
   "source": [
    "import nltk\n",
    "from nltk.corpus import stopwords\n",
    "from nltk.stem.porter import *\n",
    "\n",
    "import re\n",
    "from bs4 import BeautifulSoup\n",
    "\n",
    "def review_to_words(review):\n",
    "    nltk.download(\"stopwords\", quiet=True)\n",
    "    stemmer = PorterStemmer()\n",
    "    \n",
    "    text = BeautifulSoup(review, \"html.parser\").get_text() # Remove HTML tags\n",
    "    text = re.sub(r\"[^a-zA-Z0-9]\", \" \", text.lower()) # Convert to lower case\n",
    "    words = text.split() # Split string into words\n",
    "    words = [w for w in words if w not in stopwords.words(\"english\")] # Remove stopwords\n",
    "    words = [PorterStemmer().stem(w) for w in words] # stem\n",
    "    \n",
    "    return words"
   ]
  },
  {
   "cell_type": "markdown",
   "metadata": {},
   "source": [
    "The `review_to_words` method defined above uses `BeautifulSoup` to remove any html tags that appear and uses the `nltk` package to tokenize the reviews. As a check to ensure we know how everything is working, try applying `review_to_words` to one of the reviews in the training set."
   ]
  },
  {
   "cell_type": "code",
   "execution_count": 9,
   "metadata": {},
   "outputs": [
    {
     "data": {
      "text/plain": [
       "['film',\n",
       " 'titl',\n",
       " 'ridicul',\n",
       " 'bagman',\n",
       " 'automat',\n",
       " 'attract',\n",
       " 'attent',\n",
       " 'bad',\n",
       " 'movi',\n",
       " 'lover',\n",
       " 'plot',\n",
       " 'far',\n",
       " 'differ',\n",
       " 'one',\n",
       " 'may',\n",
       " 'expect',\n",
       " 'view',\n",
       " 'dvd',\n",
       " 'cover',\n",
       " 'bagman',\n",
       " 'mean',\n",
       " 'good',\n",
       " 'movi',\n",
       " 'fall',\n",
       " 'categori',\n",
       " 'film',\n",
       " 'seem',\n",
       " 'probabl',\n",
       " 'film',\n",
       " 'home',\n",
       " 'video',\n",
       " 'camera',\n",
       " 'act',\n",
       " 'aw',\n",
       " 'heard',\n",
       " 'seen',\n",
       " 'wooden',\n",
       " 'act',\n",
       " 'sinc',\n",
       " 'troll',\n",
       " '2',\n",
       " 'plenti',\n",
       " 'scene',\n",
       " 'nuditi',\n",
       " 'sex',\n",
       " 'clearli',\n",
       " 'jump',\n",
       " 'fast',\n",
       " 'charact',\n",
       " 'moron',\n",
       " 'entir',\n",
       " 'forgett',\n",
       " 'end',\n",
       " 'spoil',\n",
       " 'easili',\n",
       " 'anticip',\n",
       " 'watch',\n",
       " 'first',\n",
       " 'scene',\n",
       " 'due',\n",
       " 'cheesi',\n",
       " 'natur',\n",
       " 'film',\n",
       " 'noth',\n",
       " 'asid',\n",
       " 'aw',\n",
       " 'product',\n",
       " 'valu',\n",
       " 'truli',\n",
       " 'scari',\n",
       " 'aw',\n",
       " 'attempt',\n",
       " 'realist',\n",
       " 'gore',\n",
       " 'drive',\n",
       " 'scene',\n",
       " 'car',\n",
       " 'clearli',\n",
       " 'stationari',\n",
       " 'etc',\n",
       " 'recommend',\n",
       " 'bad',\n",
       " 'movi',\n",
       " 'aficionado']"
      ]
     },
     "execution_count": 9,
     "metadata": {},
     "output_type": "execute_result"
    }
   ],
   "source": [
    "# TODO: Apply review_to_words to a review (train_X[100] or any other review)\n",
    "review_to_words(train_X[100])"
   ]
  },
  {
   "cell_type": "markdown",
   "metadata": {},
   "source": [
    "**Question:** Above we mentioned that `review_to_words` method removes html formatting and allows us to tokenize the words found in a review, for example, converting *entertained* and *entertaining* into *entertain* so that they are treated as though they are the same word. What else, if anything, does this method do to the input?"
   ]
  },
  {
   "cell_type": "markdown",
   "metadata": {},
   "source": [
    "**Answer:**\n",
    "\n",
    "Asside from stemming, this function also does:\n",
    "- Remove any unnecessary characters.\n",
    "- Remove HTML tags.\n",
    "- Convert to lower case.\n",
    "- Remove stopwords.\n"
   ]
  },
  {
   "cell_type": "markdown",
   "metadata": {},
   "source": [
    "The method below applies the `review_to_words` method to each of the reviews in the training and testing datasets. In addition it caches the results. This is because performing this processing step can take a long time. This way if you are unable to complete the notebook in the current session, you can come back without needing to process the data a second time."
   ]
  },
  {
   "cell_type": "code",
   "execution_count": 14,
   "metadata": {},
   "outputs": [],
   "source": [
    "import pickle\n",
    "\n",
    "cache_dir = os.path.join(\"../cache\", \"sentiment_analysis\")  # where to store cache files\n",
    "os.makedirs(cache_dir, exist_ok=True)  # ensure cache directory exists\n",
    "\n",
    "def preprocess_data(data_train, data_test, labels_train, labels_test,\n",
    "                    cache_dir=cache_dir, cache_file=\"preprocessed_data.pkl\"):\n",
    "    \"\"\"Convert each review to words; read from cache if available.\"\"\"\n",
    "\n",
    "    # If cache_file is not None, try to read from it first\n",
    "    cache_data = None\n",
    "    if cache_file is not None:\n",
    "        try:\n",
    "            with open(os.path.join(cache_dir, cache_file), \"rb\") as f:\n",
    "                cache_data = pickle.load(f)\n",
    "            print(\"Read preprocessed data from cache file:\", cache_file)\n",
    "        except:\n",
    "            pass  # unable to read from cache, but that's okay\n",
    "    \n",
    "    # If cache is missing, then do the heavy lifting\n",
    "    if cache_data is None:\n",
    "        # Preprocess training and test data to obtain words for each review\n",
    "        #words_train = list(map(review_to_words, data_train))\n",
    "        #words_test = list(map(review_to_words, data_test))\n",
    "        words_train = [review_to_words(review) for review in data_train]\n",
    "        words_test = [review_to_words(review) for review in data_test]\n",
    "        \n",
    "        # Write to cache file for future runs\n",
    "        if cache_file is not None:\n",
    "            cache_data = dict(words_train=words_train, words_test=words_test,\n",
    "                              labels_train=labels_train, labels_test=labels_test)\n",
    "            with open(os.path.join(cache_dir, cache_file), \"wb\") as f:\n",
    "                pickle.dump(cache_data, f)\n",
    "            print(\"Wrote preprocessed data to cache file:\", cache_file)\n",
    "    else:\n",
    "        # Unpack data loaded from cache file\n",
    "        words_train, words_test, labels_train, labels_test = (cache_data['words_train'],\n",
    "                cache_data['words_test'], cache_data['labels_train'], cache_data['labels_test'])\n",
    "    \n",
    "    return words_train, words_test, labels_train, labels_test"
   ]
  },
  {
   "cell_type": "code",
   "execution_count": 15,
   "metadata": {},
   "outputs": [
    {
     "name": "stdout",
     "output_type": "stream",
     "text": [
      "Read preprocessed data from cache file: preprocessed_data.pkl\n"
     ]
    }
   ],
   "source": [
    "# Preprocess data\n",
    "train_X, test_X, train_y, test_y = preprocess_data(train_X, test_X, train_y, test_y)"
   ]
  },
  {
   "cell_type": "markdown",
   "metadata": {},
   "source": [
    "## Transform the data\n",
    "\n",
    "In the XGBoost notebook we transformed the data from its word representation to a bag-of-words feature representation. For the model we are going to construct in this notebook we will construct a feature representation which is very similar. To start, we will represent each word as an integer. Of course, some of the words that appear in the reviews occur very infrequently and so likely don't contain much information for the purposes of sentiment analysis. The way we will deal with this problem is that we will fix the size of our working vocabulary and we will only include the words that appear most frequently. We will then combine all of the infrequent words into a single category and, in our case, we will label it as `1`.\n",
    "\n",
    "Since we will be using a recurrent neural network, it will be convenient if the length of each review is the same. To do this, we will fix a size for our reviews and then pad short reviews with the category 'no word' (which we will label `0`) and truncate long reviews."
   ]
  },
  {
   "cell_type": "markdown",
   "metadata": {},
   "source": [
    "### (TODO) Create a word dictionary\n",
    "\n",
    "To begin with, we need to construct a way to map words that appear in the reviews to integers. Here we fix the size of our vocabulary (including the 'no word' and 'infrequent' categories) to be `5000` but you may wish to change this to see how it affects the model.\n",
    "\n",
    "> **TODO:** Complete the implementation for the `build_dict()` method below. Note that even though the vocab_size is set to `5000`, we only want to construct a mapping for the most frequently appearing `4998` words. This is because we want to reserve the special labels `0` for 'no word' and `1` for 'infrequent word'."
   ]
  },
  {
   "cell_type": "code",
   "execution_count": 16,
   "metadata": {},
   "outputs": [],
   "source": [
    "import numpy as np\n",
    "from collections import Counter\n",
    "\n",
    "def get_word_count(data):\n",
    "    \"\"\"\n",
    "    Determines how often each word appears in `data`. Note that `data` is a list of sentences and that a\n",
    "    sentence is a list of words.\n",
    "    return: A dict storing the words that appear in the reviews along with how often they occur\n",
    "    \"\"\"\n",
    "    word_count = {} \n",
    "    for review in data:\n",
    "        for word in review:\n",
    "            if word in word_count:\n",
    "                word_count[word] += 1\n",
    "            else: \n",
    "                word_count[word] = 1\n",
    "    return word_count\n",
    "\n",
    "def build_dict(data, vocab_size = 5000):\n",
    "    \"\"\"Construct and return a dictionary mapping each of the most frequently appearing words to a unique integer.\"\"\"\n",
    "\n",
    "    word_count = get_word_count(data)\n",
    "     # TODO: Sort the words found in `data` so that sorted_words[0] is the most frequently appearing word and\n",
    "    #       sorted_words[-1] is the least frequently appearing word.  \n",
    "    \n",
    "    sorted_words = [v[0] for v in sorted(word_count.items(), key=lambda kv: kv[1], reverse=True)]                \n",
    "    \n",
    "    word_dict = {} # This is what we are building, a dictionary that translates words into integers\n",
    "    for idx, word in enumerate(sorted_words[:vocab_size - 2]): # The -2 is so that we save room for the 'no word'\n",
    "        word_dict[word] = idx + 2                              # 'infrequent' labels\n",
    "        \n",
    "    return word_dict"
   ]
  },
  {
   "cell_type": "code",
   "execution_count": 17,
   "metadata": {},
   "outputs": [],
   "source": [
    "word_dict = build_dict(train_X)"
   ]
  },
  {
   "cell_type": "code",
   "execution_count": 18,
   "metadata": {},
   "outputs": [
    {
     "name": "stdout",
     "output_type": "stream",
     "text": [
      "{'movi': 2, 'film': 3, 'one': 4, 'like': 5, 'time': 6, 'good': 7, 'make': 8, 'charact': 9, 'get': 10, 'see': 11, 'watch': 12, 'stori': 13, 'even': 14, 'would': 15, 'realli': 16, 'well': 17, 'scene': 18, 'look': 19, 'show': 20, 'much': 21, 'end': 22, 'peopl': 23, 'bad': 24, 'go': 25, 'great': 26, 'also': 27, 'first': 28, 'love': 29, 'think': 30, 'way': 31, 'act': 32, 'play': 33, 'made': 34, 'thing': 35, 'could': 36, 'know': 37, 'say': 38, 'seem': 39, 'work': 40, 'plot': 41, 'two': 42, 'actor': 43, 'year': 44, 'come': 45, 'mani': 46, 'seen': 47, 'take': 48, 'life': 49, 'want': 50, 'never': 51, 'littl': 52, 'best': 53, 'tri': 54, 'man': 55, 'ever': 56, 'give': 57, 'better': 58, 'still': 59, 'perform': 60, 'find': 61, 'feel': 62, 'part': 63, 'back': 64, 'use': 65, 'someth': 66, 'director': 67, 'actual': 68, 'interest': 69, 'lot': 70, 'real': 71, 'old': 72, 'cast': 73, 'though': 74, 'live': 75, 'star': 76, 'enjoy': 77, 'guy': 78, 'anoth': 79, 'new': 80, 'role': 81, 'noth': 82, '10': 83, 'funni': 84, 'music': 85, 'point': 86, 'start': 87, 'set': 88, 'girl': 89, 'origin': 90, 'day': 91, 'world': 92, 'everi': 93, 'believ': 94, 'turn': 95, 'quit': 96, 'direct': 97, 'us': 98, 'thought': 99, 'fact': 100, 'minut': 101, 'horror': 102, 'kill': 103, 'action': 104, 'comedi': 105, 'pretti': 106, 'young': 107, 'wonder': 108, 'happen': 109, 'around': 110, 'got': 111, 'effect': 112, 'right': 113, 'long': 114, 'howev': 115, 'big': 116, 'line': 117, 'famili': 118, 'enough': 119, 'seri': 120, 'may': 121, 'need': 122, 'fan': 123, 'bit': 124, 'script': 125, 'beauti': 126, 'person': 127, 'becom': 128, 'without': 129, 'must': 130, 'alway': 131, 'friend': 132, 'tell': 133, 'reason': 134, 'saw': 135, 'last': 136, 'final': 137, 'kid': 138, 'almost': 139, 'put': 140, 'least': 141, 'sure': 142, 'done': 143, 'whole': 144, 'place': 145, 'complet': 146, 'kind': 147, 'differ': 148, 'expect': 149, 'shot': 150, 'far': 151, 'mean': 152, 'anyth': 153, 'book': 154, 'laugh': 155, 'might': 156, 'name': 157, 'sinc': 158, 'begin': 159, '2': 160, 'probabl': 161, 'woman': 162, 'help': 163, 'entertain': 164, 'let': 165, 'screen': 166, 'call': 167, 'tv': 168, 'moment': 169, 'away': 170, 'read': 171, 'yet': 172, 'rather': 173, 'worst': 174, 'run': 175, 'fun': 176, 'lead': 177, 'hard': 178, 'audienc': 179, 'idea': 180, 'anyon': 181, 'episod': 182, 'american': 183, 'found': 184, 'appear': 185, 'bore': 186, 'especi': 187, 'although': 188, 'hope': 189, 'keep': 190, 'cours': 191, 'anim': 192, 'job': 193, 'goe': 194, 'move': 195, 'sens': 196, 'version': 197, 'dvd': 198, 'war': 199, 'money': 200, 'someon': 201, 'mind': 202, 'mayb': 203, 'problem': 204, 'true': 205, 'hous': 206, 'everyth': 207, 'nice': 208, 'second': 209, 'rate': 210, 'three': 211, 'night': 212, 'follow': 213, 'face': 214, 'recommend': 215, 'main': 216, 'product': 217, 'worth': 218, 'leav': 219, 'human': 220, 'special': 221, 'excel': 222, 'togeth': 223, 'wast': 224, 'everyon': 225, 'sound': 226, 'john': 227, 'hand': 228, '1': 229, 'father': 230, 'later': 231, 'eye': 232, 'said': 233, 'view': 234, 'instead': 235, 'review': 236, 'boy': 237, 'high': 238, 'hour': 239, 'miss': 240, 'classic': 241, 'talk': 242, 'wife': 243, 'understand': 244, 'left': 245, 'care': 246, 'black': 247, 'death': 248, 'open': 249, 'murder': 250, 'write': 251, 'half': 252, 'head': 253, 'rememb': 254, 'chang': 255, 'viewer': 256, 'fight': 257, 'gener': 258, 'surpris': 259, 'short': 260, 'includ': 261, 'die': 262, 'fall': 263, 'less': 264, 'els': 265, 'entir': 266, 'piec': 267, 'involv': 268, 'pictur': 269, 'simpli': 270, 'top': 271, 'home': 272, 'power': 273, 'total': 274, 'usual': 275, 'budget': 276, 'attempt': 277, 'suppos': 278, 'releas': 279, 'hollywood': 280, 'terribl': 281, 'song': 282, 'men': 283, 'possibl': 284, 'featur': 285, 'portray': 286, 'disappoint': 287, 'poor': 288, '3': 289, 'coupl': 290, 'stupid': 291, 'camera': 292, 'dead': 293, 'wrong': 294, 'produc': 295, 'low': 296, 'video': 297, 'either': 298, 'aw': 299, 'definit': 300, 'except': 301, 'rest': 302, 'given': 303, 'absolut': 304, 'women': 305, 'lack': 306, 'word': 307, 'writer': 308, 'titl': 309, 'talent': 310, 'decid': 311, 'full': 312, 'perfect': 313, 'along': 314, 'style': 315, 'close': 316, 'truli': 317, 'school': 318, 'emot': 319, 'save': 320, 'age': 321, 'sex': 322, 'next': 323, 'bring': 324, 'mr': 325, 'case': 326, 'killer': 327, 'heart': 328, 'comment': 329, 'sort': 330, 'creat': 331, 'perhap': 332, 'came': 333, 'brother': 334, 'sever': 335, 'joke': 336, 'art': 337, 'dialogu': 338, 'game': 339, 'small': 340, 'base': 341, 'flick': 342, 'written': 343, 'sequenc': 344, 'meet': 345, 'earli': 346, 'often': 347, 'other': 348, 'mother': 349, 'develop': 350, 'humor': 351, 'actress': 352, 'consid': 353, 'dark': 354, 'guess': 355, 'amaz': 356, 'unfortun': 357, 'light': 358, 'lost': 359, 'exampl': 360, 'cinema': 361, 'drama': 362, 'white': 363, 'ye': 364, 'experi': 365, 'imagin': 366, 'mention': 367, 'stop': 368, 'natur': 369, 'forc': 370, 'manag': 371, 'felt': 372, 'present': 373, 'cut': 374, 'children': 375, 'fail': 376, 'son': 377, 'support': 378, 'qualiti': 379, 'car': 380, 'ask': 381, 'hit': 382, 'side': 383, 'voic': 384, 'extrem': 385, 'impress': 386, 'evil': 387, 'wors': 388, 'went': 389, 'stand': 390, 'certainli': 391, 'basic': 392, 'oh': 393, 'overal': 394, 'favorit': 395, 'horribl': 396, 'mysteri': 397, 'number': 398, 'type': 399, 'danc': 400, 'wait': 401, 'hero': 402, '5': 403, 'alreadi': 404, 'learn': 405, 'matter': 406, '4': 407, 'michael': 408, 'genr': 409, 'fine': 410, 'despit': 411, 'throughout': 412, 'walk': 413, 'success': 414, 'histori': 415, 'question': 416, 'zombi': 417, 'town': 418, 'realiz': 419, 'relationship': 420, 'past': 421, 'child': 422, 'daughter': 423, 'late': 424, 'b': 425, 'wish': 426, 'hate': 427, 'credit': 428, 'event': 429, 'theme': 430, 'touch': 431, 'citi': 432, 'today': 433, 'sometim': 434, 'behind': 435, 'god': 436, 'twist': 437, 'sit': 438, 'deal': 439, 'stay': 440, 'annoy': 441, 'abl': 442, 'rent': 443, 'pleas': 444, 'edit': 445, 'blood': 446, 'deserv': 447, 'comic': 448, 'anyway': 449, 'appar': 450, 'soon': 451, 'gave': 452, 'etc': 453, 'level': 454, 'slow': 455, 'chanc': 456, 'score': 457, 'bodi': 458, 'brilliant': 459, 'incred': 460, 'figur': 461, 'situat': 462, 'self': 463, 'major': 464, 'stuff': 465, 'decent': 466, 'element': 467, 'dream': 468, 'return': 469, 'obvious': 470, 'order': 471, 'continu': 472, 'pace': 473, 'ridicul': 474, 'happi': 475, 'add': 476, 'group': 477, 'highli': 478, 'thank': 479, 'ladi': 480, 'novel': 481, 'pain': 482, 'speak': 483, 'career': 484, 'shoot': 485, 'strang': 486, 'heard': 487, 'sad': 488, 'husband': 489, 'polic': 490, 'import': 491, 'break': 492, 'took': 493, 'cannot': 494, 'strong': 495, 'predict': 496, 'robert': 497, 'violenc': 498, 'hilari': 499, 'recent': 500, 'countri': 501, 'known': 502, 'particularli': 503, 'pick': 504, 'documentari': 505, 'season': 506, 'critic': 507, 'jame': 508, 'compar': 509, 'obviou': 510, 'alon': 511, 'told': 512, 'state': 513, 'rock': 514, 'visual': 515, 'theater': 516, 'exist': 517, 'offer': 518, 'opinion': 519, 'gore': 520, 'hold': 521, 'crap': 522, 'result': 523, 'realiti': 524, 'hear': 525, 'room': 526, 'effort': 527, 'clich': 528, 'thriller': 529, 'caus': 530, 'sequel': 531, 'serious': 532, 'explain': 533, 'king': 534, 'local': 535, 'ago': 536, 'none': 537, 'hell': 538, 'note': 539, 'allow': 540, 'david': 541, 'sister': 542, 'simpl': 543, 'femal': 544, 'deliv': 545, 'ok': 546, 'class': 547, 'convinc': 548, 'check': 549, 'suspens': 550, 'win': 551, 'buy': 552, 'oscar': 553, 'huge': 554, 'valu': 555, 'sexual': 556, 'cool': 557, 'scari': 558, 'similar': 559, 'excit': 560, 'apart': 561, 'exactli': 562, 'provid': 563, 'avoid': 564, 'shown': 565, 'seriou': 566, 'english': 567, 'whose': 568, 'taken': 569, 'cinematographi': 570, 'shock': 571, 'polit': 572, 'spoiler': 573, 'offic': 574, 'across': 575, 'middl': 576, 'street': 577, 'pass': 578, 'messag': 579, 'silli': 580, 'somewhat': 581, 'charm': 582, 'modern': 583, 'filmmak': 584, 'confus': 585, 'form': 586, 'tale': 587, 'singl': 588, 'jack': 589, 'mostli': 590, 'carri': 591, 'william': 592, 'attent': 593, 'sing': 594, 'five': 595, 'subject': 596, 'prove': 597, 'richard': 598, 'team': 599, 'stage': 600, 'unlik': 601, 'cop': 602, 'georg': 603, 'monster': 604, 'televis': 605, 'earth': 606, 'cover': 607, 'villain': 608, 'pay': 609, 'marri': 610, 'toward': 611, 'build': 612, 'parent': 613, 'pull': 614, 'due': 615, 'fill': 616, 'respect': 617, 'four': 618, 'dialog': 619, 'remind': 620, 'futur': 621, 'typic': 622, 'weak': 623, '7': 624, 'cheap': 625, 'intellig': 626, 'british': 627, 'atmospher': 628, 'clearli': 629, '80': 630, 'non': 631, 'dog': 632, 'paul': 633, '8': 634, 'artist': 635, 'fast': 636, 'knew': 637, 'crime': 638, 'easili': 639, 'escap': 640, 'adult': 641, 'doubt': 642, 'detail': 643, 'date': 644, 'member': 645, 'fire': 646, 'romant': 647, 'gun': 648, 'drive': 649, 'straight': 650, 'beyond': 651, 'fit': 652, 'attack': 653, 'imag': 654, 'upon': 655, 'posit': 656, 'whether': 657, 'fantast': 658, 'peter': 659, 'appreci': 660, 'captur': 661, 'aspect': 662, 'ten': 663, 'plan': 664, 'discov': 665, 'remain': 666, 'near': 667, 'period': 668, 'air': 669, 'realist': 670, 'mark': 671, 'red': 672, 'dull': 673, 'adapt': 674, 'within': 675, 'spend': 676, 'lose': 677, 'color': 678, 'materi': 679, 'chase': 680, 'mari': 681, 'storylin': 682, 'forget': 683, 'bunch': 684, 'clear': 685, 'lee': 686, 'victim': 687, 'nearli': 688, 'box': 689, 'york': 690, 'match': 691, 'inspir': 692, 'mess': 693, 'finish': 694, 'standard': 695, 'easi': 696, 'truth': 697, 'busi': 698, 'suffer': 699, 'space': 700, 'dramat': 701, 'bill': 702, 'western': 703, 'e': 704, 'list': 705, 'battl': 706, 'notic': 707, 'de': 708, 'french': 709, 'ad': 710, '9': 711, 'tom': 712, 'larg': 713, 'among': 714, 'eventu': 715, 'accept': 716, 'train': 717, 'agre': 718, 'soundtrack': 719, 'spirit': 720, 'third': 721, 'teenag': 722, 'adventur': 723, 'soldier': 724, 'sorri': 725, 'famou': 726, 'drug': 727, 'suggest': 728, 'babi': 729, 'cri': 730, 'normal': 731, 'ultim': 732, 'troubl': 733, 'contain': 734, 'certain': 735, 'cultur': 736, 'romanc': 737, 'rare': 738, 'lame': 739, 'somehow': 740, 'disney': 741, 'mix': 742, 'gone': 743, 'cartoon': 744, 'student': 745, 'fear': 746, 'reveal': 747, 'kept': 748, 'suck': 749, 'attract': 750, 'appeal': 751, 'premis': 752, 'design': 753, 'secret': 754, 'greatest': 755, 'shame': 756, 'throw': 757, 'copi': 758, 'scare': 759, 'wit': 760, 'admit': 761, 'america': 762, 'brought': 763, 'particular': 764, 'relat': 765, 'screenplay': 766, 'whatev': 767, 'pure': 768, '70': 769, 'averag': 770, 'harri': 771, 'master': 772, 'describ': 773, 'male': 774, 'treat': 775, '20': 776, 'fantasi': 777, 'issu': 778, 'warn': 779, 'inde': 780, 'background': 781, 'forward': 782, 'project': 783, 'free': 784, 'japanes': 785, 'memor': 786, 'poorli': 787, 'award': 788, 'locat': 789, 'amus': 790, 'potenti': 791, 'struggl': 792, 'magic': 793, 'weird': 794, 'societi': 795, 'okay': 796, 'imdb': 797, 'accent': 798, 'doctor': 799, 'hot': 800, 'water': 801, 'express': 802, '30': 803, 'alien': 804, 'dr': 805, 'odd': 806, 'crazi': 807, 'choic': 808, 'fiction': 809, 'studio': 810, 'control': 811, 'becam': 812, 'masterpiec': 813, 'fli': 814, 'difficult': 815, 'joe': 816, 'scream': 817, 'costum': 818, 'lover': 819, 'uniqu': 820, 'refer': 821, 'remak': 822, 'girlfriend': 823, 'vampir': 824, 'prison': 825, 'execut': 826, 'wear': 827, 'jump': 828, 'unless': 829, 'wood': 830, 'creepi': 831, 'cheesi': 832, 'superb': 833, 'otherwis': 834, 'parti': 835, 'ghost': 836, 'roll': 837, 'mad': 838, 'public': 839, 'depict': 840, 'badli': 841, 'earlier': 842, 'moral': 843, 'jane': 844, 'week': 845, 'fi': 846, 'dumb': 847, 'flaw': 848, 'grow': 849, 'deep': 850, 'sci': 851, 'maker': 852, 'cat': 853, 'connect': 854, 'older': 855, 'footag': 856, 'plenti': 857, 'bother': 858, 'outsid': 859, 'stick': 860, 'gay': 861, 'catch': 862, 'co': 863, 'plu': 864, 'popular': 865, 'equal': 866, 'social': 867, 'disturb': 868, 'quickli': 869, 'perfectli': 870, 'dress': 871, '90': 872, 'era': 873, 'mistak': 874, 'lie': 875, 'ride': 876, 'previou': 877, 'combin': 878, 'band': 879, 'concept': 880, 'answer': 881, 'rich': 882, 'surviv': 883, 'front': 884, 'sweet': 885, 'christma': 886, 'insid': 887, 'eat': 888, 'bare': 889, 'concern': 890, 'listen': 891, 'ben': 892, 'beat': 893, 'c': 894, 'term': 895, 'serv': 896, 'meant': 897, 'la': 898, 'german': 899, 'hardli': 900, 'stereotyp': 901, 'innoc': 902, 'law': 903, 'desper': 904, 'memori': 905, 'promis': 906, 'intent': 907, 'cute': 908, 'variou': 909, 'steal': 910, 'inform': 911, 'brain': 912, 'post': 913, 'tone': 914, 'island': 915, 'amount': 916, 'nuditi': 917, 'track': 918, 'compani': 919, 'store': 920, 'claim': 921, '50': 922, 'hair': 923, 'flat': 924, 'univers': 925, 'land': 926, 'fairli': 927, 'danger': 928, 'scott': 929, 'kick': 930, 'player': 931, 'crew': 932, 'step': 933, 'plain': 934, 'toni': 935, 'share': 936, 'tast': 937, 'centuri': 938, 'achiev': 939, 'engag': 940, 'travel': 941, 'cold': 942, 'suit': 943, 'rip': 944, 'record': 945, 'manner': 946, 'sadli': 947, 'spot': 948, 'tension': 949, 'wrote': 950, 'fascin': 951, 'intens': 952, 'familiar': 953, 'burn': 954, 'remark': 955, 'depth': 956, 'destroy': 957, 'histor': 958, 'sleep': 959, 'purpos': 960, 'languag': 961, 'ruin': 962, 'ignor': 963, 'delight': 964, 'unbeliev': 965, 'italian': 966, 'abil': 967, 'soul': 968, 'collect': 969, 'clever': 970, 'detect': 971, 'violent': 972, 'rape': 973, 'reach': 974, 'door': 975, 'liter': 976, 'scienc': 977, 'trash': 978, 'reveng': 979, 'commun': 980, 'caught': 981, 'creatur': 982, 'approach': 983, 'trip': 984, 'fashion': 985, 'intrigu': 986, 'introduc': 987, 'paint': 988, 'skill': 989, 'complex': 990, 'channel': 991, 'camp': 992, 'christian': 993, 'hole': 994, 'extra': 995, 'mental': 996, 'limit': 997, 'ann': 998, 'immedi': 999, 'comput': 1000, 'million': 1001, '6': 1002, 'slightli': 1003, 'mere': 1004, 'conclus': 1005, 'slasher': 1006, 'suddenli': 1007, 'imposs': 1008, 'teen': 1009, 'crimin': 1010, 'neither': 1011, 'spent': 1012, 'nation': 1013, 'physic': 1014, 'respons': 1015, 'planet': 1016, 'receiv': 1017, 'fake': 1018, 'blue': 1019, 'sick': 1020, 'bizarr': 1021, 'embarrass': 1022, 'indian': 1023, '15': 1024, 'ring': 1025, 'drop': 1026, 'pop': 1027, 'drag': 1028, 'haunt': 1029, 'suspect': 1030, 'pointless': 1031, 'edg': 1032, 'search': 1033, 'handl': 1034, 'biggest': 1035, 'common': 1036, 'faith': 1037, 'arriv': 1038, 'hurt': 1039, 'technic': 1040, 'angel': 1041, 'genuin': 1042, 'dad': 1043, 'solid': 1044, 'awesom': 1045, 'f': 1046, 'van': 1047, 'colleg': 1048, 'former': 1049, 'focu': 1050, 'count': 1051, 'heavi': 1052, 'tear': 1053, 'rais': 1054, 'wall': 1055, 'younger': 1056, 'visit': 1057, 'laughabl': 1058, 'sign': 1059, 'excus': 1060, 'fair': 1061, 'cult': 1062, 'key': 1063, 'motion': 1064, 'tough': 1065, 'super': 1066, 'desir': 1067, 'addit': 1068, 'stun': 1069, 'cloth': 1070, 'exploit': 1071, 'smith': 1072, 'tortur': 1073, 'race': 1074, 'davi': 1075, 'author': 1076, 'cross': 1077, 'jim': 1078, 'consist': 1079, 'compel': 1080, 'minor': 1081, 'focus': 1082, 'pathet': 1083, 'chemistri': 1084, 'commit': 1085, 'park': 1086, 'obsess': 1087, 'tradit': 1088, 'frank': 1089, 'grade': 1090, '60': 1091, 'asid': 1092, 'brutal': 1093, 'somewher': 1094, 'steve': 1095, 'opportun': 1096, 'depress': 1097, 'rule': 1098, 'u': 1099, 'grant': 1100, 'explor': 1101, 'besid': 1102, 'honest': 1103, 'anti': 1104, 'dub': 1105, 'intend': 1106, 'trailer': 1107, 'bar': 1108, 'west': 1109, 'longer': 1110, 'regard': 1111, 'scientist': 1112, 'decad': 1113, 'judg': 1114, 'silent': 1115, 'armi': 1116, 'creativ': 1117, 'wild': 1118, 'south': 1119, 'g': 1120, 'stewart': 1121, 'draw': 1122, 'road': 1123, 'govern': 1124, 'boss': 1125, 'ex': 1126, 'practic': 1127, 'festiv': 1128, 'surprisingli': 1129, 'gang': 1130, 'motiv': 1131, 'club': 1132, 'redeem': 1133, 'green': 1134, 'london': 1135, 'page': 1136, 'idiot': 1137, 'militari': 1138, 'aliv': 1139, 'display': 1140, 'machin': 1141, 'thrill': 1142, 'repeat': 1143, 'folk': 1144, 'nobodi': 1145, 'yeah': 1146, '100': 1147, '40': 1148, 'garbag': 1149, 'journey': 1150, 'ground': 1151, 'smile': 1152, 'tire': 1153, 'mood': 1154, 'bought': 1155, 'cost': 1156, 'stone': 1157, 'sam': 1158, 'mouth': 1159, 'noir': 1160, 'terrif': 1161, 'agent': 1162, 'requir': 1163, 'utterli': 1164, 'honestli': 1165, 'sexi': 1166, 'area': 1167, 'report': 1168, 'geniu': 1169, 'enter': 1170, 'investig': 1171, 'humour': 1172, 'glad': 1173, 'serial': 1174, 'occasion': 1175, 'narr': 1176, 'passion': 1177, 'climax': 1178, 'marriag': 1179, 'industri': 1180, 'studi': 1181, 'charli': 1182, 'ship': 1183, 'nowher': 1184, 'center': 1185, 'demon': 1186, 'hors': 1187, 'loos': 1188, 'bear': 1189, 'hang': 1190, 'wow': 1191, 'graphic': 1192, 'giant': 1193, 'admir': 1194, 'send': 1195, 'loud': 1196, 'damn': 1197, 'rel': 1198, 'profession': 1199, 'subtl': 1200, 'nake': 1201, 'blow': 1202, 'bottom': 1203, 'insult': 1204, 'batman': 1205, 'kelli': 1206, 'doubl': 1207, 'boyfriend': 1208, 'r': 1209, 'initi': 1210, 'frame': 1211, 'gem': 1212, 'opera': 1213, 'challeng': 1214, 'cinemat': 1215, 'church': 1216, 'drawn': 1217, 'affect': 1218, 'j': 1219, 'seek': 1220, 'nightmar': 1221, 'fulli': 1222, 'evid': 1223, 'l': 1224, 'essenti': 1225, 'conflict': 1226, 'arm': 1227, 'christoph': 1228, 'henri': 1229, 'wind': 1230, 'grace': 1231, 'assum': 1232, 'witch': 1233, 'narrat': 1234, 'hunt': 1235, 'push': 1236, 'wise': 1237, 'chri': 1238, 'repres': 1239, 'month': 1240, 'nomin': 1241, 'affair': 1242, 'sceneri': 1243, 'hide': 1244, 'avail': 1245, 'bond': 1246, 'thu': 1247, 'justic': 1248, 'smart': 1249, 'outstand': 1250, 'interview': 1251, 'flashback': 1252, 'constantli': 1253, 'satisfi': 1254, 'presenc': 1255, 'bed': 1256, 'central': 1257, 'content': 1258, 'sell': 1259, 'iron': 1260, 'everybodi': 1261, 'gag': 1262, 'slowli': 1263, 'hotel': 1264, 'hire': 1265, 'system': 1266, 'charl': 1267, 'thrown': 1268, 'hey': 1269, 'individu': 1270, 'adam': 1271, 'mediocr': 1272, 'allen': 1273, 'jone': 1274, 'ray': 1275, 'lesson': 1276, 'billi': 1277, 'photographi': 1278, 'cameo': 1279, 'fellow': 1280, 'pari': 1281, 'strike': 1282, 'independ': 1283, 'brief': 1284, 'absurd': 1285, 'rise': 1286, 'neg': 1287, 'phone': 1288, 'impact': 1289, 'ill': 1290, 'born': 1291, 'model': 1292, 'spoil': 1293, 'fresh': 1294, 'angl': 1295, 'likabl': 1296, 'abus': 1297, 'hill': 1298, 'discuss': 1299, 'sight': 1300, 'ahead': 1301, 'photograph': 1302, 'sent': 1303, 'shine': 1304, 'blame': 1305, 'logic': 1306, 'occur': 1307, 'mainli': 1308, 'bruce': 1309, 'skip': 1310, 'commerci': 1311, 'forev': 1312, 'segment': 1313, 'surround': 1314, 'held': 1315, 'teacher': 1316, 'blond': 1317, 'zero': 1318, 'satir': 1319, 'resembl': 1320, 'summer': 1321, 'trap': 1322, 'queen': 1323, 'six': 1324, 'ball': 1325, 'fool': 1326, 'twice': 1327, 'tragedi': 1328, 'sub': 1329, 'reaction': 1330, 'pack': 1331, 'bomb': 1332, 'protagonist': 1333, 'will': 1334, 'hospit': 1335, 'mile': 1336, 'sport': 1337, 'drink': 1338, 'jerri': 1339, 'vote': 1340, 'trust': 1341, 'mom': 1342, 'encount': 1343, 'plane': 1344, 'program': 1345, 'station': 1346, 'al': 1347, 'current': 1348, 'celebr': 1349, 'martin': 1350, 'choos': 1351, 'join': 1352, 'field': 1353, 'round': 1354, 'tragic': 1355, 'lord': 1356, 'favourit': 1357, 'robot': 1358, 'vision': 1359, 'jean': 1360, 'tie': 1361, 'arthur': 1362, 'roger': 1363, 'fortun': 1364, 'random': 1365, 'intern': 1366, 'dread': 1367, 'psycholog': 1368, 'prefer': 1369, 'improv': 1370, 'epic': 1371, 'nonsens': 1372, 'legend': 1373, 'pleasur': 1374, 'formula': 1375, 'highlight': 1376, '11': 1377, 'tape': 1378, 'dollar': 1379, 'thin': 1380, 'wide': 1381, 'gorgeou': 1382, 'object': 1383, 'porn': 1384, 'fox': 1385, 'ugli': 1386, 'buddi': 1387, 'influenc': 1388, 'ii': 1389, 'prepar': 1390, 'nasti': 1391, 'warm': 1392, 'progress': 1393, 'supposedli': 1394, 'reflect': 1395, 'worthi': 1396, 'youth': 1397, 'length': 1398, 'latter': 1399, 'unusu': 1400, 'crash': 1401, 'shop': 1402, 'childhood': 1403, 'seven': 1404, 'superior': 1405, 'theatr': 1406, 'remot': 1407, 'disgust': 1408, 'paid': 1409, 'pilot': 1410, 'funniest': 1411, 'trick': 1412, 'convers': 1413, 'fell': 1414, 'castl': 1415, 'establish': 1416, 'rob': 1417, 'gangster': 1418, 'disast': 1419, 'suicid': 1420, 'ident': 1421, 'mine': 1422, 'heaven': 1423, 'disappear': 1424, 'singer': 1425, 'mask': 1426, 'heroin': 1427, 'tend': 1428, 'forgotten': 1429, 'decis': 1430, 'partner': 1431, 'brian': 1432, 'desert': 1433, 'recogn': 1434, 'alan': 1435, 'p': 1436, 'stuck': 1437, 'thoroughli': 1438, 'sky': 1439, 'ms': 1440, 'replac': 1441, 'accur': 1442, 'market': 1443, 'seemingli': 1444, 'commentari': 1445, 'clue': 1446, 'uncl': 1447, 'eddi': 1448, 'danni': 1449, 'andi': 1450, 'devil': 1451, 'jackson': 1452, 'refus': 1453, 'therefor': 1454, 'that': 1455, 'pair': 1456, 'unit': 1457, 'accid': 1458, 'fault': 1459, 'river': 1460, 'ed': 1461, 'fate': 1462, 'afraid': 1463, 'tune': 1464, 'clean': 1465, 'hidden': 1466, 'stephen': 1467, 'russian': 1468, 'convey': 1469, 'instanc': 1470, 'test': 1471, 'quick': 1472, 'irrit': 1473, 'readi': 1474, 'captain': 1475, 'european': 1476, 'frustrat': 1477, 'insan': 1478, 'daniel': 1479, 'wed': 1480, 'chines': 1481, '1950': 1482, 'rescu': 1483, 'food': 1484, 'dirti': 1485, 'lock': 1486, 'angri': 1487, 'joy': 1488, 'price': 1489, 'steven': 1490, 'cage': 1491, 'bland': 1492, 'anymor': 1493, 'rang': 1494, 'wooden': 1495, 'jason': 1496, 'news': 1497, 'n': 1498, 'rush': 1499, 'led': 1500, '12': 1501, 'worri': 1502, 'twenti': 1503, 'board': 1504, 'martial': 1505, 'cgi': 1506, 'transform': 1507, 'symbol': 1508, 'hunter': 1509, 'piti': 1510, 'invent': 1511, 'johnni': 1512, 'onto': 1513, 'x': 1514, 'sentiment': 1515, 'attitud': 1516, 'explan': 1517, 'process': 1518, 'owner': 1519, 'awar': 1520, 'aim': 1521, 'energi': 1522, 'favor': 1523, 'target': 1524, 'floor': 1525, 'necessari': 1526, 'opposit': 1527, 'religi': 1528, 'window': 1529, 'insight': 1530, 'chick': 1531, 'blind': 1532, 'movement': 1533, 'possess': 1534, 'research': 1535, 'deepli': 1536, 'mountain': 1537, 'comparison': 1538, 'grand': 1539, 'whatsoev': 1540, 'comed': 1541, 'rain': 1542, 'began': 1543, 'shadow': 1544, 'bank': 1545, 'mid': 1546, 'parodi': 1547, 'princ': 1548, 'weapon': 1549, 'pre': 1550, 'friendship': 1551, 'taylor': 1552, 'credibl': 1553, 'flesh': 1554, 'dougla': 1555, 'teach': 1556, 'bloodi': 1557, 'protect': 1558, 'hint': 1559, 'terror': 1560, 'marvel': 1561, 'watchabl': 1562, 'accord': 1563, 'anybodi': 1564, 'load': 1565, 'superman': 1566, 'leader': 1567, 'drunk': 1568, 'brown': 1569, 'freddi': 1570, 'seat': 1571, 'jeff': 1572, 'appropri': 1573, 'hitler': 1574, 'tim': 1575, 'villag': 1576, 'charg': 1577, 'keaton': 1578, 'knock': 1579, 'unknown': 1580, 'empti': 1581, 'england': 1582, 'enemi': 1583, 'media': 1584, 'unnecessari': 1585, 'dare': 1586, 'perspect': 1587, 'craft': 1588, 'utter': 1589, 'strength': 1590, 'wave': 1591, 'buck': 1592, 'kiss': 1593, 'nativ': 1594, 'correct': 1595, 'contrast': 1596, 'ford': 1597, 'magnific': 1598, 'soap': 1599, 'chill': 1600, 'anywher': 1601, 'knowledg': 1602, 'distract': 1603, 'nazi': 1604, 'speed': 1605, 'fred': 1606, 'ice': 1607, 'breath': 1608, 'mission': 1609, '1980': 1610, 'joan': 1611, 'crowd': 1612, 'moon': 1613, 'jr': 1614, 'frighten': 1615, '000': 1616, 'kate': 1617, 'soft': 1618, 'nick': 1619, 'dan': 1620, 'hundr': 1621, 'dick': 1622, 'radio': 1623, 'simon': 1624, 'dozen': 1625, 'somebodi': 1626, 'thousand': 1627, 'academi': 1628, 'andrew': 1629, 'loss': 1630, 'shakespear': 1631, 'vehicl': 1632, 'sum': 1633, 'root': 1634, 'quot': 1635, 'account': 1636, 'behavior': 1637, 'convent': 1638, 'leg': 1639, '1970': 1640, 'regular': 1641, 'gold': 1642, 'worker': 1643, 'pretenti': 1644, 'demand': 1645, 'compet': 1646, 'candi': 1647, 'stretch': 1648, 'interpret': 1649, 'privat': 1650, 'notabl': 1651, 'explos': 1652, 'japan': 1653, 'lynch': 1654, 'constant': 1655, 'tarzan': 1656, 'debut': 1657, 'revolv': 1658, 'prais': 1659, 'translat': 1660, 'sea': 1661, 'spi': 1662, 'failur': 1663, 'ass': 1664, 'threaten': 1665, 'jesu': 1666, 'franc': 1667, 'sat': 1668, 'quiet': 1669, 'technolog': 1670, 'aid': 1671, 'met': 1672, 'toy': 1673, 'kevin': 1674, 'punch': 1675, 'higher': 1676, 'vh': 1677, 'mike': 1678, 'abandon': 1679, 'interact': 1680, 'command': 1681, 'confront': 1682, 'separ': 1683, 'bet': 1684, 'site': 1685, 'stunt': 1686, 'belong': 1687, 'gotten': 1688, 'servic': 1689, 'recal': 1690, 'techniqu': 1691, 'freak': 1692, 'foot': 1693, 'bug': 1694, 'cabl': 1695, 'capabl': 1696, 'bright': 1697, 'african': 1698, 'jimmi': 1699, 'fu': 1700, 'succeed': 1701, 'boat': 1702, 'stock': 1703, 'presid': 1704, 'clark': 1705, 'fat': 1706, 'spanish': 1707, 'gene': 1708, 'structur': 1709, 'kidnap': 1710, 'paper': 1711, 'factor': 1712, 'belief': 1713, 'whilst': 1714, 'realis': 1715, 'realism': 1716, 'educ': 1717, 'tree': 1718, 'attend': 1719, 'witti': 1720, 'bob': 1721, 'complic': 1722, 'finest': 1723, 'assist': 1724, 'broken': 1725, 'santa': 1726, 'determin': 1727, 'depart': 1728, 'v': 1729, 'observ': 1730, 'up': 1731, 'smoke': 1732, 'hat': 1733, 'oper': 1734, 'fame': 1735, 'rubbish': 1736, 'lewi': 1737, 'routin': 1738, 'domin': 1739, 'advanc': 1740, 'kinda': 1741, 'safe': 1742, 'morgan': 1743, 'hook': 1744, 'lone': 1745, 'foreign': 1746, 'numer': 1747, 'rank': 1748, 'shallow': 1749, 'shape': 1750, 'civil': 1751, 'washington': 1752, 'rose': 1753, 'werewolf': 1754, 'vs': 1755, 'gari': 1756, 'morn': 1757, 'ordinari': 1758, 'winner': 1759, 'accomplish': 1760, 'kong': 1761, 'virtual': 1762, 'whenev': 1763, 'grab': 1764, 'peac': 1765, 'offens': 1766, 'luck': 1767, 'h': 1768, 'unfunni': 1769, 'bigger': 1770, 'patient': 1771, 'welcom': 1772, 'activ': 1773, 'complain': 1774, 'contriv': 1775, 'pretend': 1776, 'dimension': 1777, 'con': 1778, 'trek': 1779, 'code': 1780, 'lesbian': 1781, 'cain': 1782, 'eric': 1783, 'wake': 1784, 'dri': 1785, 'flash': 1786, 'statu': 1787, 'manipul': 1788, 'guard': 1789, 'dancer': 1790, 'corrupt': 1791, 'albert': 1792, 'awkward': 1793, 'gain': 1794, 'sourc': 1795, 'signific': 1796, 'context': 1797, 'speech': 1798, 'anthoni': 1799, 'corni': 1800, 'sean': 1801, 'psycho': 1802, '13': 1803, 'clip': 1804, 'reli': 1805, 'w': 1806, 'religion': 1807, 'curiou': 1808, 'advic': 1809, 'theatric': 1810, 'priest': 1811, 'flow': 1812, 'addict': 1813, 'asian': 1814, 'specif': 1815, 'jennif': 1816, 'skin': 1817, 'howard': 1818, 'secur': 1819, 'organ': 1820, 'promot': 1821, 'golden': 1822, 'luke': 1823, 'core': 1824, 'comfort': 1825, 'cheat': 1826, 'lucki': 1827, 'cash': 1828, 'dislik': 1829, 'lower': 1830, 'associ': 1831, 'regret': 1832, 'devic': 1833, 'contribut': 1834, 'frequent': 1835, 'degre': 1836, 'wing': 1837, 'balanc': 1838, 'spell': 1839, 'frankli': 1840, 'lake': 1841, 'forgiv': 1842, 'sake': 1843, 'print': 1844, 'mass': 1845, 'thoma': 1846, 'betti': 1847, 'crack': 1848, 'unexpect': 1849, 'gordon': 1850, 'categori': 1851, 'amateur': 1852, 'construct': 1853, 'unfold': 1854, 'depend': 1855, 'invit': 1856, 'grown': 1857, 'honor': 1858, 'walter': 1859, 'intellectu': 1860, 'matur': 1861, 'grew': 1862, 'anna': 1863, 'condit': 1864, 'sudden': 1865, 'mirror': 1866, 'veteran': 1867, 'sole': 1868, 'spectacular': 1869, 'meanwhil': 1870, 'liner': 1871, 'gift': 1872, 'overli': 1873, 'experienc': 1874, 'demonstr': 1875, 'freedom': 1876, 'card': 1877, 'grip': 1878, 'robin': 1879, 'sheriff': 1880, 'oliv': 1881, 'section': 1882, 'unabl': 1883, 'drew': 1884, 'brilliantli': 1885, 'colour': 1886, 'circumst': 1887, 'crappi': 1888, 'subtitl': 1889, 'theori': 1890, 'pile': 1891, 'cook': 1892, 'sheer': 1893, 'laughter': 1894, 'path': 1895, 'parker': 1896, 'altern': 1897, 'matt': 1898, 'relief': 1899, 'lawyer': 1900, 'wander': 1901, 'hall': 1902, 'defin': 1903, 'treatment': 1904, 'sinatra': 1905, 'accident': 1906, 'dragon': 1907, 'captiv': 1908, 'hank': 1909, 'gratuit': 1910, 'halloween': 1911, 'moor': 1912, 'unintent': 1913, 'broadway': 1914, 'wound': 1915, 'barbara': 1916, 'k': 1917, 'cowboy': 1918, 'wayn': 1919, 'jacki': 1920, 'kung': 1921, 'surreal': 1922, 'winter': 1923, 'statement': 1924, 'canadian': 1925, 'spoof': 1926, 'cheer': 1927, 'gonna': 1928, 'fare': 1929, 'compos': 1930, 'treasur': 1931, 'fish': 1932, 'emerg': 1933, 'sensit': 1934, 'woodi': 1935, 'unrealist': 1936, 'victor': 1937, 'neighbor': 1938, 'ran': 1939, 'driven': 1940, 'sympathet': 1941, 'overlook': 1942, 'authent': 1943, 'expos': 1944, 'topic': 1945, 'menac': 1946, 'glass': 1947, 'chief': 1948, 'ancient': 1949, 'handsom': 1950, 'gross': 1951, 'michel': 1952, 'built': 1953, 'pleasant': 1954, 'stranger': 1955, 'network': 1956, 'contemporari': 1957, 'nevertheless': 1958, 'comedian': 1959, 'russel': 1960, 'feet': 1961, 'cinderella': 1962, 'blockbust': 1963, 'letter': 1964, 'gori': 1965, 'miser': 1966, 'consider': 1967, 'underr': 1968, 'earn': 1969, 'endless': 1970, 'brook': 1971, 'switch': 1972, 'solv': 1973, 'victoria': 1974, 'joseph': 1975, 'bullet': 1976, 'convict': 1977, 'edward': 1978, 'virgin': 1979, '0': 1980, 'scale': 1981, 'cynic': 1982, 'alex': 1983, 'scenario': 1984, 'chosen': 1985, 'outrag': 1986, 'com': 1987, 'gut': 1988, 'curs': 1989, 'sword': 1990, 'proper': 1991, 'uk': 1992, 'juli': 1993, 'monkey': 1994, 'screenwrit': 1995, 'driver': 1996, 'substanc': 1997, 'wrap': 1998, 'bird': 1999, 'indic': 2000, 'par': 2001, 'court': 2002, 'remov': 2003, 'rental': 2004, 'loser': 2005, 'nanci': 2006, 'roy': 2007, 'consequ': 2008, 'advertis': 2009, 'grave': 2010, 'naiv': 2011, 'inevit': 2012, 'invis': 2013, 'bridg': 2014, 'slap': 2015, 'germani': 2016, 'fatal': 2017, 'brave': 2018, 'le': 2019, 'footbal': 2020, 'anger': 2021, 'ador': 2022, 'provok': 2023, 'loui': 2024, 'anderson': 2025, 'chan': 2026, 'alcohol': 2027, 'professor': 2028, 'ryan': 2029, 'willi': 2030, 'stumbl': 2031, 'sharp': 2032, 'assassin': 2033, 'patrick': 2034, '1930': 2035, 'australian': 2036, 'bat': 2037, 'strongli': 2038, 'heck': 2039, 'deni': 2040, 'saturday': 2041, 'cell': 2042, 'amateurish': 2043, 'ape': 2044, 'lousi': 2045, 'trilog': 2046, 'liber': 2047, 'eight': 2048, 'refresh': 2049, 'sin': 2050, 'vagu': 2051, 'justifi': 2052, 'san': 2053, 'resid': 2054, 'creator': 2055, 'mini': 2056, 'reput': 2057, 'indi': 2058, 'terrifi': 2059, 'defeat': 2060, 'sympathi': 2061, 'endur': 2062, 'tediou': 2063, 'expert': 2064, 'tabl': 2065, 'prevent': 2066, 'task': 2067, 'offend': 2068, 'employ': 2069, 'rival': 2070, 'trial': 2071, 'basebal': 2072, 'imit': 2073, 'che': 2074, 'pitch': 2075, 'europ': 2076, 'max': 2077, 'weekend': 2078, 'dig': 2079, 'beach': 2080, 'fairi': 2081, 'complaint': 2082, 'format': 2083, 'murphi': 2084, 'purchas': 2085, 'risk': 2086, 'bite': 2087, 'powel': 2088, 'reminisc': 2089, 'harsh': 2090, 'glimps': 2091, 'tini': 2092, 'hype': 2093, 'nois': 2094, 'titan': 2095, 'till': 2096, 'prime': 2097, 'asleep': 2098, 'fals': 2099, 'north': 2100, '14': 2101, 'strip': 2102, 'destruct': 2103, 'texa': 2104, 'africa': 2105, 'revel': 2106, 'descript': 2107, 'spin': 2108, 'inner': 2109, 'sitcom': 2110, 'surfac': 2111, 'semi': 2112, 'arrest': 2113, 'excess': 2114, 'uninterest': 2115, 'massiv': 2116, 'hitchcock': 2117, 'makeup': 2118, 'controversi': 2119, 'maintain': 2120, 'twin': 2121, 'argu': 2122, 'dinosaur': 2123, 'ludicr': 2124, 'expens': 2125, 'stare': 2126, 'ideal': 2127, 'melodrama': 2128, 'insist': 2129, 'reject': 2130, 'kim': 2131, 'host': 2132, 'press': 2133, 'nail': 2134, 'atroci': 2135, 'supernatur': 2136, 'erot': 2137, 'subplot': 2138, 'forest': 2139, 'ala': 2140, 'ga': 2141, 'columbo': 2142, 'identifi': 2143, 'notch': 2144, 'dude': 2145, 'cant': 2146, 'presum': 2147, 'plagu': 2148, 'guest': 2149, 'forgett': 2150, 'crude': 2151, 'closer': 2152, 'character': 2153, 'method': 2154, 'landscap': 2155, 'princess': 2156, 'beast': 2157, 'lion': 2158, 'border': 2159, 'foster': 2160, 'ear': 2161, 'bound': 2162, 'aunt': 2163, 'birth': 2164, 'accus': 2165, 'previous': 2166, 'storytel': 2167, 'urban': 2168, 'jungl': 2169, 'damag': 2170, 'pacino': 2171, 'guid': 2172, 'thirti': 2173, 'chose': 2174, 'nude': 2175, 'jess': 2176, 'propaganda': 2177, 'emma': 2178, 'doll': 2179, 'warrior': 2180, 'whoever': 2181, 'mate': 2182, '25': 2183, 'mainstream': 2184, 'pet': 2185, 'size': 2186, 'latest': 2187, 'poster': 2188, 'friday': 2189, 'upset': 2190, 'gritti': 2191, 'deadli': 2192, 'exact': 2193, 'merit': 2194, 'cooper': 2195, 'popul': 2196, 'sun': 2197, 'settl': 2198, 'ton': 2199, 'blend': 2200, '1990': 2201, 'corps': 2202, 'buff': 2203, 'rough': 2204, 'citizen': 2205, 'warner': 2206, 'wilson': 2207, 'contest': 2208, 'contact': 2209, 'pitt': 2210, 'mgm': 2211, 'overcom': 2212, 'metal': 2213, 'environ': 2214, 'select': 2215, 'bu': 2216, 'widow': 2217, 'rat': 2218, 'alic': 2219, 'particip': 2220, 'guilti': 2221, 'revolut': 2222, 'lift': 2223, 'link': 2224, 'ted': 2225, 'corner': 2226, 'afternoon': 2227, '1960': 2228, 'matrix': 2229, 'moron': 2230, 'exagger': 2231, 'accompani': 2232, 'corpor': 2233, 'johnson': 2234, 'prostitut': 2235, 'hood': 2236, 'friendli': 2237, 'holm': 2238, 'instal': 2239, 'leagu': 2240, 'multipl': 2241, 'doom': 2242, 'sincer': 2243, 'clair': 2244, 'junk': 2245, 'lugosi': 2246, 'aka': 2247, 'defend': 2248, 'examin': 2249, 'advis': 2250, 'hip': 2251, 'irish': 2252, 'string': 2253, 'campi': 2254, 'sunday': 2255, 'grim': 2256, 'blah': 2257, 'shake': 2258, 'icon': 2259, 'confid': 2260, 'rachel': 2261, 'pro': 2262, 'shut': 2263, 'varieti': 2264, 'tight': 2265, 'jaw': 2266, 'directli': 2267, 'goal': 2268, 'sullivan': 2269, 'denni': 2270, 'attach': 2271, 'medic': 2272, 'mexican': 2273, 'truck': 2274, 'legendari': 2275, 'dean': 2276, 'vietnam': 2277, 'breast': 2278, 'sarah': 2279, 'terrorist': 2280, 'prior': 2281, 'sentenc': 2282, 'courag': 2283, 'duke': 2284, 'bourn': 2285, 'yell': 2286, 'entri': 2287, 'proceed': 2288, 'split': 2289, 'un': 2290, 'nose': 2291, 'behav': 2292, 'donald': 2293, 'hong': 2294, 'forth': 2295, 'lifetim': 2296, 'gather': 2297, 'swim': 2298, 'unconvinc': 2299, 'everywher': 2300, 'crush': 2301, 'jerk': 2302, 'buri': 2303, 'confess': 2304, 'concentr': 2305, 'stolen': 2306, 'borrow': 2307, 'lip': 2308, 'spite': 2309, 'pan': 2310, 'julia': 2311, 'turkey': 2312, 'deliveri': 2313, 'california': 2314, 'proud': 2315, 'china': 2316, 'flight': 2317, 'hoffman': 2318, 'reward': 2319, 'quest': 2320, 'offici': 2321, 'downright': 2322, 'freeman': 2323, 'fabul': 2324, 'encourag': 2325, 'worthwhil': 2326, 'notori': 2327, 'jon': 2328, 'sir': 2329, 'fade': 2330, 'jail': 2331, 'lazi': 2332, 'betray': 2333, 'inept': 2334, 'sink': 2335, 'shower': 2336, 'bell': 2337, 'cousin': 2338, 'bag': 2339, 'teeth': 2340, 'susan': 2341, 'survivor': 2342, 'branagh': 2343, 'imageri': 2344, 'retard': 2345, 'relev': 2346, 'lisa': 2347, 'storm': 2348, 'shark': 2349, 'summari': 2350, 'alright': 2351, 'toler': 2352, 'hugh': 2353, 'trade': 2354, 'stab': 2355, 'finger': 2356, 'mexico': 2357, 'bride': 2358, 'tremend': 2359, 'facial': 2360, 'quirki': 2361, 'pose': 2362, 'bitter': 2363, 'blown': 2364, 'von': 2365, 'ha': 2366, 'hyster': 2367, 'cruel': 2368, 'scheme': 2369, 'christ': 2370, 'ned': 2371, 'address': 2372, 'larri': 2373, 'ron': 2374, 'bone': 2375, 'afterward': 2376, 'beg': 2377, 'swear': 2378, 'traci': 2379, 'pursu': 2380, 'tour': 2381, 'screw': 2382, 'snake': 2383, 'feed': 2384, 'distinct': 2385, 'thumb': 2386, 'chair': 2387, 'mechan': 2388, 'stomach': 2389, 'photo': 2390, 'obscur': 2391, 'occas': 2392, 'raw': 2393, 'holiday': 2394, 'cabin': 2395, 'chain': 2396, 'southern': 2397, 'necessarili': 2398, 'gruesom': 2399, 'hardi': 2400, 'resist': 2401, 'sidney': 2402, 'argument': 2403, 'render': 2404, 'heavili': 2405, 'racist': 2406, 'indulg': 2407, 'india': 2408, 'philip': 2409, 'understood': 2410, 'satan': 2411, 'outfit': 2412, 'lay': 2413, 'forgot': 2414, 'pregnant': 2415, 'midnight': 2416, 'tongu': 2417, 'fourth': 2418, 'obnoxi': 2419, 'belov': 2420, 'integr': 2421, 'stalk': 2422, 'garden': 2423, 'carol': 2424, 'restor': 2425, 'ticket': 2426, 'inhabit': 2427, 'deeper': 2428, '17': 2429, 'slapstick': 2430, 'magazin': 2431, 'shoe': 2432, 'brad': 2433, 'incid': 2434, 'devot': 2435, 'lincoln': 2436, 'divorc': 2437, 'anticip': 2438, 'disbelief': 2439, 'benefit': 2440, 'underground': 2441, 'sandler': 2442, 'maria': 2443, 'guarante': 2444, 'elizabeth': 2445, 'lili': 2446, 'capit': 2447, 'explod': 2448, 'mildli': 2449, 'amazingli': 2450, 'bbc': 2451, 'greater': 2452, 'slave': 2453, 'cring': 2454, 'creation': 2455, 'princip': 2456, 'funnier': 2457, 'introduct': 2458, 'lesli': 2459, 'halfway': 2460, 'extraordinari': 2461, 'transfer': 2462, 'punish': 2463, 'wreck': 2464, 'overwhelm': 2465, 'enhanc': 2466, 'extent': 2467, 'advantag': 2468, 'text': 2469, 'tap': 2470, 'east': 2471, 'jessica': 2472, 'dynam': 2473, 'plant': 2474, 'horrif': 2475, 'deliber': 2476, 'preview': 2477, 'error': 2478, 'lo': 2479, 'lane': 2480, '2000': 2481, 'vacat': 2482, 'miller': 2483, 'sophist': 2484, 'vincent': 2485, 'miscast': 2486, 'homosexu': 2487, 'appli': 2488, 'basi': 2489, 'ensu': 2490, 'reed': 2491, 'extend': 2492, 'spoken': 2493, 'mansion': 2494, 'sleazi': 2495, 'via': 2496, 'steel': 2497, 'measur': 2498, 'bollywood': 2499, 'elev': 2500, 'uncomfort': 2501, 'goofi': 2502, 'melt': 2503, 'dentist': 2504, 'breathtak': 2505, 'daili': 2506, 'beer': 2507, 'cathol': 2508, 'overact': 2509, 'fix': 2510, 'conceiv': 2511, 'hippi': 2512, 'savag': 2513, 'stanley': 2514, 'assign': 2515, 'mous': 2516, 'alter': 2517, 'blair': 2518, 'inspector': 2519, 'subsequ': 2520, 'sacrific': 2521, 'nowaday': 2522, 'succe': 2523, 'everyday': 2524, 'properli': 2525, 'oppos': 2526, 'burt': 2527, 'carpent': 2528, 'massacr': 2529, 'laura': 2530, 'neck': 2531, 'circl': 2532, 'block': 2533, 'access': 2534, 'christi': 2535, 'grey': 2536, 'fallen': 2537, 'pool': 2538, 'lesser': 2539, 'mob': 2540, 'concert': 2541, 'portrait': 2542, 'fay': 2543, 'seagal': 2544, 'competit': 2545, 'usa': 2546, 'jewish': 2547, 'relax': 2548, 'isol': 2549, 'sinist': 2550, 'react': 2551, 'chees': 2552, 'jake': 2553, '2006': 2554, 'stink': 2555, 'nine': 2556, 'appal': 2557, 'suitabl': 2558, 'spiritu': 2559, 'chop': 2560, 'creep': 2561, 'immens': 2562, 'ironi': 2563, 'nonetheless': 2564, 'lyric': 2565, 'sold': 2566, 'shirt': 2567, 'luci': 2568, 'adopt': 2569, 'rage': 2570, 'reduc': 2571, 'nut': 2572, 'needless': 2573, 'franchis': 2574, 'user': 2575, 'navi': 2576, 'spring': 2577, 'showcas': 2578, 'retir': 2579, 'digit': 2580, 'uninspir': 2581, 'zone': 2582, 'bath': 2583, 'per': 2584, 'nurs': 2585, 'asham': 2586, 'jay': 2587, 'bulli': 2588, 'stanwyck': 2589, 'upper': 2590, 'amongst': 2591, 'illustr': 2592, '1940': 2593, 'broadcast': 2594, '2001': 2595, 'oddli': 2596, 'sutherland': 2597, 'laid': 2598, 'disguis': 2599, 'aspir': 2600, 'fulfil': 2601, 'stylish': 2602, 'baker': 2603, 'throat': 2604, 'brando': 2605, 'pound': 2606, 'wanna': 2607, 'em': 2608, 'pride': 2609, 'endear': 2610, 'nobl': 2611, 'impli': 2612, 'neighborhood': 2613, 'wwii': 2614, '18': 2615, 'thief': 2616, 'shoulder': 2617, 'bo': 2618, 'dinner': 2619, 'coher': 2620, 'cinematograph': 2621, 'dawn': 2622, 'bett': 2623, 'rochest': 2624, 'shift': 2625, 'albeit': 2626, 'diseas': 2627, 'distribut': 2628, 'tens': 2629, 'prop': 2630, '16': 2631, 'snow': 2632, 'wash': 2633, 'forti': 2634, 'shout': 2635, 'matthau': 2636, 'contract': 2637, 'knife': 2638, 'silenc': 2639, 'rebel': 2640, 'function': 2641, 'surf': 2642, 'poignant': 2643, 'heat': 2644, 'elvira': 2645, 'eeri': 2646, 'cancel': 2647, 'horrend': 2648, 'chuck': 2649, 'proof': 2650, 'mindless': 2651, 'cannib': 2652, 'duti': 2653, 'instinct': 2654, 'height': 2655, 'widmark': 2656, 'derek': 2657, 'henc': 2658, 'silver': 2659, 'internet': 2660, 'reunion': 2661, 'etern': 2662, 'mill': 2663, 'absorb': 2664, 'repetit': 2665, 'glori': 2666, 'neat': 2667, 'musician': 2668, 'alik': 2669, 'incoher': 2670, 'greatli': 2671, 'elvi': 2672, 'premier': 2673, 'torn': 2674, 'pie': 2675, 'spielberg': 2676, 'innov': 2677, 'racism': 2678, 'lovabl': 2679, 'homag': 2680, 'diamond': 2681, 'trite': 2682, 'britain': 2683, 'infam': 2684, 'blank': 2685, 'precis': 2686, 'wealthi': 2687, 'burton': 2688, 'horrifi': 2689, 'announc': 2690, 'crisi': 2691, 'itali': 2692, 'redempt': 2693, 'nelson': 2694, 'fbi': 2695, 'bang': 2696, 'helen': 2697, 'flop': 2698, 'dedic': 2699, 'wilder': 2700, 'pat': 2701, 'resolut': 2702, 'happili': 2703, 'streisand': 2704, 'hammer': 2705, 'ensembl': 2706, 'parallel': 2707, 'chaplin': 2708, 'disagre': 2709, 'conclud': 2710, 'broke': 2711, 'oil': 2712, 'carter': 2713, 'cube': 2714, 'st': 2715, 'plastic': 2716, 'triumph': 2717, 'mar': 2718, 'factori': 2719, 'weight': 2720, 'fighter': 2721, 'bush': 2722, 'chuckl': 2723, 'rocket': 2724, 'march': 2725, 'climb': 2726, 'own': 2727, 'vega': 2728, 'row': 2729, 'mst3k': 2730, 'enorm': 2731, 'boot': 2732, 'thug': 2733, 'wherea': 2734, 'unforgett': 2735, 'lust': 2736, 'dump': 2737, 'spare': 2738, 'luca': 2739, 'kurt': 2740, 'meaning': 2741, 'sensibl': 2742, 'dane': 2743, 'karloff': 2744, 'engin': 2745, 'dear': 2746, 'bobbi': 2747, 'butt': 2748, 'fifti': 2749, 'brand': 2750, 'difficulti': 2751, 'threat': 2752, 'rap': 2753, 'adequ': 2754, 'caricatur': 2755, 'stress': 2756, 'arnold': 2757, 'swing': 2758, 'flynn': 2759, 'polish': 2760, 'ego': 2761, 'ralph': 2762, 'homeless': 2763, 'fest': 2764, 'secretari': 2765, 'arrog': 2766, 'journalist': 2767, 'elabor': 2768, 'barri': 2769, 'hamlet': 2770, 'tool': 2771, 'simpson': 2772, 'spike': 2773, 'puppet': 2774, 'unbear': 2775, 'float': 2776, 'grate': 2777, 'arrang': 2778, 'fanci': 2779, 'induc': 2780, 'conspiraci': 2781, 'resort': 2782, 'boll': 2783, 'pig': 2784, 'basement': 2785, 'tribut': 2786, 'muppet': 2787, 'exercis': 2788, 'choreograph': 2789, 'cruis': 2790, 'phillip': 2791, 'guilt': 2792, 'korean': 2793, 'ward': 2794, 'scarecrow': 2795, 'document': 2796, 'ham': 2797, 'toilet': 2798, 'item': 2799, 'tower': 2800, 'layer': 2801, 'medium': 2802, 'fianc': 2803, 'babe': 2804, 'puzzl': 2805, 'stan': 2806, 'file': 2807, 'editor': 2808, 'slip': 2809, '24': 2810, 'larger': 2811, 'portion': 2812, 'inexplic': 2813, 'glover': 2814, 'transit': 2815, 'spark': 2816, 'slaughter': 2817, 'superfici': 2818, 'catherin': 2819, 'librari': 2820, 'orient': 2821, 'territori': 2822, 'denzel': 2823, 'minim': 2824, 'persona': 2825, 'doc': 2826, 'assur': 2827, 'philosoph': 2828, 'walken': 2829, 'curti': 2830, 'financi': 2831, 'boredom': 2832, 'shi': 2833, 'dorothi': 2834, 'jet': 2835, 'ban': 2836, 'pg': 2837, 'sneak': 2838, 'jeremi': 2839, 'owe': 2840, 'wolf': 2841, 'hudson': 2842, 'profound': 2843, 'multi': 2844, 'metaphor': 2845, 'backdrop': 2846, 'ambigu': 2847, 'cusack': 2848, 'whale': 2849, 'eleph': 2850, 'rave': 2851, 'stiff': 2852, 'notion': 2853, 'implaus': 2854, 'birthday': 2855, '2005': 2856, 'ultra': 2857, 'elsewher': 2858, 'union': 2859, 'gadget': 2860, 'hack': 2861, 'viru': 2862, 'bibl': 2863, 'distanc': 2864, 'eva': 2865, 'superhero': 2866, 'newspap': 2867, 'hawk': 2868, 'deriv': 2869, 'canada': 2870, 'poison': 2871, 'disc': 2872, 'pad': 2873, 'squar': 2874, 'eastwood': 2875, 'slight': 2876, 'lloyd': 2877, 'reader': 2878, 'urg': 2879, '1st': 2880, 'afford': 2881, 'huh': 2882, 'charisma': 2883, 'spread': 2884, 'restaur': 2885, 'health': 2886, 'montag': 2887, 'button': 2888, 'cure': 2889, 'sadist': 2890, 'heston': 2891, 'essenc': 2892, 'skit': 2893, 'drown': 2894, 'peak': 2895, 'maniac': 2896, 'gradual': 2897, 'lab': 2898, 'fetch': 2899, 'dealt': 2900, 'invest': 2901, 'companion': 2902, 'estat': 2903, 'godfath': 2904, 'muslim': 2905, 'scoobi': 2906, 'gothic': 2907, 'servant': 2908, 'ritter': 2909, 'alli': 2910, 'tea': 2911, 'subtleti': 2912, 'kane': 2913, 'countless': 2914, 'miik': 2915, 'cup': 2916, 'electr': 2917, 'iii': 2918, 'charismat': 2919, 'heroic': 2920, 'elect': 2921, 'briefli': 2922, 'salli': 2923, 'reel': 2924, 'bud': 2925, 'neil': 2926, 'tender': 2927, 'cole': 2928, 'nuanc': 2929, 'admittedli': 2930, 'toss': 2931, 'resourc': 2932, 'wannab': 2933, 'ingredi': 2934, 'grandmoth': 2935, 'carrey': 2936, 'pit': 2937, 'poverti': 2938, 'reev': 2939, 'label': 2940, 'kubrick': 2941, 'gate': 2942, 'mafia': 2943, 'shall': 2944, 'stood': 2945, 'mild': 2946, 'dawson': 2947, 'stronger': 2948, 'punk': 2949, 'pauli': 2950, 'astair': 2951, 'easier': 2952, 'outcom': 2953, 'fond': 2954, 'assault': 2955, 'terri': 2956, 'tag': 2957, 'burst': 2958, 'cardboard': 2959, 'cox': 2960, 'smash': 2961, 'updat': 2962, 'ian': 2963, 'useless': 2964, 'smooth': 2965, 'bakshi': 2966, 'samurai': 2967, 'resolv': 2968, 'coincid': 2969, '2002': 2970, 'rex': 2971, 'vari': 2972, 'vulner': 2973, 'qualifi': 2974, 'sketch': 2975, 'melodramat': 2976, 'exchang': 2977, 'fist': 2978, 'increasingli': 2979, 'divers': 2980, 'templ': 2981, 'insert': 2982, 'blast': 2983, 'suspend': 2984, 'be': 2985, 'scratch': 2986, 'tame': 2987, 'reynold': 2988, 'conveni': 2989, 'brillianc': 2990, 'luckili': 2991, 'matthew': 2992, 'pin': 2993, 'coach': 2994, 'farm': 2995, 'fisher': 2996, 'seventi': 2997, 'strictli': 2998, 'meat': 2999, 'gotta': 3000, 'jami': 3001, 'walker': 3002, 'soprano': 3003, 'nuclear': 3004, 'hamilton': 3005, 'ambiti': 3006, 'monk': 3007, 'ninja': 3008, 'cave': 3009, 'timeless': 3010, 'clock': 3011, 'joey': 3012, 'discoveri': 3013, 'closet': 3014, 'brosnan': 3015, 'worthless': 3016, 'spooki': 3017, 'grasp': 3018, 'struck': 3019, 'butcher': 3020, 'kudo': 3021, 'eccentr': 3022, 'empir': 3023, 'revers': 3024, 'convolut': 3025, 'instantli': 3026, 'recreat': 3027, 'sloppi': 3028, 'norman': 3029, 'cliff': 3030, 'communist': 3031, 'fifteen': 3032, 'sidekick': 3033, 'mitchel': 3034, 'eighti': 3035, 'declar': 3036, 'importantli': 3037, 'selfish': 3038, 'wipe': 3039, 'miracl': 3040, 'partli': 3041, 'pal': 3042, 'seller': 3043, 'bleak': 3044, 'clown': 3045, 'evok': 3046, 'inconsist': 3047, 'gray': 3048, 'chew': 3049, 'destin': 3050, 'australia': 3051, 'lifestyl': 3052, 'websit': 3053, 'superbl': 3054, 'flawless': 3055, 'farc': 3056, 'piano': 3057, 'debat': 3058, 'enthusiast': 3059, 'ho': 3060, '45': 3061, 'cheek': 3062, 'aforement': 3063, 'psychiatrist': 3064, 'stoog': 3065, 'seed': 3066, 'slice': 3067, 'bash': 3068, 'abc': 3069, 'wrestl': 3070, 'dash': 3071, 'splatter': 3072, 'dire': 3073, 'anni': 3074, 'drivel': 3075, 'soviet': 3076, 'incompet': 3077, 'kitchen': 3078, 'directori': 3079, 'wick': 3080, 'pressur': 3081, 'regardless': 3082, 'emili': 3083, 'akshay': 3084, 'suppli': 3085, 'chapter': 3086, 'helicopt': 3087, 'mann': 3088, 'prize': 3089, 'increas': 3090, 'beaten': 3091, 'distant': 3092, 'ken': 3093, 'lou': 3094, 'duo': 3095, 'cameron': 3096, 'seduc': 3097, 'recov': 3098, 'curios': 3099, 'cia': 3100, 'artifici': 3101, 'flower': 3102, 'boil': 3103, 'pleasantli': 3104, 'dave': 3105, 'glow': 3106, 'judi': 3107, 'doo': 3108, 'cagney': 3109, 'jar': 3110, 'blob': 3111, 'eleg': 3112, 'craig': 3113, 'combat': 3114, 'perri': 3115, 'favour': 3116, 'ellen': 3117, 'drunken': 3118, 'web': 3119, 'hop': 3120, 'ranger': 3121, 'psychot': 3122, 'splendid': 3123, 'goldberg': 3124, 'panic': 3125, 'laurel': 3126, 'glenn': 3127, 'craven': 3128, 'francisco': 3129, 'turner': 3130, 'greek': 3131, 'alexand': 3132, 'shortli': 3133, 'flip': 3134, 'falk': 3135, 'fx': 3136, 'gentl': 3137, 'plausibl': 3138, 'ruth': 3139, 'hatr': 3140, 'min': 3141, 'slightest': 3142, '20th': 3143, 'graduat': 3144, 'rid': 3145, 'wizard': 3146, 'philosophi': 3147, 'modesti': 3148, 'gandhi': 3149, 'tall': 3150, 'harm': 3151, 'holi': 3152, 'felix': 3153, 'manhattan': 3154, 'ocean': 3155, 'jealou': 3156, 'dracula': 3157, 'unpleas': 3158, 'knight': 3159, 'fund': 3160, 'preciou': 3161, 'we': 3162, 'lend': 3163, 'futurist': 3164, 'legal': 3165, 'bless': 3166, 'nod': 3167, 'scientif': 3168, 'explicit': 3169, 'digniti': 3170, 'ami': 3171, 'reviv': 3172, 'overdon': 3173, 'thread': 3174, 'tank': 3175, 'childish': 3176, 'mock': 3177, 'giallo': 3178, 'forbidden': 3179, 'fever': 3180, 'thick': 3181, 'repeatedli': 3182, 'yesterday': 3183, '2004': 3184, 'margaret': 3185, 'awaken': 3186, 'pirat': 3187, '99': 3188, 'torment': 3189, 'elderli': 3190, 'unwatch': 3191, 'awe': 3192, 'nerv': 3193, 'broad': 3194, 'verhoeven': 3195, 'eve': 3196, 'mel': 3197, 'uniform': 3198, 'romero': 3199, 'lean': 3200, 'automat': 3201, 'acclaim': 3202, 'ah': 3203, 'absenc': 3204, 'royal': 3205, 'politician': 3206, 'timothi': 3207, 'custom': 3208, 'eas': 3209, 'ambit': 3210, 'bin': 3211, 'kay': 3212, 'publish': 3213, 'rivet': 3214, 'launch': 3215, 'stiller': 3216, 'roman': 3217, 'griffith': 3218, 'transport': 3219, 'foul': 3220, 'phrase': 3221, 'darker': 3222, 'purpl': 3223, 'stinker': 3224, 'gabriel': 3225, 'crook': 3226, 'pierc': 3227, 'homicid': 3228, 'bathroom': 3229, 'antic': 3230, 'wallac': 3231, 'tomato': 3232, 'termin': 3233, 'sunshin': 3234, 'pulp': 3235, 'warren': 3236, 'pray': 3237, 'contrari': 3238, 'packag': 3239, 'q': 3240, 'juvenil': 3241, 'awak': 3242, 'coloni': 3243, 'kenneth': 3244, '2003': 3245, 'li': 3246, 'album': 3247, 'horrid': 3248, 'choreographi': 3249, 'marin': 3250, 'ought': 3251, 'sixti': 3252, 'karen': 3253, 'donna': 3254, 'brazil': 3255, 'hollow': 3256, 'revolutionari': 3257, 'eyr': 3258, 'saint': 3259, 'evolv': 3260, 'viciou': 3261, 'prom': 3262, 'rambo': 3263, 'ireland': 3264, 'dose': 3265, 'blade': 3266, 'boast': 3267, 'defi': 3268, 'option': 3269, 'overr': 3270, 'ramon': 3271, 'conserv': 3272, 'stole': 3273, 'twelv': 3274, 'nerd': 3275, 'beatti': 3276, 'candid': 3277, 'mummi': 3278, 'kapoor': 3279, 'mildr': 3280, 'collabor': 3281, 'kirk': 3282, 'funer': 3283, 'fulci': 3284, 'protest': 3285, 'trio': 3286, 'detract': 3287, 'astonish': 3288, 'flame': 3289, 'confirm': 3290, 'jazz': 3291, 'global': 3292, 'altman': 3293, 'natali': 3294, 'whip': 3295, 'bull': 3296, 'yellow': 3297, 'destini': 3298, 'leap': 3299, 'shade': 3300, 'enterpris': 3301, 'delici': 3302, 'bottl': 3303, 'audio': 3304, 'mystic': 3305, 'spit': 3306, 'tommi': 3307, 'racial': 3308, 'blake': 3309, 'nicholson': 3310, 'swedish': 3311, 'visibl': 3312, 'altogeth': 3313, 'bedroom': 3314, 'inherit': 3315, 'todd': 3316, 'adolesc': 3317, 'merci': 3318, 'vivid': 3319, 'popcorn': 3320, 'meaningless': 3321, 'enchant': 3322, 'neo': 3323, 'harder': 3324, 'fonda': 3325, 'staff': 3326, 'threw': 3327, 'pseudo': 3328, 'reunit': 3329, 'suspici': 3330, 'lemmon': 3331, 'bust': 3332, 'await': 3333, 'roommat': 3334, 'moodi': 3335, 'synopsi': 3336, 'uneven': 3337, 'lawrenc': 3338, 'decor': 3339, 'reserv': 3340, 'respond': 3341, 'atlanti': 3342, 'ruthless': 3343, 'befriend': 3344, 'exhibit': 3345, 'wire': 3346, 'kennedi': 3347, 'fanat': 3348, 'crocodil': 3349, 'tip': 3350, 'madonna': 3351, 'leonard': 3352, 'edi': 3353, 'jew': 3354, 'voight': 3355, 'ventur': 3356, 'incident': 3357, 'holli': 3358, 'abysm': 3359, 'dimens': 3360, 'centr': 3361, '2007': 3362, 'audit': 3363, 'palma': 3364, 'rural': 3365, 'bargain': 3366, 'clint': 3367, 'clumsi': 3368, 'bold': 3369, 'unsettl': 3370, 'chao': 3371, 'voyag': 3372, 'carl': 3373, 'garner': 3374, 'bradi': 3375, 'trail': 3376, 'cari': 3377, 'nearbi': 3378, 'tiger': 3379, 'timon': 3380, 'versu': 3381, 'characterist': 3382, 'troop': 3383, 'hart': 3384, '2nd': 3385, 'imperson': 3386, 'humili': 3387, 'daddi': 3388, 'poetic': 3389, 'echo': 3390, 'cuba': 3391, 'wealth': 3392, 'acknowledg': 3393, 'neglect': 3394, 'immigr': 3395, 'cd': 3396, 'elimin': 3397, 'mall': 3398, 'lit': 3399, 'ant': 3400, 'mistaken': 3401, 'marshal': 3402, 'mickey': 3403, 'pun': 3404, 'prejudic': 3405, 'repuls': 3406, 'jeffrey': 3407, 'paus': 3408, 'domest': 3409, 'saga': 3410, 'solo': 3411, 'homer': 3412, 'collaps': 3413, 'celluloid': 3414, 'infect': 3415, '1996': 3416, 'ginger': 3417, 'apolog': 3418, 'inappropri': 3419, 'inan': 3420, 'sore': 3421, 'interrupt': 3422, 'pant': 3423, 'gear': 3424, 'undoubtedli': 3425, 'harvey': 3426, 'cake': 3427, 'olivi': 3428, 'tribe': 3429, 'coat': 3430, 'milk': 3431, 'equip': 3432, 'chest': 3433, 'leon': 3434, 'coffe': 3435, 'hbo': 3436, 'promin': 3437, 'assembl': 3438, 'solut': 3439, 'furthermor': 3440, 'consum': 3441, 'exot': 3442, 'trace': 3443, 'pen': 3444, 'embrac': 3445, 'colleagu': 3446, 'airplan': 3447, 'vulgar': 3448, 'primari': 3449, 'florida': 3450, 'aveng': 3451, 'brooklyn': 3452, 'highest': 3453, 'humbl': 3454, 'institut': 3455, 'pot': 3456, 'jenni': 3457, 'maggi': 3458, 'instant': 3459, 'devast': 3460, 'retain': 3461, 'colonel': 3462, 'polanski': 3463, 'dutch': 3464, '1999': 3465, 'linda': 3466, 'seduct': 3467, 'smaller': 3468, 'outer': 3469, 'ya': 3470, 'poke': 3471, 'wive': 3472, 'bowl': 3473, 'sale': 3474, '3rd': 3475, 'disabl': 3476, 'dian': 3477, 'principl': 3478, 'rick': 3479, 'cope': 3480, 'strain': 3481, 'godzilla': 3482, 'illog': 3483, 'descend': 3484, 'gender': 3485, 'yard': 3486, 'gloriou': 3487, 'dive': 3488, 'beneath': 3489, 'inferior': 3490, 'cue': 3491, 'lol': 3492, 'rabbit': 3493, 'mixtur': 3494, 'vast': 3495, 'bubbl': 3496, 'devoid': 3497, 'scope': 3498, 'hal': 3499, 'blatant': 3500, 'primarili': 3501, 'glamor': 3502, 'dud': 3503, 'predecessor': 3504, 'secondli': 3505, 'gundam': 3506, 'countrysid': 3507, 'z': 3508, 'shirley': 3509, 'grinch': 3510, 'alert': 3511, 'invas': 3512, 'aggress': 3513, 'hideou': 3514, 'domino': 3515, 'myer': 3516, 'alfr': 3517, 'april': 3518, 'simplist': 3519, 'arab': 3520, 'casual': 3521, 'senseless': 3522, 'museum': 3523, 'breed': 3524, 'pearl': 3525, 'disjoint': 3526, 'talki': 3527, 'trademark': 3528, 'et': 3529, 'streep': 3530, 'shelf': 3531, 'garbo': 3532, 'acid': 3533, 'uwe': 3534, 'vanish': 3535, 'loyal': 3536, 'hardcor': 3537, 'mayor': 3538, 'slide': 3539, 'defens': 3540, 'applaud': 3541, 'robberi': 3542, 'stir': 3543, 'experiment': 3544, 'sh': 3545, 'stellar': 3546, 'mail': 3547, 'obtain': 3548, 'oz': 3549, 'hopeless': 3550, 'boom': 3551, 'disgrac': 3552, 'robinson': 3553, 'rendit': 3554, 'illeg': 3555, 'maci': 3556, 'unhappi': 3557, 'stack': 3558, 'khan': 3559, 'wont': 3560, 'amanda': 3561, 'counter': 3562, 'topless': 3563, 'rifl': 3564, 'incomprehens': 3565, 'blew': 3566, 'craze': 3567, 'declin': 3568, 'recruit': 3569, 'tempt': 3570, 'span': 3571, 'fri': 3572, 'berlin': 3573, 'emphasi': 3574, 'scroog': 3575, 'dicken': 3576, 'dismiss': 3577, 'hartley': 3578, 'grandfath': 3579, 'diana': 3580, 'spider': 3581, 'psychic': 3582, 'tenant': 3583, 'soccer': 3584, 'riot': 3585, 'wet': 3586, 'sibl': 3587, 'shed': 3588, 'ethnic': 3589, 'resurrect': 3590, 'bitch': 3591, 'revolt': 3592, 'parad': 3593, 'porno': 3594, 'faster': 3595, 'goer': 3596, 'trashi': 3597, 'niro': 3598, 'intim': 3599, 'ration': 3600, 'sympath': 3601, 'woo': 3602, 'shaw': 3603, 'justin': 3604, 'lumet': 3605, 'rider': 3606, 'wheel': 3607, 'worm': 3608, 'enlighten': 3609, 'ensur': 3610, 'steam': 3611, 'farmer': 3612, 'gap': 3613, 'slick': 3614, 'commend': 3615, 'nephew': 3616, 'region': 3617, 'weakest': 3618, 'patriot': 3619, 'feminist': 3620, 'choru': 3621, 'dealer': 3622, 'jonathan': 3623, 'honesti': 3624, 'andr': 3625, 'hopper': 3626, 'mario': 3627, 'eager': 3628, 'hesit': 3629, 'partial': 3630, 'unreal': 3631, 'biographi': 3632, 'immort': 3633, '00': 3634, 'lena': 3635, 'wendi': 3636, 'ballet': 3637, 'similarli': 3638, 'safeti': 3639, 'wore': 3640, 'skull': 3641, 'util': 3642, 'vice': 3643, 'leo': 3644, 'snap': 3645, 'hung': 3646, 'victori': 3647, 'properti': 3648, 'mutant': 3649, 'confin': 3650, 'repress': 3651, 'franco': 3652, 'sappi': 3653, 'morri': 3654, 'nostalg': 3655, 'composit': 3656, 'sandra': 3657, 'kingdom': 3658, 'psychopath': 3659, 'charlott': 3660, 'prequel': 3661, 'blunt': 3662, 'owen': 3663, 'macarthur': 3664, 'emperor': 3665, 'del': 3666, 'speci': 3667, 'drain': 3668, 'bergman': 3669, '1972': 3670, 'bonu': 3671, 'deed': 3672, 'acquir': 3673, 'repli': 3674, 'thru': 3675, 'cg': 3676, 'compens': 3677, 'strand': 3678, 'whoopi': 3679, 'recycl': 3680, 'bow': 3681, 'pattern': 3682, 'nervou': 3683, 'heartbreak': 3684, 'despair': 3685, 'exit': 3686, 'farrel': 3687, 'miseri': 3688, 'drum': 3689, 'tad': 3690, 'valuabl': 3691, 'snl': 3692, 'bumbl': 3693, 'rambl': 3694, 'montana': 3695, 'compass': 3696, 'dalton': 3697, 'latin': 3698, 'rope': 3699, 'campbel': 3700, 'dust': 3701, 'rocki': 3702, 'tail': 3703, 'hyde': 3704, 'kyle': 3705, 'downhil': 3706, 'orson': 3707, 'da': 3708, 'percept': 3709, 'bleed': 3710, 'pour': 3711, '35': 3712, 'rotten': 3713, 'rapist': 3714, 'wacki': 3715, 'gal': 3716, 'contempl': 3717, 'radic': 3718, 'airport': 3719, 'gimmick': 3720, 'olli': 3721, 'romp': 3722, 'carradin': 3723, 'roth': 3724, 'mistress': 3725, 'martian': 3726, 'tonight': 3727, 'chess': 3728, 'oppress': 3729, 'slug': 3730, 'stilt': 3731, 'mislead': 3732, 'unpredict': 3733, 'shelley': 3734, 'pursuit': 3735, '1983': 3736, 'arguabl': 3737, 'preach': 3738, 'tackl': 3739, 'taught': 3740, 'attorney': 3741, 'dazzl': 3742, 'slash': 3743, 'heal': 3744, 'champion': 3745, 'paltrow': 3746, 'programm': 3747, 'pervert': 3748, 'pervers': 3749, 'tooth': 3750, 'edgar': 3751, 'banal': 3752, 'melodi': 3753, 'belt': 3754, 'arc': 3755, 'rubi': 3756, 'employe': 3757, 'plight': 3758, 'tiresom': 3759, 'duval': 3760, 'chicken': 3761, 'vengeanc': 3762, 'graham': 3763, 'orang': 3764, 'raymond': 3765, 'passeng': 3766, 'franki': 3767, 'sensat': 3768, 'virginia': 3769, 'cleverli': 3770, 'maid': 3771, 'vocal': 3772, 'poem': 3773, 'uplift': 3774, 'gambl': 3775, 'closest': 3776, 'bela': 3777, 'mesmer': 3778, 'conneri': 3779, 'marti': 3780, 'dixon': 3781, 'pokemon': 3782, 'quarter': 3783, 'suffic': 3784, 'extens': 3785, 'paranoia': 3786, 'outing': 3787, 'profan': 3788, 'numb': 3789, 'monologu': 3790, 'giggl': 3791, 'whine': 3792, 'tube': 3793, 'bay': 3794, 'swallow': 3795, 'abraham': 3796, 'calm': 3797, 'habit': 3798, 'secretli': 3799, 'clone': 3800, 'engross': 3801, 'convincingli': 3802, 'sirk': 3803, 'gerard': 3804, '1968': 3805, 'climact': 3806, 'volum': 3807, 'mute': 3808, 'crystal': 3809, 'yawn': 3810, 'amitabh': 3811, 'scottish': 3812, 'lundgren': 3813, 'inject': 3814, 'iran': 3815, 'underst': 3816, 'nichola': 3817, 'plod': 3818, 'chicago': 3819, 'surpass': 3820, 'linger': 3821, 'taxi': 3822, 'richardson': 3823, 'spock': 3824, 'meander': 3825, 'abort': 3826, 'fed': 3827, 'junior': 3828, 'im': 3829, 'earl': 3830, 'backward': 3831, 'grotesqu': 3832, 'trend': 3833, 'septemb': 3834, 'expand': 3835, 'dispos': 3836, 'poetri': 3837, 'profess': 3838, 'frankenstein': 3839, 'austen': 3840, 'lowest': 3841, 'ethan': 3842, 'franci': 3843, 'bend': 3844, 'rant': 3845, 'eugen': 3846, 'mundan': 3847, 'descent': 3848, 'rubber': 3849, 'sue': 3850, 'myth': 3851, 'lure': 3852, 'tourist': 3853, 'stallon': 3854, 'dysfunct': 3855, 'econom': 3856, 'muddl': 3857, 'spoke': 3858, 'hum': 3859, 'household': 3860, 'catchi': 3861, 'cannon': 3862, 'compliment': 3863, 'greedi': 3864, 'literatur': 3865, 'waitress': 3866, 'instrument': 3867, 'simplic': 3868, 'nostalgia': 3869, 'der': 3870, 'flee': 3871, 'dictat': 3872, 'insur': 3873, 'alongsid': 3874, 'eaten': 3875, 'coast': 3876, 'duck': 3877, 'recognit': 3878, 'hello': 3879, 'cent': 3880, 'occupi': 3881, 'phoni': 3882, 'molli': 3883, 'furi': 3884, 'stale': 3885, 'deaf': 3886, 'firstli': 3887, 'crucial': 3888, 'louis': 3889, 'mankind': 3890, 'randi': 3891, 'equival': 3892, 'mortal': 3893, 'bacal': 3894, 'dement': 3895, 'recognis': 3896, 'map': 3897, 'sissi': 3898, 'damon': 3899, 'lang': 3900, 'irrelev': 3901, 'june': 3902, 'omen': 3903, 'phantom': 3904, 'carel': 3905, 'ashley': 3906, 'lengthi': 3907, 'distinguish': 3908, 'blackmail': 3909, 'drake': 3910, 'bike': 3911, 'bump': 3912, 'dreari': 3913, 'newli': 3914, 'heel': 3915, 'damm': 3916, 'loyalti': 3917, 'daisi': 3918, 'labor': 3919, 'likewis': 3920, 'rooney': 3921, 'reign': 3922, 'onlin': 3923, 'grayson': 3924, 'rude': 3925, '1973': 3926, 'freez': 3927, 'buffalo': 3928, 'wisdom': 3929, 'antwon': 3930, 'cyborg': 3931, 'biko': 3932, 'twilight': 3933, 'nineti': 3934, 'baddi': 3935, 'exposur': 3936, 'unorigin': 3937, 'boxer': 3938, 'attribut': 3939, 'proce': 3940, 'tunnel': 3941, 'approv': 3942, 'emphas': 3943, 'vein': 3944, 'interior': 3945, 'worn': 3946, 'startl': 3947, 'ridden': 3948, 'analysi': 3949, 'basketbal': 3950, 'chronicl': 3951, 'prey': 3952, 'butler': 3953, 'keith': 3954, 'barrymor': 3955, 'provoc': 3956, 'pink': 3957, 'incorpor': 3958, 'sailor': 3959, 'inher': 3960, 'drift': 3961, 'nicol': 3962, 'mormon': 3963, 'barrel': 3964, 'meyer': 3965, 'predat': 3966, 'millionair': 3967, 'robbin': 3968, 'condemn': 3969, 'indiffer': 3970, 'carla': 3971, 'simmon': 3972, 'substitut': 3973, 'underli': 3974, 'julian': 3975, 'belushi': 3976, 'fleet': 3977, 'elm': 3978, 'undeni': 3979, 'hypnot': 3980, 'othello': 3981, 'mighti': 3982, 'meg': 3983, 'er': 3984, 'improvis': 3985, 'walsh': 3986, 'stalker': 3987, 'unrel': 3988, 'degrad': 3989, 'bunni': 3990, 'hay': 3991, 'roof': 3992, 'watson': 3993, 'disord': 3994, 'warmth': 3995, 'edgi': 3996, 'greed': 3997, 'mtv': 3998, 'nyc': 3999, 'novak': 4000, 'lampoon': 4001, 'exquisit': 4002, 'palac': 4003, 'errol': 4004, 'priceless': 4005, 'shove': 4006, 'agenda': 4007, 'vital': 4008, 'unawar': 4009, 'alarm': 4010, 'enthusiasm': 4011, 'firm': 4012, 'marion': 4013, '3d': 4014, 'alison': 4015, 'reid': 4016, 'rukh': 4017, 'dolph': 4018, 'angela': 4019, 'showdown': 4020, 'sergeant': 4021, 'iraq': 4022, '13th': 4023, 'ponder': 4024, 'glanc': 4025, 'nun': 4026, 'session': 4027, 'campaign': 4028, 'cassidi': 4029, 'peck': 4030, 'simultan': 4031, 'unleash': 4032, 'gestur': 4033, 'coup': 4034, 'randomli': 4035, 'israel': 4036, 'pamela': 4037, 'spain': 4038, 'testament': 4039, 'what': 4040, 'petti': 4041, 'peril': 4042, 'minimum': 4043, 'drip': 4044, 'beatl': 4045, 'orlean': 4046, 'championship': 4047, 'thompson': 4048, '1933': 4049, 'profit': 4050, 'crown': 4051, 'eastern': 4052, 'distort': 4053, 'preserv': 4054, 'valentin': 4055, 'zizek': 4056, 'rout': 4057, 'scotland': 4058, 'exposit': 4059, 'unimagin': 4060, 'contradict': 4061, 'cream': 4062, 'gentleman': 4063, '1984': 4064, 'bro': 4065, 'buster': 4066, 'restrain': 4067, 'brenda': 4068, 'stake': 4069, 'miyazaki': 4070, 'sabrina': 4071, 'valley': 4072, 'empathi': 4073, 'mon': 4074, 'fido': 4075, 'crawl': 4076, 'climat': 4077, 'han': 4078, 'cooki': 4079, 'regist': 4080, 'travesti': 4081, 'crow': 4082, 'perpetu': 4083, 'reson': 4084, 'realm': 4085, 'quinn': 4086, 'wig': 4087, 'stroke': 4088, 'jan': 4089, 'calib': 4090, 'represent': 4091, 'kurosawa': 4092, 'shootout': 4093, 'din': 4094, 'distress': 4095, 'passabl': 4096, 'tacki': 4097, 'shoddi': 4098, 'pretens': 4099, 'dana': 4100, 'delic': 4101, 'josh': 4102, 'traumat': 4103, 'derang': 4104, 'perceiv': 4105, 'compromis': 4106, 'censor': 4107, 'sammi': 4108, 'geek': 4109, 'demis': 4110, '1997': 4111, 'monoton': 4112, 'unseen': 4113, 'crawford': 4114, 'shaki': 4115, 'fuller': 4116, 'greg': 4117, 'spacey': 4118, 'pole': 4119, 'wax': 4120, 'cloud': 4121, 'femm': 4122, 'baldwin': 4123, 'ustinov': 4124, '1987': 4125, 'abomin': 4126, 'unsatisfi': 4127, 'meryl': 4128, 'sucker': 4129, 'ross': 4130, 'painter': 4131, 'warrant': 4132, 'mclaglen': 4133, 'businessman': 4134, 'absent': 4135, 'darren': 4136, 'soderbergh': 4137, 'stargat': 4138, 'jewel': 4139, 'click': 4140, 'fenc': 4141, 'dee': 4142, 'clash': 4143, 'tarantino': 4144, 'deceas': 4145, 'uncov': 4146, 'furiou': 4147, 'reluct': 4148, 'exclus': 4149, 'norm': 4150, 'accuraci': 4151, 'correctli': 4152, 'sid': 4153, 'wholli': 4154, 'nathan': 4155, 'austin': 4156, 'polici': 4157, 'primit': 4158, 'judgment': 4159, 'fog': 4160, 'tech': 4161, 'valid': 4162, 'seal': 4163, 'verbal': 4164, '1993': 4165, 'anchor': 4166, 'deniro': 4167, 'unravel': 4168, 'expedit': 4169, 'antonioni': 4170, 'kumar': 4171, 'nicola': 4172, 'pocket': 4173, 'fart': 4174, 'dreck': 4175, 'mode': 4176, 'unfair': 4177, 'alec': 4178, 'logan': 4179, 'fought': 4180, 'sheet': 4181, 'behold': 4182, 'bake': 4183, 'sand': 4184, 'slam': 4185, 'roller': 4186, 'conduct': 4187, 'tax': 4188, 'ritual': 4189, 'debt': 4190, 'joel': 4191, 'wretch': 4192, 'murray': 4193, '2008': 4194, 'darn': 4195, 'temper': 4196, '1971': 4197, 'clerk': 4198, 'malon': 4199, 'trait': 4200, 'patienc': 4201, 'vanc': 4202, 'seldom': 4203, '1995': 4204, 'sustain': 4205, '3000': 4206, 'wang': 4207, 'crippl': 4208, 'enforc': 4209, 'hallucin': 4210, 'fabric': 4211, 'sunni': 4212, 'shanghai': 4213, 'canyon': 4214, 'sweep': 4215, 'phil': 4216, 'runner': 4217, 'fundament': 4218, 'helpless': 4219, 'legaci': 4220, 'shell': 4221, 'bias': 4222, 'robber': 4223, 'critiqu': 4224, 'squad': 4225, 'despis': 4226, 'stark': 4227, 'scriptwrit': 4228, 'penni': 4229, 'soup': 4230, 'preposter': 4231, 'isabel': 4232, 'conscious': 4233, 'grief': 4234, 'stuart': 4235, 'preston': 4236, 'tactic': 4237, 'divid': 4238, 'schedul': 4239, 'pete': 4240, 'technicolor': 4241, 'exhaust': 4242, 'bridget': 4243, 'guitar': 4244, 'outlin': 4245, 'clau': 4246, 'rita': 4247, 'alley': 4248, 'restrict': 4249, 'alicia': 4250, 'newman': 4251, 'delv': 4252, 'downey': 4253, 'lacklust': 4254, 'inabl': 4255, 'cigarett': 4256, 'invad': 4257, 'kansa': 4258, 'propos': 4259, 'marc': 4260, 'drove': 4261, 'flair': 4262, 'unexpectedli': 4263, 'agenc': 4264, 'liberti': 4265, 'sugar': 4266, 'bloom': 4267, 'connor': 4268, 'passag': 4269, 'implic': 4270, 'boyl': 4271, 'palanc': 4272, 'gregori': 4273, 'sniper': 4274, 'consciou': 4275, 'rehash': 4276, 'russia': 4277, 'rear': 4278, 'jacket': 4279, 'culmin': 4280, 'vomit': 4281, 'sentinel': 4282, 'jodi': 4283, 'lush': 4284, 'feat': 4285, '1936': 4286, 'delet': 4287, 'improb': 4288, 'behaviour': 4289, 'arrow': 4290, 'karl': 4291, 'horn': 4292, 'asylum': 4293, 'pale': 4294, 'rampag': 4295, 'tripe': 4296, 'sharon': 4297, 'rehears': 4298, 'rod': 4299, 'vet': 4300, 'cap': 4301, 'aesthet': 4302, 'mccoy': 4303, 'ladder': 4304, 'foxx': 4305, 'bacon': 4306, 'chainsaw': 4307, '22': 4308, 'wrench': 4309, 'tendenc': 4310, 'awhil': 4311, 'kolchak': 4312, 'yeti': 4313, 'paradis': 4314, 'financ': 4315, 'scoop': 4316, 'minu': 4317, 'wagner': 4318, 'hungri': 4319, 'newcom': 4320, 'prank': 4321, 'weav': 4322, 'coaster': 4323, 'filler': 4324, 'underneath': 4325, 'shortcom': 4326, 'fright': 4327, 'sung': 4328, 'globe': 4329, 'loneli': 4330, 'wildli': 4331, '1978': 4332, 'spice': 4333, 'suffici': 4334, 'tasteless': 4335, '19th': 4336, 'conscienc': 4337, 'lurk': 4338, '1920': 4339, 'elit': 4340, 'stream': 4341, 'thunderbird': 4342, '1988': 4343, 'aristocrat': 4344, 'rumor': 4345, 'amazon': 4346, 'tomorrow': 4347, 'hulk': 4348, 'suspicion': 4349, 'paramount': 4350, 'hackney': 4351, 'el': 4352, 'rhythm': 4353, 'visitor': 4354, 'basing': 4355, 'beverli': 4356, '75': 4357, 'brit': 4358, 'standout': 4359, 'heist': 4360, 'bread': 4361, 'hopkin': 4362, 'ingeni': 4363, 'entranc': 4364, 'leigh': 4365, 'straightforward': 4366, 'penn': 4367, 'inmat': 4368, 'springer': 4369, 'couch': 4370, 'choppi': 4371, 'literari': 4372, 'dirt': 4373, 'en': 4374, 'secondari': 4375, 'impos': 4376, 'counterpart': 4377, 'abrupt': 4378, 'recogniz': 4379, 'quietli': 4380, 'chavez': 4381, 'grudg': 4382, 'worship': 4383, 'naughti': 4384, 'paxton': 4385, '1939': 4386, 'teas': 4387, '1989': 4388, 'immers': 4389, 'posey': 4390, 'cancer': 4391, 'wwe': 4392, 'ram': 4393, 'rub': 4394, 'atroc': 4395, 'smell': 4396, 'lectur': 4397, 'curli': 4398, 'iv': 4399, 'minist': 4400, 'tierney': 4401, 'chamberlain': 4402, 'missil': 4403, 'cattl': 4404, 'sassi': 4405, 'injuri': 4406, 'watcher': 4407, 'transcend': 4408, 'entitl': 4409, 'attenborough': 4410, 'laurenc': 4411, '1986': 4412, 'morbid': 4413, 'yearn': 4414, 'lindsay': 4415, 'moreov': 4416, 'misguid': 4417, 'convert': 4418, 'variat': 4419, 'heartfelt': 4420, 'esther': 4421, 'quaid': 4422, 'duel': 4423, 'enthral': 4424, 'nemesi': 4425, 'clan': 4426, 'ace': 4427, 'bernard': 4428, 'policeman': 4429, 'nolan': 4430, 'net': 4431, 'skeptic': 4432, 'sublim': 4433, 'ratso': 4434, 'geni': 4435, 'hopelessli': 4436, 'brood': 4437, '1979': 4438, 'tyler': 4439, 'out': 4440, 'buzz': 4441, 'rosemari': 4442, 'spiral': 4443, 'characteris': 4444, 'hk': 4445, 'uncut': 4446, 'cruelti': 4447, 'egg': 4448, 'dont': 4449, 'facil': 4450, 'vader': 4451, 'bean': 4452, 'mytholog': 4453, 'artsi': 4454, 'obstacl': 4455, 'puppi': 4456, 'graini': 4457, 'poe': 4458, 'bye': 4459, 'grin': 4460, 'setup': 4461, 'kidman': 4462, 'unexplain': 4463, 'enabl': 4464, 'carlito': 4465, 'diari': 4466, 'kitti': 4467, 'reliabl': 4468, 'steadi': 4469, 'youngest': 4470, 'moder': 4471, 'bounc': 4472, 'narrow': 4473, 'gillian': 4474, 'despic': 4475, 'underworld': 4476, 'patricia': 4477, 'christin': 4478, 'bronson': 4479, 'clueless': 4480, 'acquaint': 4481, 'hammi': 4482, 'weather': 4483, 'kline': 4484, 'effici': 4485, 'heap': 4486, 'disastr': 4487, 'baffl': 4488, 'hain': 4489, 'oblig': 4490, 'martha': 4491, 'exterior': 4492, 'athlet': 4493, 'gina': 4494, 'fuel': 4495, 'brendan': 4496, 'sweat': 4497, '1969': 4498, 'spontan': 4499, 'bewar': 4500, 'decept': 4501, 'niec': 4502, 'preming': 4503, 'fontain': 4504, 'mayhem': 4505, '73': 4506, 'uh': 4507, 'headach': 4508, 'analyz': 4509, 'biker': 4510, 'goof': 4511, 'viewpoint': 4512, 'loi': 4513, 'lester': 4514, 'angst': 4515, 'sooner': 4516, 'harmless': 4517, 'tick': 4518, 'scar': 4519, 'rome': 4520, 'sleepwalk': 4521, 'astound': 4522, 'preachi': 4523, 'outlaw': 4524, 'taboo': 4525, 'circu': 4526, 'enlist': 4527, 'insipid': 4528, 'suprem': 4529, 'dilemma': 4530, 'hepburn': 4531, 'candl': 4532, 'shatter': 4533, 'injur': 4534, 'trigger': 4535, 'loath': 4536, 'virtu': 4537, 'dandi': 4538, 'housewif': 4539, '19': 4540, 'mermaid': 4541, 'renaiss': 4542, 'sox': 4543, 'guin': 4544, 'macho': 4545, 'spade': 4546, 'immatur': 4547, 'boston': 4548, 'redund': 4549, 'contempt': 4550, 'dismal': 4551, 'ebert': 4552, 'zoom': 4553, 'slimi': 4554, 'steer': 4555, 'idol': 4556, 'phenomenon': 4557, 'stair': 4558, 'foolish': 4559, 'overlong': 4560, 'fluff': 4561, 'hokey': 4562, 'camcord': 4563, 'claustrophob': 4564, 'surgeri': 4565, 'corbett': 4566, 'amor': 4567, 'scorses': 4568, 'tripl': 4569, 'hooker': 4570, 'cassavet': 4571, 'salt': 4572, 'filth': 4573, 'intric': 4574, 'stimul': 4575, 'whore': 4576, 'oldest': 4577, 'hostag': 4578, 'glorifi': 4579, 'dish': 4580, 'bent': 4581, 'gere': 4582, 'ariel': 4583, 'corman': 4584, 'mount': 4585, 'schlock': 4586, 'cush': 4587, 'widescreen': 4588, '1976': 4589, 'spree': 4590, 'strongest': 4591, 'alvin': 4592, 'joker': 4593, 'flag': 4594, '1981': 4595, 'flashi': 4596, 'messi': 4597, 'muscl': 4598, 'conquer': 4599, 'trivia': 4600, 'faint': 4601, 'margin': 4602, 'nolt': 4603, 'cow': 4604, 'obligatori': 4605, 'radiat': 4606, 'shield': 4607, 'spinal': 4608, 'remad': 4609, 'frantic': 4610, 'antagonist': 4611, 'harold': 4612, 'flirt': 4613, 'proport': 4614, 'gabl': 4615, 'perman': 4616, 'dwarf': 4617, 'down': 4618, 'assert': 4619, 'astronaut': 4620, 'rhyme': 4621, 'shred': 4622, 'cohen': 4623, 'keen': 4624, 'mutual': 4625, 'transplant': 4626, 'gasp': 4627, 'beard': 4628, 'preced': 4629, 'fascist': 4630, 'zane': 4631, 'naschi': 4632, 'wield': 4633, 'divin': 4634, 'resum': 4635, 'neurot': 4636, 'discern': 4637, 'sensual': 4638, 'instruct': 4639, 'bachelor': 4640, 'off': 4641, 'fishburn': 4642, 'mobil': 4643, 'hara': 4644, 'aborigin': 4645, 'claud': 4646, 'archiv': 4647, 'www': 4648, 'repris': 4649, '28': 4650, 'someday': 4651, 'carey': 4652, '1945': 4653, 'boob': 4654, 'danish': 4655, 'flock': 4656, 'bitten': 4657, 'inflict': 4658, 'barn': 4659, 'interestingli': 4660, 'info': 4661, 'vaniti': 4662, 'mol': 4663, 'triangl': 4664, 'deer': 4665, 'brush': 4666, 'departur': 4667, 'strive': 4668, 'scandal': 4669, 'persuad': 4670, '95': 4671, 'ritchi': 4672, 'raj': 4673, 'cher': 4674, 'vibrant': 4675, 'ish': 4676, 'harrison': 4677, 'rot': 4678, 'pacif': 4679, 'prophet': 4680, 'cb': 4681, 'melissa': 4682, 'axe': 4683, 'clad': 4684, 'wendigo': 4685, 'dylan': 4686, 'biblic': 4687, 'helm': 4688, 'dim': 4689, 'undermin': 4690, 'jade': 4691, 'hapless': 4692, 'miracul': 4693, 'europa': 4694, 'cliffhang': 4695, 'proclaim': 4696, 'pickford': 4697, 'colin': 4698, 'dame': 4699, 'banter': 4700, 'loretta': 4701, 'hilar': 4702, 'artwork': 4703, 'senior': 4704, 'cycl': 4705, 'recit': 4706, 'bate': 4707, 'mobster': 4708, 'traffic': 4709, 'kathryn': 4710, 'earnest': 4711, 'carlo': 4712, 'pixar': 4713, 'timberlak': 4714, 'submit': 4715, 'parson': 4716, 'heartwarm': 4717, 'fragil': 4718, 'frontier': 4719, 'casino': 4720, 'anton': 4721, 'hug': 4722, 'luka': 4723, 'neill': 4724, 'orphan': 4725, 'feast': 4726, 'foil': 4727, 'estrang': 4728, 'marlon': 4729, 'http': 4730, 'winchest': 4731, 'rooki': 4732, 'sicken': 4733, 'cerebr': 4734, 'alexandr': 4735, 'northern': 4736, 'misfortun': 4737, 'akin': 4738, 'articl': 4739, 'vile': 4740, 'token': 4741, 'blatantli': 4742, 'lui': 4743, 'shepherd': 4744, 'breakfast': 4745, 'legitim': 4746, 'seedi': 4747, 'flavor': 4748, 'pc': 4749, 'holocaust': 4750, 'redneck': 4751, 'mason': 4752, 'isra': 4753, 'razor': 4754, 'eli': 4755, 'antholog': 4756, 'choke': 4757, 'static': 4758, 'nope': 4759, 'bikini': 4760, 'venom': 4761, 'trier': 4762, 'toronto': 4763, 'jo': 4764, 'bondag': 4765, 'wardrob': 4766, 'lucil': 4767, 'electron': 4768, 'vanessa': 4769, 'aris': 4770, 'uma': 4771, 'mathieu': 4772, 'illus': 4773, 'jordan': 4774, 'milo': 4775, 'peer': 4776, 'tack': 4777, 'glare': 4778, 'gilbert': 4779, 'shorter': 4780, 'clinic': 4781, 'ceremoni': 4782, 'leather': 4783, 'fifth': 4784, 'retriev': 4785, 'knightley': 4786, 'magician': 4787, 'audrey': 4788, 'oppon': 4789, 'deem': 4790, 'highway': 4791, 'abund': 4792, 'linear': 4793, 'boyer': 4794, 'charlton': 4795, 'psych': 4796, 'outdat': 4797, 'affleck': 4798, 'disregard': 4799, 'ideolog': 4800, 'feminin': 4801, 'turd': 4802, 'nightclub': 4803, 'dudley': 4804, 'comprehend': 4805, 'smack': 4806, 'howl': 4807, 'cartoonish': 4808, 'frog': 4809, 'styliz': 4810, 'swept': 4811, 'huston': 4812, 'gunga': 4813, 'wrestler': 4814, 'phenomen': 4815, 'lighter': 4816, 'bastard': 4817, 'potter': 4818, 'chip': 4819, 'conrad': 4820, 'collector': 4821, 'breakdown': 4822, 'lifeless': 4823, 'senat': 4824, 'monument': 4825, 'newer': 4826, 'whack': 4827, 'uniformli': 4828, 'durat': 4829, '1991': 4830, 'lavish': 4831, 'toe': 4832, '1994': 4833, 'moe': 4834, 'greet': 4835, 'energet': 4836, 'summar': 4837, 'boo': 4838, 'corn': 4839, 'salman': 4840, 'compris': 4841, 'mitch': 4842, 'btw': 4843, 'snatch': 4844, 'tara': 4845, '4th': 4846, 'cuban': 4847, 'evolut': 4848, 'cemeteri': 4849, 'spine': 4850, 'einstein': 4851, 'goldsworthi': 4852, 'sleaz': 4853, 'plate': 4854, 'client': 4855, 'bogu': 4856, 'deliver': 4857, 'braveheart': 4858, 'spawn': 4859, 'judd': 4860, 'fluid': 4861, 'historian': 4862, 'creek': 4863, 'neatli': 4864, 'ol': 4865, '1977': 4866, 'jam': 4867, 'clara': 4868, 'outright': 4869, 'cecil': 4870, 'firmli': 4871, 'constitut': 4872, 'wtf': 4873, 'inaccuraci': 4874, 'jedi': 4875, '1974': 4876, 'sorrow': 4877, 'replay': 4878, 'embark': 4879, 'kazan': 4880, 'nina': 4881, 'appl': 4882, 'lex': 4883, 'alleg': 4884, 'eleven': 4885, 'jare': 4886, 'bulk': 4887, 'pronounc': 4888, 'signal': 4889, 'trauma': 4890, 'kent': 4891, 'capot': 4892, 'gilliam': 4893, 'belli': 4894, 'ie': 4895, 'liu': 4896, 'occup': 4897, 'luxuri': 4898, 'mcqueen': 4899, 'undertak': 4900, 'jule': 4901, 'spectacl': 4902, 'evelyn': 4903, 'undead': 4904, 'healthi': 4905, 'bori': 4906, 'randolph': 4907, 'armstrong': 4908, 'ash': 4909, 'groan': 4910, 'genet': 4911, 'unsuspect': 4912, 'aussi': 4913, 'poker': 4914, 'truman': 4915, 'goldblum': 4916, 'miami': 4917, 'meal': 4918, '1985': 4919, 'vignett': 4920, 'forgiven': 4921, 'unattract': 4922, 'knee': 4923, 'walt': 4924, 'porter': 4925, 'antonio': 4926, 'pepper': 4927, 'relentless': 4928, 'abound': 4929, 'decapit': 4930, 'galaxi': 4931, 'spray': 4932, 'cape': 4933, 'sacrif': 4934, 'sidewalk': 4935, 'congratul': 4936, 'pioneer': 4937, 'tokyo': 4938, 'bait': 4939, 'id': 4940, 'carmen': 4941, 'palm': 4942, 'fruit': 4943, 'lanc': 4944, 'conan': 4945, 'kiddi': 4946, 'rosario': 4947, 'inclus': 4948, 'curtain': 4949, 'lauren': 4950, 'mum': 4951, 'inaccur': 4952, 'vain': 4953, 'roar': 4954, 'subtli': 4955, 'comb': 4956, 'blur': 4957, 'miniseri': 4958, 'comprehens': 4959, 'basket': 4960, 'paula': 4961, 'bsg': 4962, 'propheci': 4963, 'sophi': 4964, 'evan': 4965, 'epitom': 4966, 'assort': 4967, 'optimist': 4968, 'modest': 4969, 'mice': 4970, 'hostil': 4971, 'ghetto': 4972, 'victorian': 4973, 'dubiou': 4974, 'weari': 4975, 'verg': 4976, 'drone': 4977, 'growth': 4978, 'weaker': 4979, 'scariest': 4980, 'cypher': 4981, 'monti': 4982, 'incorrect': 4983, '21st': 4984, 'hackman': 4985, 'detach': 4986, 'ingrid': 4987, 'macabr': 4988, 'motorcycl': 4989, 'profil': 4990, 'masterson': 4991, 'playboy': 4992, 'vastli': 4993, 'scarfac': 4994, 'handicap': 4995, 'spill': 4996, 'omin': 4997, 'jill': 4998, 'sparkl': 4999}\n"
     ]
    }
   ],
   "source": [
    "print(word_dict)"
   ]
  },
  {
   "cell_type": "markdown",
   "metadata": {},
   "source": [
    "**Question:** What are the five most frequently appearing (tokenized) words in the training set? Does it makes sense that these words appear frequently in the training set?"
   ]
  },
  {
   "cell_type": "markdown",
   "metadata": {},
   "source": [
    "**Answer:**"
   ]
  },
  {
   "cell_type": "code",
   "execution_count": 19,
   "metadata": {},
   "outputs": [
    {
     "name": "stdout",
     "output_type": "stream",
     "text": [
      "The 20 most common words in reviews are:  [('movi', 51695), ('film', 48190), ('one', 27741), ('like', 22799), ('time', 16191), ('good', 15360), ('make', 15207), ('charact', 14178), ('get', 14141), ('see', 14111), ('watch', 13940), ('stori', 13168), ('even', 12906), ('would', 12436), ('realli', 11736), ('well', 11042), ('scene', 10586), ('look', 10051), ('show', 9878), ('much', 9765)]\n"
     ]
    }
   ],
   "source": [
    "# TODO: Use this space to determine the five most frequently appearing words in the training set.\n",
    "word_count = get_word_count(train_X)\n",
    "sorted_words = [(v[0], v[1]) for v in sorted(word_count.items(), key=lambda kv: kv[1], reverse=True)]                \n",
    "print(\"The 20 most common words in reviews are: \", sorted_words[:20])"
   ]
  },
  {
   "cell_type": "markdown",
   "metadata": {},
   "source": [
    "### Save `word_dict`\n",
    "\n",
    "Later on when we construct an endpoint which processes a submitted review we will need to make use of the `word_dict` which we have created. As such, we will save it to a file now for future use."
   ]
  },
  {
   "cell_type": "code",
   "execution_count": 20,
   "metadata": {},
   "outputs": [],
   "source": [
    "data_dir = '../data/pytorch' # The folder we will use for storing data\n",
    "if not os.path.exists(data_dir): # Make sure that the folder exists\n",
    "    os.makedirs(data_dir)"
   ]
  },
  {
   "cell_type": "code",
   "execution_count": 21,
   "metadata": {},
   "outputs": [],
   "source": [
    "with open(os.path.join(data_dir, 'word_dict.pkl'), \"wb\") as f:\n",
    "    pickle.dump(word_dict, f)"
   ]
  },
  {
   "cell_type": "markdown",
   "metadata": {},
   "source": [
    "### Transform the reviews\n",
    "\n",
    "Now that we have our word dictionary which allows us to transform the words appearing in the reviews into integers, it is time to make use of it and convert our reviews to their integer sequence representation, making sure to pad or truncate to a fixed length, which in our case is `500`."
   ]
  },
  {
   "cell_type": "code",
   "execution_count": 22,
   "metadata": {},
   "outputs": [],
   "source": [
    "def convert_and_pad(word_dict, sentence, pad=500):\n",
    "    NOWORD = 0 # We will use 0 to represent the 'no word' category\n",
    "    INFREQ = 1 # and we use 1 to represent the infrequent words, i.e., words not appearing in word_dict\n",
    "    \n",
    "    working_sentence = [NOWORD] * pad\n",
    "    \n",
    "    for word_index, word in enumerate(sentence[:pad]):\n",
    "        if word in word_dict:\n",
    "            working_sentence[word_index] = word_dict[word]\n",
    "        else:\n",
    "            working_sentence[word_index] = INFREQ\n",
    "            \n",
    "    return working_sentence, min(len(sentence), pad)\n",
    "\n",
    "def convert_and_pad_data(word_dict, data, pad=500):\n",
    "    result = []\n",
    "    lengths = []\n",
    "    \n",
    "    for sentence in data:\n",
    "        converted, leng = convert_and_pad(word_dict, sentence, pad)\n",
    "        result.append(converted)\n",
    "        lengths.append(leng)\n",
    "        \n",
    "    return np.array(result), np.array(lengths)"
   ]
  },
  {
   "cell_type": "code",
   "execution_count": 23,
   "metadata": {},
   "outputs": [],
   "source": [
    "train_X, train_X_len = convert_and_pad_data(word_dict, train_X)\n",
    "test_X, test_X_len = convert_and_pad_data(word_dict, test_X)"
   ]
  },
  {
   "cell_type": "markdown",
   "metadata": {},
   "source": [
    "As a quick check to make sure that things are working as intended, check to see what one of the reviews in the training set looks like after having been processeed. Does this look reasonable? What is the length of a review in the training set?"
   ]
  },
  {
   "cell_type": "code",
   "execution_count": 24,
   "metadata": {},
   "outputs": [
    {
     "data": {
      "text/plain": [
       "array([1925,   67,    1,    1,    3,  674, 3185, 4411,  481, 1157, 1041,\n",
       "       3117,    1,    1,    1, 2315,    1,  162,  983, 3934,  426,  666,\n",
       "       1283,   22,    1, 1453,  145, 2585,  272,   17,  152,  377,    1,\n",
       "          3,    1, 2870,   88,  809,  418,    1, 1157, 1041, 4366, 1638,\n",
       "       1649,  154, 1163,  171, 1925,  238,  318,  567,  547,  139,  252,\n",
       "        938,  309,    3,   45, 1157, 1787,    1,    1,  349, 2010,  896,\n",
       "       2845,    1, 4255,  802,  319,    1, 2296,    1,  324, 2973,  351,\n",
       "         81,  124, 1296, 1222,  419, 2761, 1940,  463, 2060,    9,  371,\n",
       "        804, 2687,  230,   17,  152, 2027,  489,  377,  667,   22,   91,\n",
       "       1395, 2609, 2700, 1186, 1500,  746,  511,   51,  153,  265,   51,\n",
       "        784,  591, 2396,  675, 2884,    1,  431, 1682,  676,  136,   91,\n",
       "       2585,  272,    1,   19,   64,   49,   19,  376,  420,    1,  565,\n",
       "       1252,  129,  384, 1234,   13,  159,  400, 1719,  107,   89,    1,\n",
       "       2163,    1,  345,  621,  489, 2166,  610,    1,    1, 2928, 1837,\n",
       "          1,  288, 3612,  568, 2057,  418,    1, 1831, 1594,  183, 2196,\n",
       "        107,    1,   33, 4478, 4292,  301,   28,  285,   81,  411,    1,\n",
       "          1,  420,    1, 2130,  942,    1,  230,  568, 1453, 1719, 1480,\n",
       "         87, 1179,  294, 1693,    1,  219,  200,  418,    1, 3969,  107,\n",
       "        290,   49, 2938,   25, 1064, 1179,    1,    1,    1,  867, 1773,\n",
       "       2066, 2130,  418, 2590,  547,  295,   42,  377,    1, 4686, 2603,\n",
       "        227, 1674,    1, 1883,   57,   29,  122,   93, 1488,  156, 1315,\n",
       "         55,  422, 1422,   14,  934,  358, 1757, 1395,  370,    1,  492,\n",
       "       1991,  185,   56,  483,  328,  697,    5, 4687,    1,    1, 1433,\n",
       "         36, 2352,    1, 2609,    1,  219,    1,   75,    1,  715,  469,\n",
       "          1, 2995,   18, 2625,   64,  373,    1,  175,  170, 1679,  206,\n",
       "        667, 3155,  254, 1403,  640,  145, 2585,  272,    1,  243,    1,\n",
       "          1,    1,  345,  107,   55,  157, 3644, 1823,    1,   48,   69,\n",
       "       1080,   19,   48, 1015,  874,   34,   49, 1157, 1041,  614,  319,\n",
       "        368,   51, 1222,  350,    9,   86,  372, 4069,   13, 2953,  188,\n",
       "        720,   60, 3117, 1136,  227, 2435, 2011,  823,  195,  137,   18,\n",
       "        324,   80, 1522,    3,  209,  252,    0,    0,    0,    0,    0,\n",
       "          0,    0,    0,    0,    0,    0,    0,    0,    0,    0,    0,\n",
       "          0,    0,    0,    0,    0,    0,    0,    0,    0,    0,    0,\n",
       "          0,    0,    0,    0,    0,    0,    0,    0,    0,    0,    0,\n",
       "          0,    0,    0,    0,    0,    0,    0,    0,    0,    0,    0,\n",
       "          0,    0,    0,    0,    0,    0,    0,    0,    0,    0,    0,\n",
       "          0,    0,    0,    0,    0,    0,    0,    0,    0,    0,    0,\n",
       "          0,    0,    0,    0,    0,    0,    0,    0,    0,    0,    0,\n",
       "          0,    0,    0,    0,    0,    0,    0,    0,    0,    0,    0,\n",
       "          0,    0,    0,    0,    0,    0,    0,    0,    0,    0,    0,\n",
       "          0,    0,    0,    0,    0,    0,    0,    0,    0,    0,    0,\n",
       "          0,    0,    0,    0,    0,    0,    0,    0,    0,    0,    0,\n",
       "          0,    0,    0,    0,    0,    0,    0,    0,    0,    0,    0,\n",
       "          0,    0,    0,    0,    0,    0,    0,    0,    0,    0,    0,\n",
       "          0,    0,    0,    0,    0,    0,    0,    0,    0,    0,    0,\n",
       "          0,    0,    0,    0,    0])"
      ]
     },
     "execution_count": 24,
     "metadata": {},
     "output_type": "execute_result"
    }
   ],
   "source": [
    "# Use this cell to examine one of the processed reviews to make sure everything is working as intended.\n",
    "train_X[121]"
   ]
  },
  {
   "cell_type": "markdown",
   "metadata": {},
   "source": [
    "**Question:** In the cells above we use the `preprocess_data` and `convert_and_pad_data` methods to process both the training and testing set. Why or why not might this be a problem?"
   ]
  },
  {
   "cell_type": "markdown",
   "metadata": {},
   "source": [
    "**Answer:**\n",
    "\n",
    "To deal with both short and very long reviews, we can pad or truncate all the reviews to a specific length (in this case 500). \n",
    "For reviews shorter than 500 words, we'll pad with 0s. For reviews longer than 500, we truncate them to the first 500 words.\n"
   ]
  },
  {
   "cell_type": "markdown",
   "metadata": {},
   "source": [
    "## Step 3: Upload the data to S3\n",
    "\n",
    "As in the XGBoost notebook, we will need to upload the training dataset to S3 in order for our training code to access it. For now we will save it locally and we will upload to S3 later on.\n",
    "\n",
    "### Save the processed training dataset locally\n",
    "\n",
    "It is important to note the format of the data that we are saving as we will need to know it when we write the training code. In our case, each row of the dataset has the form `label`, `length`, `review[500]` where `review[500]` is a sequence of `500` integers representing the words in the review."
   ]
  },
  {
   "cell_type": "code",
   "execution_count": 25,
   "metadata": {},
   "outputs": [],
   "source": [
    "import pandas as pd\n",
    "    \n",
    "pd.concat([pd.DataFrame(train_y), pd.DataFrame(train_X_len), pd.DataFrame(train_X)], axis=1) \\\n",
    "        .to_csv(os.path.join(data_dir, 'train.csv'), header=False, index=False)"
   ]
  },
  {
   "cell_type": "markdown",
   "metadata": {},
   "source": [
    "### Uploading the training data\n",
    "\n",
    "\n",
    "Next, we need to upload the training data to the SageMaker default S3 bucket so that we can provide access to it while training our model."
   ]
  },
  {
   "cell_type": "code",
   "execution_count": 26,
   "metadata": {},
   "outputs": [
    {
     "name": "stderr",
     "output_type": "stream",
     "text": [
      "INFO:sagemaker:Created S3 bucket: sagemaker-us-east-1-739896841922\n"
     ]
    }
   ],
   "source": [
    "import sagemaker\n",
    "\n",
    "sagemaker_session = sagemaker.Session()\n",
    "\n",
    "bucket = sagemaker_session.default_bucket()\n",
    "prefix = 'sagemaker/sentiment_rnn'\n",
    "\n",
    "role = sagemaker.get_execution_role()"
   ]
  },
  {
   "cell_type": "code",
   "execution_count": 27,
   "metadata": {},
   "outputs": [],
   "source": [
    "input_data = sagemaker_session.upload_data(path=data_dir, bucket=bucket, key_prefix=prefix)"
   ]
  },
  {
   "cell_type": "markdown",
   "metadata": {},
   "source": [
    "**NOTE:** The cell above uploads the entire contents of our data directory. This includes the `word_dict.pkl` file. This is fortunate as we will need this later on when we create an endpoint that accepts an arbitrary review. For now, we will just take note of the fact that it resides in the data directory (and so also in the S3 training bucket) and that we will need to make sure it gets saved in the model directory."
   ]
  },
  {
   "cell_type": "markdown",
   "metadata": {},
   "source": [
    "## Step 4: Build and Train the PyTorch Model\n",
    "\n",
    "In the XGBoost notebook we discussed what a model is in the SageMaker framework. In particular, a model comprises three objects\n",
    "\n",
    " - Model Artifacts,\n",
    " - Training Code, and\n",
    " - Inference Code,\n",
    " \n",
    "each of which interact with one another. In the XGBoost example we used training and inference code that was provided by Amazon. Here we will still be using containers provided by Amazon with the added benefit of being able to include our own custom code.\n",
    "\n",
    "We will start by implementing our own neural network in PyTorch along with a training script. For the purposes of this project we have provided the necessary model object in the `model.py` file, inside of the `train` folder. You can see the provided implementation by running the cell below."
   ]
  },
  {
   "cell_type": "code",
   "execution_count": 28,
   "metadata": {},
   "outputs": [
    {
     "name": "stdout",
     "output_type": "stream",
     "text": [
      "\u001b[34mimport\u001b[39;49;00m \u001b[04m\u001b[36mtorch.nn\u001b[39;49;00m \u001b[34mas\u001b[39;49;00m \u001b[04m\u001b[36mnn\u001b[39;49;00m\r\n",
      "\r\n",
      "\u001b[34mclass\u001b[39;49;00m \u001b[04m\u001b[32mLSTMClassifier\u001b[39;49;00m(nn.Module):\r\n",
      "    \u001b[33m\"\"\"\u001b[39;49;00m\r\n",
      "\u001b[33m    This is the simple RNN model we will be using to perform Sentiment Analysis.\u001b[39;49;00m\r\n",
      "\u001b[33m    \"\"\"\u001b[39;49;00m\r\n",
      "\r\n",
      "    \u001b[34mdef\u001b[39;49;00m \u001b[32m__init__\u001b[39;49;00m(\u001b[36mself\u001b[39;49;00m, embedding_dim, hidden_dim, vocab_size):\r\n",
      "        \u001b[33m\"\"\"\u001b[39;49;00m\r\n",
      "\u001b[33m        Initialize the model by settingg up the various layers.\u001b[39;49;00m\r\n",
      "\u001b[33m        \"\"\"\u001b[39;49;00m\r\n",
      "        \u001b[36msuper\u001b[39;49;00m(LSTMClassifier, \u001b[36mself\u001b[39;49;00m).\u001b[32m__init__\u001b[39;49;00m()\r\n",
      "\r\n",
      "        \u001b[36mself\u001b[39;49;00m.embedding = nn.Embedding(vocab_size, embedding_dim, padding_idx=\u001b[34m0\u001b[39;49;00m)\r\n",
      "        \u001b[36mself\u001b[39;49;00m.lstm = nn.LSTM(embedding_dim, hidden_dim)\r\n",
      "        \u001b[36mself\u001b[39;49;00m.dense = nn.Linear(in_features=hidden_dim, out_features=\u001b[34m1\u001b[39;49;00m)\r\n",
      "        \u001b[36mself\u001b[39;49;00m.sig = nn.Sigmoid()\r\n",
      "        \r\n",
      "        \u001b[36mself\u001b[39;49;00m.word_dict = \u001b[36mNone\u001b[39;49;00m\r\n",
      "\r\n",
      "    \u001b[34mdef\u001b[39;49;00m \u001b[32mforward\u001b[39;49;00m(\u001b[36mself\u001b[39;49;00m, x):\r\n",
      "        \u001b[33m\"\"\"\u001b[39;49;00m\r\n",
      "\u001b[33m        Perform a forward pass of our model on some input.\u001b[39;49;00m\r\n",
      "\u001b[33m        \"\"\"\u001b[39;49;00m\r\n",
      "        x = x.t()\r\n",
      "        lengths = x[\u001b[34m0\u001b[39;49;00m,:]\r\n",
      "        reviews = x[\u001b[34m1\u001b[39;49;00m:,:]\r\n",
      "        embeds = \u001b[36mself\u001b[39;49;00m.embedding(reviews)\r\n",
      "        lstm_out, _ = \u001b[36mself\u001b[39;49;00m.lstm(embeds)\r\n",
      "        out = \u001b[36mself\u001b[39;49;00m.dense(lstm_out)\r\n",
      "        out = out[lengths - \u001b[34m1\u001b[39;49;00m, \u001b[36mrange\u001b[39;49;00m(\u001b[36mlen\u001b[39;49;00m(lengths))]\r\n",
      "        \u001b[34mreturn\u001b[39;49;00m \u001b[36mself\u001b[39;49;00m.sig(out.squeeze())\r\n"
     ]
    }
   ],
   "source": [
    "!pygmentize train/model.py"
   ]
  },
  {
   "cell_type": "markdown",
   "metadata": {},
   "source": [
    "The important takeaway from the implementation provided is that there are three parameters that we may wish to tweak to improve the performance of our model. These are the embedding dimension, the hidden dimension and the size of the vocabulary. We will likely want to make these parameters configurable in the training script so that if we wish to modify them we do not need to modify the script itself. We will see how to do this later on. To start we will write some of the training code in the notebook so that we can more easily diagnose any issues that arise.\n",
    "\n",
    "First we will load a small portion of the training data set to use as a sample. It would be very time consuming to try and train the model completely in the notebook as we do not have access to a gpu and the compute instance that we are using is not particularly powerful. However, we can work on a small bit of the data to get a feel for how our training script is behaving."
   ]
  },
  {
   "cell_type": "code",
   "execution_count": 29,
   "metadata": {},
   "outputs": [],
   "source": [
    "import torch\n",
    "import torch.utils.data\n",
    "\n",
    "# Read in only the first 250 rows\n",
    "train_sample = pd.read_csv(os.path.join(data_dir, 'train.csv'), header=None, names=None, nrows=250)\n",
    "\n",
    "# Turn the input pandas dataframe into tensors\n",
    "train_sample_y = torch.from_numpy(train_sample[[0]].values).float().squeeze()\n",
    "train_sample_X = torch.from_numpy(train_sample.drop([0], axis=1).values).long()\n",
    "\n",
    "# Build the dataset\n",
    "train_sample_ds = torch.utils.data.TensorDataset(train_sample_X, train_sample_y)\n",
    "# Build the dataloader\n",
    "train_sample_dl = torch.utils.data.DataLoader(train_sample_ds, batch_size=50)"
   ]
  },
  {
   "cell_type": "markdown",
   "metadata": {},
   "source": [
    "### (TODO) Writing the training method\n",
    "\n",
    "Next we need to write the training code itself. This should be very similar to training methods that you have written before to train PyTorch models. We will leave any difficult aspects such as model saving / loading and parameter loading until a little later."
   ]
  },
  {
   "cell_type": "code",
   "execution_count": 30,
   "metadata": {},
   "outputs": [],
   "source": [
    "def train(model, train_loader, epochs, optimizer, loss_fn, device):\n",
    "    for epoch in range(1, epochs + 1):\n",
    "        model.train()\n",
    "        total_loss = 0\n",
    "        for batch in train_loader:         \n",
    "            batch_X, batch_y = batch\n",
    "            \n",
    "            batch_X = batch_X.to(device)\n",
    "            batch_y = batch_y.to(device)\n",
    "            \n",
    "            # TODO: Complete this train method to train the model provided.\n",
    "            optimizer.zero_grad()\n",
    "            output = model.forward(batch_X)\n",
    "            loss = loss_fn(output, batch_y)\n",
    "            loss.backward()\n",
    "            \n",
    "            optimizer.step()\n",
    "            \n",
    "            total_loss += loss.data.item()\n",
    "        print(\"Epoch: {}, BCELoss: {}\".format(epoch, total_loss / len(train_loader)))"
   ]
  },
  {
   "cell_type": "markdown",
   "metadata": {},
   "source": [
    "Supposing we have the training method above, we will test that it is working by writing a bit of code in the notebook that executes our training method on the small sample training set that we loaded earlier. The reason for doing this in the notebook is so that we have an opportunity to fix any errors that arise early when they are easier to diagnose."
   ]
  },
  {
   "cell_type": "code",
   "execution_count": 31,
   "metadata": {},
   "outputs": [
    {
     "name": "stdout",
     "output_type": "stream",
     "text": [
      "Epoch: 1, BCELoss: 0.6924593806266784\n",
      "Epoch: 2, BCELoss: 0.6833741188049316\n",
      "Epoch: 3, BCELoss: 0.6753585457801818\n",
      "Epoch: 4, BCELoss: 0.6661368846893311\n",
      "Epoch: 5, BCELoss: 0.6541649222373962\n"
     ]
    }
   ],
   "source": [
    "import torch.optim as optim\n",
    "from train.model import LSTMClassifier\n",
    "\n",
    "device = torch.device(\"cuda\" if torch.cuda.is_available() else \"cpu\")\n",
    "model = LSTMClassifier(32, 100, 5000).to(device)\n",
    "optimizer = optim.Adam(model.parameters())\n",
    "loss_fn = torch.nn.BCELoss()\n",
    "\n",
    "train(model, train_sample_dl, 5, optimizer, loss_fn, device)"
   ]
  },
  {
   "cell_type": "markdown",
   "metadata": {},
   "source": [
    "In order to construct a PyTorch model using SageMaker we must provide SageMaker with a training script. We may optionally include a directory which will be copied to the container and from which our training code will be run. When the training container is executed it will check the uploaded directory (if there is one) for a `requirements.txt` file and install any required Python libraries, after which the training script will be run."
   ]
  },
  {
   "cell_type": "markdown",
   "metadata": {},
   "source": [
    "### (TODO) Training the model\n",
    "\n",
    "When a PyTorch model is constructed in SageMaker, an entry point must be specified. This is the Python file which will be executed when the model is trained. Inside of the `train` directory is a file called `train.py` which has been provided and which contains most of the necessary code to train our model. The only thing that is missing is the implementation of the `train()` method which you wrote earlier in this notebook.\n",
    "\n",
    "**TODO**: Copy the `train()` method written above and paste it into the `train/train.py` file where required.\n",
    "\n",
    "The way that SageMaker passes hyperparameters to the training script is by way of arguments. These arguments can then be parsed and used in the training script. To see how this is done take a look at the provided `train/train.py` file."
   ]
  },
  {
   "cell_type": "code",
   "execution_count": 32,
   "metadata": {},
   "outputs": [],
   "source": [
    "from sagemaker.pytorch import PyTorch\n",
    "\n",
    "estimator = PyTorch(entry_point=\"train.py\",\n",
    "                    source_dir=\"train\",\n",
    "                    role=role,\n",
    "                    framework_version='0.4.0',\n",
    "                    train_instance_count=1,\n",
    "                    train_instance_type='ml.p2.xlarge',\n",
    "                    hyperparameters={\n",
    "                        'epochs': 10,\n",
    "                        'hidden_dim': 200,\n",
    "                    })"
   ]
  },
  {
   "cell_type": "code",
   "execution_count": 33,
   "metadata": {},
   "outputs": [
    {
     "name": "stderr",
     "output_type": "stream",
     "text": [
      "INFO:sagemaker:Created S3 bucket: sagemaker-us-east-1-739896841922\n",
      "INFO:sagemaker:Creating training-job with name: sagemaker-pytorch-2018-12-22-20-12-15-880\n"
     ]
    },
    {
     "name": "stdout",
     "output_type": "stream",
     "text": [
      "2018-12-22 20:12:16 Starting - Starting the training job...\n",
      "2018-12-22 20:12:18 Starting - Launching requested ML instances......\n",
      "2018-12-22 20:13:19 Starting - Preparing the instances for training.........\n",
      "2018-12-22 20:15:10 Downloading - Downloading input data\n",
      "2018-12-22 20:15:10 Training - Downloading the training image...\n",
      "2018-12-22 20:15:35 Training - Training image download completed. Training in progress.\n",
      "\u001b[31mbash: cannot set terminal process group (-1): Inappropriate ioctl for device\u001b[0m\n",
      "\u001b[31mbash: no job control in this shell\u001b[0m\n",
      "\u001b[31m2018-12-22 20:15:36,330 sagemaker-containers INFO     Imported framework sagemaker_pytorch_container.training\u001b[0m\n",
      "\u001b[31m2018-12-22 20:15:36,357 sagemaker_pytorch_container.training INFO     Block until all host DNS lookups succeed.\u001b[0m\n",
      "\u001b[31m2018-12-22 20:15:36,367 sagemaker_pytorch_container.training INFO     Invoking user training script.\u001b[0m\n",
      "\u001b[31m2018-12-22 20:15:36,652 sagemaker-containers INFO     Module train does not provide a setup.py. \u001b[0m\n",
      "\u001b[31mGenerating setup.py\u001b[0m\n",
      "\u001b[31m2018-12-22 20:15:36,652 sagemaker-containers INFO     Generating setup.cfg\u001b[0m\n",
      "\u001b[31m2018-12-22 20:15:36,652 sagemaker-containers INFO     Generating MANIFEST.in\u001b[0m\n",
      "\u001b[31m2018-12-22 20:15:36,652 sagemaker-containers INFO     Installing module with the following command:\u001b[0m\n",
      "\u001b[31m/usr/bin/python -m pip install -U . -r requirements.txt\u001b[0m\n",
      "\u001b[31mProcessing /opt/ml/code\u001b[0m\n",
      "\u001b[31mCollecting pandas (from -r requirements.txt (line 1))\n",
      "  Downloading https://files.pythonhosted.org/packages/5d/d4/6e9c56a561f1d27407bf29318ca43f36ccaa289271b805a30034eb3a8ec4/pandas-0.23.4-cp35-cp35m-manylinux1_x86_64.whl (8.7MB)\u001b[0m\n",
      "\u001b[31mRequirement already up-to-date: numpy in /usr/local/lib/python3.5/dist-packages (from -r requirements.txt (line 2)) (1.15.4)\u001b[0m\n",
      "\u001b[31mCollecting nltk (from -r requirements.txt (line 3))\n",
      "  Downloading https://files.pythonhosted.org/packages/6f/ed/9c755d357d33bc1931e157f537721efb5b88d2c583fe593cc09603076cc3/nltk-3.4.zip (1.4MB)\u001b[0m\n",
      "\u001b[31mCollecting beautifulsoup4 (from -r requirements.txt (line 4))\n",
      "  Downloading https://files.pythonhosted.org/packages/21/0a/47fdf541c97fd9b6a610cb5fd518175308a7cc60569962e776ac52420387/beautifulsoup4-4.6.3-py3-none-any.whl (90kB)\u001b[0m\n",
      "\u001b[31mCollecting html5lib (from -r requirements.txt (line 5))\n",
      "  Downloading https://files.pythonhosted.org/packages/a5/62/bbd2be0e7943ec8504b517e62bab011b4946e1258842bc159e5dfde15b96/html5lib-1.0.1-py2.py3-none-any.whl (117kB)\u001b[0m\n",
      "\u001b[31mCollecting pytz>=2011k (from pandas->-r requirements.txt (line 1))\u001b[0m\n",
      "\u001b[31m  Downloading https://files.pythonhosted.org/packages/f8/0e/2365ddc010afb3d79147f1dd544e5ee24bf4ece58ab99b16fbb465ce6dc0/pytz-2018.7-py2.py3-none-any.whl (506kB)\u001b[0m\n",
      "\u001b[31mRequirement already satisfied, skipping upgrade: python-dateutil>=2.5.0 in /usr/local/lib/python3.5/dist-packages (from pandas->-r requirements.txt (line 1)) (2.7.5)\u001b[0m\n",
      "\u001b[31mRequirement already satisfied, skipping upgrade: six in /usr/local/lib/python3.5/dist-packages (from nltk->-r requirements.txt (line 3)) (1.11.0)\u001b[0m\n",
      "\u001b[31mCollecting singledispatch (from nltk->-r requirements.txt (line 3))\n",
      "  Downloading https://files.pythonhosted.org/packages/c5/10/369f50bcd4621b263927b0a1519987a04383d4a98fb10438042ad410cf88/singledispatch-3.4.0.3-py2.py3-none-any.whl\u001b[0m\n",
      "\u001b[31mCollecting webencodings (from html5lib->-r requirements.txt (line 5))\n",
      "  Downloading https://files.pythonhosted.org/packages/f4/24/2a3e3df732393fed8b3ebf2ec078f05546de641fe1b667ee316ec1dcf3b7/webencodings-0.5.1-py2.py3-none-any.whl\u001b[0m\n",
      "\u001b[31mBuilding wheels for collected packages: nltk, train\n",
      "  Running setup.py bdist_wheel for nltk: started\n",
      "  Running setup.py bdist_wheel for nltk: finished with status 'done'\n",
      "  Stored in directory: /root/.cache/pip/wheels/4b/c8/24/b2343664bcceb7147efeb21c0b23703a05b23fcfeaceaa2a1e\u001b[0m\n",
      "\u001b[31m  Running setup.py bdist_wheel for train: started\n",
      "  Running setup.py bdist_wheel for train: finished with status 'done'\n",
      "  Stored in directory: /tmp/pip-ephem-wheel-cache-ldbh1bey/wheels/35/24/16/37574d11bf9bde50616c67372a334f94fa8356bc7164af8ca3\u001b[0m\n",
      "\u001b[31mSuccessfully built nltk train\u001b[0m\n",
      "\u001b[31mInstalling collected packages: pytz, pandas, singledispatch, nltk, beautifulsoup4, webencodings, html5lib, train\u001b[0m\n",
      "\u001b[31mSuccessfully installed beautifulsoup4-4.6.3 html5lib-1.0.1 nltk-3.4 pandas-0.23.4 pytz-2018.7 singledispatch-3.4.0.3 train-1.0.0 webencodings-0.5.1\u001b[0m\n",
      "\u001b[31m2018-12-22 20:15:44,512 sagemaker-containers INFO     Invoking user script\n",
      "\u001b[0m\n",
      "\u001b[31mTraining Env:\n",
      "\u001b[0m\n",
      "\u001b[31m{\n",
      "    \"hosts\": [\n",
      "        \"algo-1\"\n",
      "    ],\n",
      "    \"output_dir\": \"/opt/ml/output\",\n",
      "    \"input_config_dir\": \"/opt/ml/input/config\",\n",
      "    \"channel_input_dirs\": {\n",
      "        \"training\": \"/opt/ml/input/data/training\"\n",
      "    },\n",
      "    \"log_level\": 20,\n",
      "    \"model_dir\": \"/opt/ml/model\",\n",
      "    \"current_host\": \"algo-1\",\n",
      "    \"resource_config\": {\n",
      "        \"network_interface_name\": \"ethwe\",\n",
      "        \"hosts\": [\n",
      "            \"algo-1\"\n",
      "        ],\n",
      "        \"current_host\": \"algo-1\"\n",
      "    },\n",
      "    \"job_name\": \"sagemaker-pytorch-2018-12-22-20-12-15-880\",\n",
      "    \"num_cpus\": 4,\n",
      "    \"user_entry_point\": \"train.py\",\n",
      "    \"input_data_config\": {\n",
      "        \"training\": {\n",
      "            \"S3DistributionType\": \"FullyReplicated\",\n",
      "            \"RecordWrapperType\": \"None\",\n",
      "            \"TrainingInputMode\": \"File\"\n",
      "        }\n",
      "    },\n",
      "    \"output_data_dir\": \"/opt/ml/output/data\",\n",
      "    \"module_dir\": \"s3://sagemaker-us-east-1-739896841922/sagemaker-pytorch-2018-12-22-20-12-15-880/source/sourcedir.tar.gz\",\n",
      "    \"module_name\": \"train\",\n",
      "    \"framework_module\": \"sagemaker_pytorch_container.training:main\",\n",
      "    \"input_dir\": \"/opt/ml/input\",\n",
      "    \"output_intermediate_dir\": \"/opt/ml/output/intermediate\",\n",
      "    \"num_gpus\": 1,\n",
      "    \"hyperparameters\": {\n",
      "        \"epochs\": 10,\n",
      "        \"hidden_dim\": 200\n",
      "    },\n",
      "    \"network_interface_name\": \"ethwe\",\n",
      "    \"additional_framework_parameters\": {}\u001b[0m\n",
      "\u001b[31m}\n",
      "\u001b[0m\n",
      "\u001b[31mEnvironment variables:\n",
      "\u001b[0m\n",
      "\u001b[31mSM_HOSTS=[\"algo-1\"]\u001b[0m\n",
      "\u001b[31mSM_LOG_LEVEL=20\u001b[0m\n",
      "\u001b[31mSM_CHANNELS=[\"training\"]\u001b[0m\n",
      "\u001b[31mSM_TRAINING_ENV={\"additional_framework_parameters\":{},\"channel_input_dirs\":{\"training\":\"/opt/ml/input/data/training\"},\"current_host\":\"algo-1\",\"framework_module\":\"sagemaker_pytorch_container.training:main\",\"hosts\":[\"algo-1\"],\"hyperparameters\":{\"epochs\":10,\"hidden_dim\":200},\"input_config_dir\":\"/opt/ml/input/config\",\"input_data_config\":{\"training\":{\"RecordWrapperType\":\"None\",\"S3DistributionType\":\"FullyReplicated\",\"TrainingInputMode\":\"File\"}},\"input_dir\":\"/opt/ml/input\",\"job_name\":\"sagemaker-pytorch-2018-12-22-20-12-15-880\",\"log_level\":20,\"model_dir\":\"/opt/ml/model\",\"module_dir\":\"s3://sagemaker-us-east-1-739896841922/sagemaker-pytorch-2018-12-22-20-12-15-880/source/sourcedir.tar.gz\",\"module_name\":\"train\",\"network_interface_name\":\"ethwe\",\"num_cpus\":4,\"num_gpus\":1,\"output_data_dir\":\"/opt/ml/output/data\",\"output_dir\":\"/opt/ml/output\",\"output_intermediate_dir\":\"/opt/ml/output/intermediate\",\"resource_config\":{\"current_host\":\"algo-1\",\"hosts\":[\"algo-1\"],\"network_interface_name\":\"ethwe\"},\"user_entry_point\":\"train.py\"}\u001b[0m\n",
      "\u001b[31mSM_HP_EPOCHS=10\u001b[0m\n",
      "\u001b[31mSM_OUTPUT_DATA_DIR=/opt/ml/output/data\u001b[0m\n",
      "\u001b[31mSM_USER_ENTRY_POINT=train.py\u001b[0m\n",
      "\u001b[31mSM_MODULE_DIR=s3://sagemaker-us-east-1-739896841922/sagemaker-pytorch-2018-12-22-20-12-15-880/source/sourcedir.tar.gz\u001b[0m\n",
      "\u001b[31mPYTHONPATH=/usr/local/bin:/usr/lib/python35.zip:/usr/lib/python3.5:/usr/lib/python3.5/plat-x86_64-linux-gnu:/usr/lib/python3.5/lib-dynload:/usr/local/lib/python3.5/dist-packages:/usr/lib/python3/dist-packages\u001b[0m\n",
      "\u001b[31mSM_FRAMEWORK_PARAMS={}\u001b[0m\n",
      "\u001b[31mSM_NETWORK_INTERFACE_NAME=ethwe\u001b[0m\n",
      "\u001b[31mSM_NUM_GPUS=1\u001b[0m\n",
      "\u001b[31mSM_CHANNEL_TRAINING=/opt/ml/input/data/training\u001b[0m\n",
      "\u001b[31mSM_HPS={\"epochs\":10,\"hidden_dim\":200}\u001b[0m\n",
      "\u001b[31mSM_RESOURCE_CONFIG={\"current_host\":\"algo-1\",\"hosts\":[\"algo-1\"],\"network_interface_name\":\"ethwe\"}\u001b[0m\n",
      "\u001b[31mSM_NUM_CPUS=4\u001b[0m\n",
      "\u001b[31mSM_INPUT_DATA_CONFIG={\"training\":{\"RecordWrapperType\":\"None\",\"S3DistributionType\":\"FullyReplicated\",\"TrainingInputMode\":\"File\"}}\u001b[0m\n",
      "\u001b[31mSM_MODEL_DIR=/opt/ml/model\u001b[0m\n",
      "\u001b[31mSM_FRAMEWORK_MODULE=sagemaker_pytorch_container.training:main\u001b[0m\n",
      "\u001b[31mSM_OUTPUT_INTERMEDIATE_DIR=/opt/ml/output/intermediate\u001b[0m\n",
      "\u001b[31mSM_MODULE_NAME=train\u001b[0m\n",
      "\u001b[31mSM_HP_HIDDEN_DIM=200\u001b[0m\n",
      "\u001b[31mSM_INPUT_DIR=/opt/ml/input\u001b[0m\n",
      "\u001b[31mSM_OUTPUT_DIR=/opt/ml/output\u001b[0m\n",
      "\u001b[31mSM_USER_ARGS=[\"--epochs\",\"10\",\"--hidden_dim\",\"200\"]\u001b[0m\n",
      "\u001b[31mSM_CURRENT_HOST=algo-1\u001b[0m\n",
      "\u001b[31mSM_INPUT_CONFIG_DIR=/opt/ml/input/config\n",
      "\u001b[0m\n",
      "\u001b[31mInvoking script with the following command:\n",
      "\u001b[0m\n",
      "\u001b[31m/usr/bin/python -m train --epochs 10 --hidden_dim 200\n",
      "\n",
      "\u001b[0m\n",
      "\u001b[31mUsing device cuda.\u001b[0m\n",
      "\u001b[31mGet train data loader.\u001b[0m\n",
      "\u001b[31mModel loaded with embedding_dim 32, hidden_dim 200, vocab_size 5000.\u001b[0m\n",
      "\u001b[31mEpoch: 1, BCELoss: 0.6690905884820588\u001b[0m\n",
      "\u001b[31mEpoch: 2, BCELoss: 0.5932112652428296\u001b[0m\n",
      "\u001b[31mEpoch: 3, BCELoss: 0.5000436427641888\u001b[0m\n",
      "\u001b[31mEpoch: 4, BCELoss: 0.4913104231260261\u001b[0m\n",
      "\u001b[31mEpoch: 5, BCELoss: 0.5341842728001731\u001b[0m\n",
      "\u001b[31mEpoch: 6, BCELoss: 0.42556348990420906\u001b[0m\n",
      "\u001b[31mEpoch: 7, BCELoss: 0.3782725826818116\u001b[0m\n",
      "\u001b[31mEpoch: 8, BCELoss: 0.3723799008495954\u001b[0m\n",
      "\u001b[31mEpoch: 9, BCELoss: 0.3335833123752049\u001b[0m\n",
      "\n",
      "2018-12-22 20:18:47 Uploading - Uploading generated training model\u001b[31mEpoch: 10, BCELoss: 0.30790508584100373\u001b[0m\n",
      "\u001b[31m2018-12-22 20:18:44,770 sagemaker-containers INFO     Reporting training SUCCESS\u001b[0m\n",
      "\n",
      "2018-12-22 20:18:53 Completed - Training job completed\n",
      "Billable seconds: 241\n"
     ]
    }
   ],
   "source": [
    "estimator.fit({'training': input_data})"
   ]
  },
  {
   "cell_type": "markdown",
   "metadata": {},
   "source": [
    "## Step 5: Testing the model\n",
    "\n",
    "As mentioned at the top of this notebook, we will be testing this model by first deploying it and then sending the testing data to the deployed endpoint. We will do this so that we can make sure that the deployed model is working correctly.\n",
    "\n",
    "## Step 6: Deploy the model for testing\n",
    "\n",
    "Now that we have trained our model, we would like to test it to see how it performs. Currently our model takes input of the form `review_length, review[500]` where `review[500]` is a sequence of `500` integers which describe the words present in the review, encoded using `word_dict`. Fortunately for us, SageMaker provides built-in inference code for models with simple inputs such as this.\n",
    "\n",
    "There is one thing that we need to provide, however, and that is a function which loads the saved model. This function must be called `model_fn()` and takes as its only parameter a path to the directory where the model artifacts are stored. This function must also be present in the python file which we specified as the entry point. In our case the model loading function has been provided and so no changes need to be made.\n",
    "\n",
    "**NOTE**: When the built-in inference code is run it must import the `model_fn()` method from the `train.py` file. This is why the training code is wrapped in a main guard ( ie, `if __name__ == '__main__':` )\n",
    "\n",
    "Since we don't need to change anything in the code that was uploaded during training, we can simply deploy the current model as-is.\n",
    "\n",
    "**NOTE:** When deploying a model you are asking SageMaker to launch an compute instance that will wait for data to be sent to it. As a result, this compute instance will continue to run until *you* shut it down. This is important to know since the cost of a deployed endpoint depends on how long it has been running for.\n",
    "\n",
    "In other words **If you are no longer using a deployed endpoint, shut it down!**\n",
    "\n",
    "**TODO:** Deploy the trained model."
   ]
  },
  {
   "cell_type": "code",
   "execution_count": 34,
   "metadata": {},
   "outputs": [
    {
     "name": "stderr",
     "output_type": "stream",
     "text": [
      "INFO:sagemaker:Creating model with name: sagemaker-pytorch-2018-12-22-20-12-15-880\n",
      "INFO:sagemaker:Creating endpoint with name sagemaker-pytorch-2018-12-22-20-12-15-880\n"
     ]
    },
    {
     "name": "stdout",
     "output_type": "stream",
     "text": [
      "--------------------------------------------------------------------------!"
     ]
    }
   ],
   "source": [
    "# TODO: Deploy the trained model\n",
    "predictor = estimator.deploy(initial_instance_count = 1, instance_type = 'ml.m4.xlarge')"
   ]
  },
  {
   "cell_type": "markdown",
   "metadata": {},
   "source": [
    "## Step 7 - Use the model for testing\n",
    "\n",
    "Once deployed, we can read in the test data and send it off to our deployed model to get some results. Once we collect all of the results we can determine how accurate our model is."
   ]
  },
  {
   "cell_type": "code",
   "execution_count": 35,
   "metadata": {},
   "outputs": [],
   "source": [
    "test_X = pd.concat([pd.DataFrame(test_X_len), pd.DataFrame(test_X)], axis=1)"
   ]
  },
  {
   "cell_type": "code",
   "execution_count": 36,
   "metadata": {},
   "outputs": [],
   "source": [
    "# We split the data into chunks and send each chunk seperately, accumulating the results.\n",
    "\n",
    "def predict(data, rows=512):\n",
    "    split_array = np.array_split(data, int(data.shape[0] / float(rows) + 1))\n",
    "    predictions = np.array([])\n",
    "    for array in split_array:\n",
    "        predictions = np.append(predictions, predictor.predict(array))\n",
    "    \n",
    "    return predictions"
   ]
  },
  {
   "cell_type": "code",
   "execution_count": 37,
   "metadata": {},
   "outputs": [],
   "source": [
    "predictions = predict(test_X.values)\n",
    "predictions = [round(num) for num in predictions]"
   ]
  },
  {
   "cell_type": "code",
   "execution_count": 38,
   "metadata": {},
   "outputs": [
    {
     "data": {
      "text/plain": [
       "0.84804"
      ]
     },
     "execution_count": 38,
     "metadata": {},
     "output_type": "execute_result"
    }
   ],
   "source": [
    "from sklearn.metrics import accuracy_score\n",
    "accuracy_score(test_y, predictions)"
   ]
  },
  {
   "cell_type": "markdown",
   "metadata": {},
   "source": [
    "**Question:** How does this model compare to the XGBoost model you created earlier? Why might these two models perform differently on this dataset? Which do *you* think is better for sentiment analysis?"
   ]
  },
  {
   "cell_type": "markdown",
   "metadata": {},
   "source": [
    "**Answer:**\n",
    "This model's accurancy score is better."
   ]
  },
  {
   "cell_type": "markdown",
   "metadata": {},
   "source": [
    "### (TODO) More testing\n",
    "\n",
    "We now have a trained model which has been deployed and which we can send processed reviews to and which returns the predicted sentiment. However, ultimately we would like to be able to send our model an unprocessed review. That is, we would like to send the review itself as a string. For example, suppose we wish to send the following review to our model."
   ]
  },
  {
   "cell_type": "code",
   "execution_count": 39,
   "metadata": {},
   "outputs": [],
   "source": [
    "test_review = 'The simplest pleasures in life are the best, and this film is one of them. Combining a rather basic storyline of love and adventure this movie transcends the usual weekend fair with wit and unmitigated charm.'"
   ]
  },
  {
   "cell_type": "markdown",
   "metadata": {},
   "source": [
    "The question we now need to answer is, how do we send this review to our model?\n",
    "\n",
    "Recall in the first section of this notebook we did a bunch of data processing to the IMDb dataset. In particular, we did two specific things to the provided reviews.\n",
    " - Removed any html tags and stemmed the input\n",
    " - Encoded the review as a sequence of integers using `word_dict`\n",
    " \n",
    "In order process the review we will need to repeat these two steps.\n",
    "\n",
    "**TODO**: Using the `review_to_words` and `convert_and_pad` methods from section one, convert `test_review` into a numpy array `test_data` suitable to send to our model. Remember that our model expects input of the form `review_length, review[500]`."
   ]
  },
  {
   "cell_type": "code",
   "execution_count": 40,
   "metadata": {},
   "outputs": [],
   "source": [
    "# TODO: Convert test_review into a form usable by the model and save the results in test_data\n",
    "test_data = review_to_words(test_review)"
   ]
  },
  {
   "cell_type": "code",
   "execution_count": 42,
   "metadata": {},
   "outputs": [],
   "source": [
    "test_data = [np.array(convert_and_pad(word_dict, test_data)[0])]"
   ]
  },
  {
   "cell_type": "markdown",
   "metadata": {},
   "source": [
    "Now that we have processed the review, we can send the resulting array to our model to predict the sentiment of the review."
   ]
  },
  {
   "cell_type": "code",
   "execution_count": 44,
   "metadata": {},
   "outputs": [
    {
     "data": {
      "text/plain": [
       "array(0.6884297, dtype=float32)"
      ]
     },
     "execution_count": 44,
     "metadata": {},
     "output_type": "execute_result"
    }
   ],
   "source": [
    "predictor.predict(test_data)"
   ]
  },
  {
   "cell_type": "markdown",
   "metadata": {},
   "source": [
    "Since the return value of our model is close to `1`, we can be certain that the review we submitted is positive."
   ]
  },
  {
   "cell_type": "markdown",
   "metadata": {},
   "source": [
    "### Delete the endpoint\n",
    "\n",
    "Of course, just like in the XGBoost notebook, once we've deployed an endpoint it continues to run until we tell it to shut down. Since we are done using our endpoint for now, we can delete it."
   ]
  },
  {
   "cell_type": "code",
   "execution_count": 45,
   "metadata": {},
   "outputs": [
    {
     "name": "stderr",
     "output_type": "stream",
     "text": [
      "INFO:sagemaker:Deleting endpoint with name: sagemaker-pytorch-2018-12-22-20-12-15-880\n"
     ]
    }
   ],
   "source": [
    "estimator.delete_endpoint()"
   ]
  },
  {
   "cell_type": "markdown",
   "metadata": {},
   "source": [
    "## Step 6 (again) - Deploy the model for the web app\n",
    "\n",
    "Now that we know that our model is working, it's time to create some custom inference code so that we can send the model a review which has not been processed and have it determine the sentiment of the review.\n",
    "\n",
    "As we saw above, by default the estimator which we created, when deployed, will use the entry script and directory which we provided when creating the model. However, since we now wish to accept a string as input and our model expects a processed review, we need to write some custom inference code.\n",
    "\n",
    "We will store the code that we write in the `serve` directory. Provided in this directory is the `model.py` file that we used to construct our model, a `utils.py` file which contains the `review_to_words` and `convert_and_pad` pre-processing functions which we used during the initial data processing, and `predict.py`, the file which will contain our custom inference code. Note also that `requirements.txt` is present which will tell SageMaker what Python libraries are required by our custom inference code.\n",
    "\n",
    "When deploying a PyTorch model in SageMaker, you are expected to provide four functions which the SageMaker inference container will use.\n",
    " - `model_fn`: This function is the same function that we used in the training script and it tells SageMaker how to load our model.\n",
    " - `input_fn`: This function receives the raw serialized input that has been sent to the model's endpoint and its job is to de-serialize and make the input available for the inference code.\n",
    " - `output_fn`: This function takes the output of the inference code and its job is to serialize this output and return it to the caller of the model's endpoint.\n",
    " - `predict_fn`: The heart of the inference script, this is where the actual prediction is done and is the function which you will need to complete.\n",
    "\n",
    "For the simple website that we are constructing during this project, the `input_fn` and `output_fn` methods are relatively straightforward. We only require being able to accept a string as input and we expect to return a single value as output. You might imagine though that in a more complex application the input or output may be image data or some other binary data which would require some effort to serialize.\n",
    "\n",
    "### (TODO) Writing inference code\n",
    "\n",
    "Before writing our custom inference code, we will begin by taking a look at the code which has been provided."
   ]
  },
  {
   "cell_type": "code",
   "execution_count": 46,
   "metadata": {},
   "outputs": [
    {
     "name": "stdout",
     "output_type": "stream",
     "text": [
      "\u001b[34mimport\u001b[39;49;00m \u001b[04m\u001b[36margparse\u001b[39;49;00m\r\n",
      "\u001b[34mimport\u001b[39;49;00m \u001b[04m\u001b[36mjson\u001b[39;49;00m\r\n",
      "\u001b[34mimport\u001b[39;49;00m \u001b[04m\u001b[36mos\u001b[39;49;00m\r\n",
      "\u001b[34mimport\u001b[39;49;00m \u001b[04m\u001b[36mpickle\u001b[39;49;00m\r\n",
      "\u001b[34mimport\u001b[39;49;00m \u001b[04m\u001b[36msys\u001b[39;49;00m\r\n",
      "\u001b[34mimport\u001b[39;49;00m \u001b[04m\u001b[36msagemaker_containers\u001b[39;49;00m\r\n",
      "\u001b[34mimport\u001b[39;49;00m \u001b[04m\u001b[36mpandas\u001b[39;49;00m \u001b[34mas\u001b[39;49;00m \u001b[04m\u001b[36mpd\u001b[39;49;00m\r\n",
      "\u001b[34mimport\u001b[39;49;00m \u001b[04m\u001b[36mnumpy\u001b[39;49;00m \u001b[34mas\u001b[39;49;00m \u001b[04m\u001b[36mnp\u001b[39;49;00m\r\n",
      "\u001b[34mimport\u001b[39;49;00m \u001b[04m\u001b[36mtorch\u001b[39;49;00m\r\n",
      "\u001b[34mimport\u001b[39;49;00m \u001b[04m\u001b[36mtorch.nn\u001b[39;49;00m \u001b[34mas\u001b[39;49;00m \u001b[04m\u001b[36mnn\u001b[39;49;00m\r\n",
      "\u001b[34mimport\u001b[39;49;00m \u001b[04m\u001b[36mtorch.optim\u001b[39;49;00m \u001b[34mas\u001b[39;49;00m \u001b[04m\u001b[36moptim\u001b[39;49;00m\r\n",
      "\u001b[34mimport\u001b[39;49;00m \u001b[04m\u001b[36mtorch.utils.data\u001b[39;49;00m\r\n",
      "\r\n",
      "\u001b[34mfrom\u001b[39;49;00m \u001b[04m\u001b[36mmodel\u001b[39;49;00m \u001b[34mimport\u001b[39;49;00m LSTMClassifier\r\n",
      "\r\n",
      "\u001b[34mfrom\u001b[39;49;00m \u001b[04m\u001b[36mutils\u001b[39;49;00m \u001b[34mimport\u001b[39;49;00m review_to_words, convert_and_pad\r\n",
      "\r\n",
      "\u001b[34mdef\u001b[39;49;00m \u001b[32mmodel_fn\u001b[39;49;00m(model_dir):\r\n",
      "    \u001b[33m\"\"\"Load the PyTorch model from the `model_dir` directory.\"\"\"\u001b[39;49;00m\r\n",
      "    \u001b[34mprint\u001b[39;49;00m(\u001b[33m\"\u001b[39;49;00m\u001b[33mLoading model.\u001b[39;49;00m\u001b[33m\"\u001b[39;49;00m)\r\n",
      "\r\n",
      "    \u001b[37m# First, load the parameters used to create the model.\u001b[39;49;00m\r\n",
      "    model_info = {}\r\n",
      "    model_info_path = os.path.join(model_dir, \u001b[33m'\u001b[39;49;00m\u001b[33mmodel_info.pth\u001b[39;49;00m\u001b[33m'\u001b[39;49;00m)\r\n",
      "    \u001b[34mwith\u001b[39;49;00m \u001b[36mopen\u001b[39;49;00m(model_info_path, \u001b[33m'\u001b[39;49;00m\u001b[33mrb\u001b[39;49;00m\u001b[33m'\u001b[39;49;00m) \u001b[34mas\u001b[39;49;00m f:\r\n",
      "        model_info = torch.load(f)\r\n",
      "\r\n",
      "    \u001b[34mprint\u001b[39;49;00m(\u001b[33m\"\u001b[39;49;00m\u001b[33mmodel_info: {}\u001b[39;49;00m\u001b[33m\"\u001b[39;49;00m.format(model_info))\r\n",
      "\r\n",
      "    \u001b[37m# Determine the device and construct the model.\u001b[39;49;00m\r\n",
      "    device = torch.device(\u001b[33m\"\u001b[39;49;00m\u001b[33mcuda\u001b[39;49;00m\u001b[33m\"\u001b[39;49;00m \u001b[34mif\u001b[39;49;00m torch.cuda.is_available() \u001b[34melse\u001b[39;49;00m \u001b[33m\"\u001b[39;49;00m\u001b[33mcpu\u001b[39;49;00m\u001b[33m\"\u001b[39;49;00m)\r\n",
      "    model = LSTMClassifier(model_info[\u001b[33m'\u001b[39;49;00m\u001b[33membedding_dim\u001b[39;49;00m\u001b[33m'\u001b[39;49;00m], model_info[\u001b[33m'\u001b[39;49;00m\u001b[33mhidden_dim\u001b[39;49;00m\u001b[33m'\u001b[39;49;00m], model_info[\u001b[33m'\u001b[39;49;00m\u001b[33mvocab_size\u001b[39;49;00m\u001b[33m'\u001b[39;49;00m])\r\n",
      "\r\n",
      "    \u001b[37m# Load the store model parameters.\u001b[39;49;00m\r\n",
      "    model_path = os.path.join(model_dir, \u001b[33m'\u001b[39;49;00m\u001b[33mmodel.pth\u001b[39;49;00m\u001b[33m'\u001b[39;49;00m)\r\n",
      "    \u001b[34mwith\u001b[39;49;00m \u001b[36mopen\u001b[39;49;00m(model_path, \u001b[33m'\u001b[39;49;00m\u001b[33mrb\u001b[39;49;00m\u001b[33m'\u001b[39;49;00m) \u001b[34mas\u001b[39;49;00m f:\r\n",
      "        model.load_state_dict(torch.load(f))\r\n",
      "\r\n",
      "    \u001b[37m# Load the saved word_dict.\u001b[39;49;00m\r\n",
      "    word_dict_path = os.path.join(model_dir, \u001b[33m'\u001b[39;49;00m\u001b[33mword_dict.pkl\u001b[39;49;00m\u001b[33m'\u001b[39;49;00m)\r\n",
      "    \u001b[34mwith\u001b[39;49;00m \u001b[36mopen\u001b[39;49;00m(word_dict_path, \u001b[33m'\u001b[39;49;00m\u001b[33mrb\u001b[39;49;00m\u001b[33m'\u001b[39;49;00m) \u001b[34mas\u001b[39;49;00m f:\r\n",
      "        model.word_dict = pickle.load(f)\r\n",
      "\r\n",
      "    model.to(device).eval()\r\n",
      "\r\n",
      "    \u001b[34mprint\u001b[39;49;00m(\u001b[33m\"\u001b[39;49;00m\u001b[33mDone loading model.\u001b[39;49;00m\u001b[33m\"\u001b[39;49;00m)\r\n",
      "    \u001b[34mreturn\u001b[39;49;00m model\r\n",
      "\r\n",
      "\u001b[34mdef\u001b[39;49;00m \u001b[32minput_fn\u001b[39;49;00m(serialized_input_data, content_type):\r\n",
      "    \u001b[34mprint\u001b[39;49;00m(\u001b[33m'\u001b[39;49;00m\u001b[33mDeserializing the input data.\u001b[39;49;00m\u001b[33m'\u001b[39;49;00m)\r\n",
      "    \u001b[34mif\u001b[39;49;00m content_type == \u001b[33m'\u001b[39;49;00m\u001b[33mtext/plain\u001b[39;49;00m\u001b[33m'\u001b[39;49;00m:\r\n",
      "        data = serialized_input_data.decode(\u001b[33m'\u001b[39;49;00m\u001b[33mutf-8\u001b[39;49;00m\u001b[33m'\u001b[39;49;00m)\r\n",
      "        \u001b[34mreturn\u001b[39;49;00m data\r\n",
      "    \u001b[34mraise\u001b[39;49;00m \u001b[36mException\u001b[39;49;00m(\u001b[33m'\u001b[39;49;00m\u001b[33mRequested unsupported ContentType in content_type: \u001b[39;49;00m\u001b[33m'\u001b[39;49;00m + content_type)\r\n",
      "\r\n",
      "\u001b[34mdef\u001b[39;49;00m \u001b[32moutput_fn\u001b[39;49;00m(prediction_output, accept):\r\n",
      "    \u001b[34mprint\u001b[39;49;00m(\u001b[33m'\u001b[39;49;00m\u001b[33mSerializing the generated output.\u001b[39;49;00m\u001b[33m'\u001b[39;49;00m)\r\n",
      "    \u001b[34mreturn\u001b[39;49;00m \u001b[36mstr\u001b[39;49;00m(prediction_output)\r\n",
      "\r\n",
      "\u001b[34mdef\u001b[39;49;00m \u001b[32mpredict_fn\u001b[39;49;00m(input_data, model):\r\n",
      "    \u001b[34mprint\u001b[39;49;00m(\u001b[33m'\u001b[39;49;00m\u001b[33mInferring sentiment of input data.\u001b[39;49;00m\u001b[33m'\u001b[39;49;00m)\r\n",
      "\r\n",
      "    device = torch.device(\u001b[33m\"\u001b[39;49;00m\u001b[33mcuda\u001b[39;49;00m\u001b[33m\"\u001b[39;49;00m \u001b[34mif\u001b[39;49;00m torch.cuda.is_available() \u001b[34melse\u001b[39;49;00m \u001b[33m\"\u001b[39;49;00m\u001b[33mcpu\u001b[39;49;00m\u001b[33m\"\u001b[39;49;00m)\r\n",
      "    \r\n",
      "    \u001b[34mif\u001b[39;49;00m model.word_dict \u001b[35mis\u001b[39;49;00m \u001b[36mNone\u001b[39;49;00m:\r\n",
      "        \u001b[34mraise\u001b[39;49;00m \u001b[36mException\u001b[39;49;00m(\u001b[33m'\u001b[39;49;00m\u001b[33mModel has not been loaded properly, no word_dict.\u001b[39;49;00m\u001b[33m'\u001b[39;49;00m)\r\n",
      "    \r\n",
      "    \u001b[37m# TODO: Process input_data so that it is ready to be sent to our model.\u001b[39;49;00m\r\n",
      "    \u001b[37m#       You should produce two variables:\u001b[39;49;00m\r\n",
      "    \u001b[37m#         data_X   - A sequence of length 500 which represents the converted review\u001b[39;49;00m\r\n",
      "    \u001b[37m#         data_len - The length of the review\u001b[39;49;00m\r\n",
      "\r\n",
      "    data_X, data_len = convert_and_pad(model.word_dict, review_to_words(input_data))\r\n",
      "\r\n",
      "    \u001b[37m# Using data_X and data_len we construct an appropriate input tensor. Remember\u001b[39;49;00m\r\n",
      "    \u001b[37m# that our model expects input data of the form 'len, review[500]'.\u001b[39;49;00m\r\n",
      "    data_pack = np.hstack((data_len, data_X))\r\n",
      "    data_pack = data_pack.reshape(\u001b[34m1\u001b[39;49;00m, -\u001b[34m1\u001b[39;49;00m)\r\n",
      "    \r\n",
      "    data = torch.from_numpy(data_pack)\r\n",
      "    data = data.to(device)\r\n",
      "\r\n",
      "    \u001b[37m# Make sure to put the model into evaluation mode\u001b[39;49;00m\r\n",
      "    model.eval()\r\n",
      "\r\n",
      "    \u001b[37m# TODO: Compute the result of applying the model to the input data. The variable `result` should\u001b[39;49;00m\r\n",
      "    \u001b[37m#       be a numpy array which contains a single integer which is either 1 or 0\u001b[39;49;00m\r\n",
      "\r\n",
      "    \r\n",
      "    \u001b[34mwith\u001b[39;49;00m torch.no_grad():\r\n",
      "        output = model.forward(data)\r\n",
      "        \r\n",
      "    result = np.round(output.numpy())\r\n",
      "\r\n",
      "    \u001b[34mreturn\u001b[39;49;00m result\r\n"
     ]
    }
   ],
   "source": [
    "!pygmentize serve/predict.py"
   ]
  },
  {
   "cell_type": "markdown",
   "metadata": {},
   "source": [
    "As mentioned earlier, the `model_fn` method is the same as the one provided in the training code and the `input_fn` and `output_fn` methods are very simple and your task will be to complete the `predict_fn` method. Make sure that you save the completed file as `predict.py` in the `serve` directory.\n",
    "\n",
    "**TODO**: Complete the `predict_fn()` method in the `serve/predict.py` file."
   ]
  },
  {
   "cell_type": "markdown",
   "metadata": {},
   "source": [
    "### Deploying the model\n",
    "\n",
    "Now that the custom inference code has been written, we will create and deploy our model. To begin with, we need to construct a new PyTorchModel object which points to the model artifacts created during training and also points to the inference code that we wish to use. Then we can call the deploy method to launch the deployment container.\n",
    "\n",
    "**NOTE**: The default behaviour for a deployed PyTorch model is to assume that any input passed to the predictor is a `numpy` array. In our case we want to send a string so we need to construct a simple wrapper around the `RealTimePredictor` class to accomodate simple strings. In a more complicated situation you may want to provide a serialization object, for example if you wanted to sent image data."
   ]
  },
  {
   "cell_type": "code",
   "execution_count": 47,
   "metadata": {},
   "outputs": [
    {
     "name": "stderr",
     "output_type": "stream",
     "text": [
      "INFO:sagemaker:Created S3 bucket: sagemaker-us-east-1-739896841922\n",
      "INFO:sagemaker:Creating model with name: sagemaker-pytorch-2018-12-22-20-35-45-038\n",
      "INFO:sagemaker:Creating endpoint with name sagemaker-pytorch-2018-12-22-20-35-45-038\n"
     ]
    },
    {
     "name": "stdout",
     "output_type": "stream",
     "text": [
      "--------------------------------------------------------------!"
     ]
    }
   ],
   "source": [
    "from sagemaker.predictor import RealTimePredictor\n",
    "from sagemaker.pytorch import PyTorchModel\n",
    "\n",
    "class StringPredictor(RealTimePredictor):\n",
    "    def __init__(self, endpoint_name, sagemaker_session):\n",
    "        super(StringPredictor, self).__init__(endpoint_name, sagemaker_session, content_type='text/plain')\n",
    "\n",
    "model = PyTorchModel(model_data=estimator.model_data,\n",
    "                     role = role,\n",
    "                     framework_version='0.4.0',\n",
    "                     entry_point='predict.py',\n",
    "                     source_dir='serve',\n",
    "                     predictor_cls=StringPredictor)\n",
    "predictor = model.deploy(initial_instance_count=1, instance_type='ml.m4.xlarge')"
   ]
  },
  {
   "cell_type": "markdown",
   "metadata": {},
   "source": [
    "### Testing the model\n",
    "\n",
    "Now that we have deployed our model with the custom inference code, we should test to see if everything is working. Here we test our model by loading the first `250` positive and negative reviews and send them to the endpoint, then collect the results. The reason for only sending some of the data is that the amount of time it takes for our model to process the input and then perform inference is quite long and so testing the entire data set would be prohibitive."
   ]
  },
  {
   "cell_type": "code",
   "execution_count": 50,
   "metadata": {},
   "outputs": [],
   "source": [
    "import glob\n",
    "\n",
    "def test_reviews(data_dir='../data/aclImdb', stop=250):\n",
    "    \n",
    "    results = []\n",
    "    ground = []\n",
    "    \n",
    "    # We make sure to test both positive and negative reviews    \n",
    "    for sentiment in ['pos', 'neg']:\n",
    "        \n",
    "        path = os.path.join(data_dir, 'test', sentiment, '*.txt')\n",
    "        files = glob.glob(path)\n",
    "        \n",
    "        files_read = 0\n",
    "        \n",
    "        print('Starting ', sentiment, ' files')\n",
    "        \n",
    "        # Iterate through the files and send them to the predictor\n",
    "        for f in files:\n",
    "            with open(f) as review:\n",
    "                # First, we store the ground truth (was the review positive or negative)\n",
    "                if sentiment == 'pos':\n",
    "                    ground.append(1)\n",
    "                else:\n",
    "                    ground.append(0)\n",
    "                # Read in the review and convert to 'utf-8' for transmission via HTTP\n",
    "                review_input = review.read().encode('utf-8')\n",
    "                # Send the review to the predictor and store the results\n",
    "                results.append(float(predictor.predict(review_input)))\n",
    "                \n",
    "            # Sending reviews to our endpoint one at a time takes a while so we\n",
    "            # only send a small number of reviews\n",
    "            files_read += 1\n",
    "            if files_read == stop:\n",
    "                break\n",
    "            \n",
    "    return ground, results"
   ]
  },
  {
   "cell_type": "code",
   "execution_count": 51,
   "metadata": {},
   "outputs": [
    {
     "name": "stdout",
     "output_type": "stream",
     "text": [
      "Starting  pos  files\n",
      "Starting  neg  files\n"
     ]
    }
   ],
   "source": [
    "ground, results = test_reviews()"
   ]
  },
  {
   "cell_type": "code",
   "execution_count": 52,
   "metadata": {},
   "outputs": [
    {
     "data": {
      "text/plain": [
       "0.85"
      ]
     },
     "execution_count": 52,
     "metadata": {},
     "output_type": "execute_result"
    }
   ],
   "source": [
    "from sklearn.metrics import accuracy_score\n",
    "accuracy_score(ground, results)"
   ]
  },
  {
   "cell_type": "markdown",
   "metadata": {},
   "source": [
    "As an additional test, we can try sending the `test_review` that we looked at earlier."
   ]
  },
  {
   "cell_type": "code",
   "execution_count": null,
   "metadata": {},
   "outputs": [],
   "source": []
  },
  {
   "cell_type": "code",
   "execution_count": 53,
   "metadata": {},
   "outputs": [
    {
     "data": {
      "text/plain": [
       "b'1.0'"
      ]
     },
     "execution_count": 53,
     "metadata": {},
     "output_type": "execute_result"
    }
   ],
   "source": [
    "predictor.predict(test_review)"
   ]
  },
  {
   "cell_type": "markdown",
   "metadata": {},
   "source": [
    "Now that we know our endpoint is working as expected, we can set up the web page that will interact with it. If you don't have time to finish the project now, make sure to skip down to the end of this notebook and shut down your endpoint. You can deploy it again when you come back."
   ]
  },
  {
   "cell_type": "markdown",
   "metadata": {},
   "source": [
    "## Step 7 (again): Use the model for the web app\n",
    "\n",
    "> **TODO:** This entire section and the next contain tasks for you to complete, mostly using the AWS console.\n",
    "\n",
    "So far we have been accessing our model endpoint by constructing a predictor object which uses the endpoint and then just using the predictor object to perform inference. What if we wanted to create a web app which accessed our model? The way things are set up currently makes that not possible since in order to access a SageMaker endpoint the app would first have to authenticate with AWS using an IAM role which included access to SageMaker endpoints. However, there is an easier way! We just need to use some additional AWS services.\n",
    "\n",
    "<img src=\"Web App Diagram.svg\">\n",
    "\n",
    "The diagram above gives an overview of how the various services will work together. On the far right is the model which we trained above and which is deployed using SageMaker. On the far left is our web app that collects a user's movie review, sends it off and expects a positive or negative sentiment in return.\n",
    "\n",
    "In the middle is where some of the magic happens. We will construct a Lambda function, which you can think of as a straightforward Python function that can be executed whenever a specified event occurs. We will give this function permission to send and recieve data from a SageMaker endpoint.\n",
    "\n",
    "Lastly, the method we will use to execute the Lambda function is a new endpoint that we will create using API Gateway. This endpoint will be a url that listens for data to be sent to it. Once it gets some data it will pass that data on to the Lambda function and then return whatever the Lambda function returns. Essentially it will act as an interface that lets our web app communicate with the Lambda function.\n",
    "\n",
    "### Setting up a Lambda function\n",
    "\n",
    "The first thing we are going to do is set up a Lambda function. This Lambda function will be executed whenever our public API has data sent to it. When it is executed it will receive the data, perform any sort of processing that is required, send the data (the review) to the SageMaker endpoint we've created and then return the result.\n",
    "\n",
    "#### Part A: Create an IAM Role for the Lambda function\n",
    "\n",
    "Since we want the Lambda function to call a SageMaker endpoint, we need to make sure that it has permission to do so. To do this, we will construct a role that we can later give the Lambda function.\n",
    "\n",
    "Using the AWS Console, navigate to the **IAM** page and click on **Roles**. Then, click on **Create role**. Make sure that the **AWS service** is the type of trusted entity selected and choose **Lambda** as the service that will use this role, then click **Next: Permissions**.\n",
    "\n",
    "In the search box type `sagemaker` and select the check box next to the **AmazonSageMakerFullAccess** policy. Then, click on **Next: Review**.\n",
    "\n",
    "Lastly, give this role a name. Make sure you use a name that you will remember later on, for example `LambdaSageMakerRole`. Then, click on **Create role**.\n",
    "\n",
    "#### Part B: Create a Lambda function\n",
    "\n",
    "Now it is time to actually create the Lambda function.\n",
    "\n",
    "Using the AWS Console, navigate to the AWS Lambda page and click on **Create a function**. When you get to the next page, make sure that **Author from scratch** is selected. Now, name your Lambda function, using a name that you will remember later on, for example `sentiment_analysis_func`. Make sure that the **Python 3.6** runtime is selected and then choose the role that you created in the previous part. Then, click on **Create Function**.\n",
    "\n",
    "On the next page you will see some information about the Lambda function you've just created. If you scroll down you should see an editor in which you can write the code that will be executed when your Lambda function is triggered. In our example, we will use the code below. \n",
    "\n",
    "```python\n",
    "# We need to use the low-level library to interact with SageMaker since the SageMaker API\n",
    "# is not available natively through Lambda.\n",
    "import boto3\n",
    "\n",
    "def lambda_handler(event, context):\n",
    "\n",
    "    # The SageMaker runtime is what allows us to invoke the endpoint that we've created.\n",
    "    runtime = boto3.Session().client('sagemaker-runtime')\n",
    "\n",
    "    # Now we use the SageMaker runtime to invoke our endpoint, sending the review we were given\n",
    "    response = runtime.invoke_endpoint(EndpointName = '**ENDPOINT NAME HERE**',    # The name of the endpoint we created\n",
    "                                       ContentType = 'text/plain',                 # The data format that is expected\n",
    "                                       Body = event['body'])                       # The actual review\n",
    "\n",
    "    # The response is an HTTP response whose body contains the result of our inference\n",
    "    result = response['Body'].read().decode('utf-8')\n",
    "\n",
    "    return {\n",
    "        'statusCode' : 200,\n",
    "        'headers' : { 'Content-Type' : 'text/plain', 'Access-Control-Allow-Origin' : '*' },\n",
    "        'body' : result\n",
    "    }\n",
    "```\n",
    "\n",
    "Once you have copy and pasted the code above into the Lambda code editor, replace the `**ENDPOINT NAME HERE**` portion with the name of the endpoint that we deployed earlier. You can determine the name of the endpoint using the code cell below."
   ]
  },
  {
   "cell_type": "code",
   "execution_count": 54,
   "metadata": {},
   "outputs": [
    {
     "data": {
      "text/plain": [
       "'sagemaker-pytorch-2018-12-22-20-35-45-038'"
      ]
     },
     "execution_count": 54,
     "metadata": {},
     "output_type": "execute_result"
    }
   ],
   "source": [
    "predictor.endpoint"
   ]
  },
  {
   "cell_type": "markdown",
   "metadata": {},
   "source": [
    "Once you have added the endpoint name to the Lambda function, click on **Save**. Your Lambda function is now up and running. Next we need to create a way for our web app to execute the Lambda function.\n",
    "\n",
    "### Setting up API Gateway\n",
    "\n",
    "Now that our Lambda function is set up, it is time to create a new API using API Gateway that will trigger the Lambda function we have just created.\n",
    "\n",
    "Using AWS Console, navigate to **Amazon API Gateway** and then click on **Get started**.\n",
    "\n",
    "On the next page, make sure that **New API** is selected and give the new api a name, for example, `sentiment_analysis_api`. Then, click on **Create API**.\n",
    "\n",
    "Now we have created an API, however it doesn't currently do anything. What we want it to do is to trigger the Lambda function that we created earlier.\n",
    "\n",
    "Select the **Actions** dropdown menu and click **Create Method**. A new blank method will be created, select its dropdown menu and select **POST**, then click on the check mark beside it.\n",
    "\n",
    "For the integration point, make sure that **Lambda Function** is selected and click on the **Use Lambda Proxy integration**. This option makes sure that the data that is sent to the API is then sent directly to the Lambda function with no processing. It also means that the return value must be a proper response object as it will also not be processed by API Gateway.\n",
    "\n",
    "Type the name of the Lambda function you created earlier into the **Lambda Function** text entry box and then click on **Save**. Click on **OK** in the pop-up box that then appears, giving permission to API Gateway to invoke the Lambda function you created.\n",
    "\n",
    "The last step in creating the API Gateway is to select the **Actions** dropdown and click on **Deploy API**. You will need to create a new Deployment stage and name it anything you like, for example `prod`.\n",
    "\n",
    "You have now successfully set up a public API to access your SageMaker model. Make sure to copy or write down the URL provided to invoke your newly created public API as this will be needed in the next step. This URL can be found at the top of the page, highlighted in blue next to the text **Invoke URL**."
   ]
  },
  {
   "cell_type": "markdown",
   "metadata": {},
   "source": [
    "## Step 4: Deploying our web app\n",
    "\n",
    "Now that we have a publicly available API, we can start using it in a web app. For our purposes, we have provided a simple static html file which can make use of the public api you created earlier.\n",
    "\n",
    "In the `website` folder there should be a file called `index.html`. Download the file to your computer and open that file up in a text editor of your choice. There should be a line which contains **\\*\\*REPLACE WITH PUBLIC API URL\\*\\***. Replace this string with the url that you wrote down in the last step and then save the file.\n",
    "\n",
    "Now, if you open `index.html` on your local computer, your browser will behave as a local web server and you can use the provided site to interact with your SageMaker model.\n",
    "\n",
    "If you'd like to go further, you can host this html file anywhere you'd like, for example using github or hosting a static site on Amazon's S3. Once you have done this you can share the link with anyone you'd like and have them play with it too!\n",
    "\n",
    "> **Important Note** In order for the web app to communicate with the SageMaker endpoint, the endpoint has to actually be deployed and running. This means that you are paying for it. Make sure that the endpoint is running when you want to use the web app but that you shut it down when you don't need it, otherwise you will end up with a surprisingly large AWS bill.\n",
    "\n",
    "**TODO:** Make sure that you include the edited `index.html` file in your project submission."
   ]
  },
  {
   "cell_type": "markdown",
   "metadata": {},
   "source": [
    "Now that your web app is working, trying playing around with it and see how well it works.\n",
    "\n",
    "**Question**: Give an example of a review that you entered into your web app. What was the predicted sentiment of your example review?"
   ]
  },
  {
   "cell_type": "markdown",
   "metadata": {},
   "source": [
    "**Answer:**\n",
    "\n",
    "review 1: \n",
    "\"body\": \"I hated this movie. Even though there were good parts in it and some witty humours, it wasn't worthwhile. What a waste of my precious time.\"\n",
    "predicted result: Your review was NEGATIVE! (0.0)\n",
    "\n",
    "review 2:\n",
    "\"body\": \"What a surprise with this movie. My aunt recommended this one, and although I am not a fan of romantic comedies, this one did not dissapoint\"\n",
    "predicted result: Your review was POSITIVE! (1.0)"
   ]
  },
  {
   "cell_type": "markdown",
   "metadata": {},
   "source": [
    "### Delete the endpoint\n",
    "\n",
    "Remember to always shut down your endpoint if you are no longer using it. You are charged for the length of time that the endpoint is running so if you forget and leave it on you could end up with an unexpectedly large bill."
   ]
  },
  {
   "cell_type": "code",
   "execution_count": 55,
   "metadata": {},
   "outputs": [
    {
     "name": "stderr",
     "output_type": "stream",
     "text": [
      "INFO:sagemaker:Deleting endpoint with name: sagemaker-pytorch-2018-12-22-20-35-45-038\n"
     ]
    }
   ],
   "source": [
    "predictor.delete_endpoint()"
   ]
  },
  {
   "cell_type": "code",
   "execution_count": null,
   "metadata": {},
   "outputs": [],
   "source": []
  },
  {
   "cell_type": "code",
   "execution_count": null,
   "metadata": {},
   "outputs": [],
   "source": []
  }
 ],
 "metadata": {
  "kernelspec": {
   "display_name": "conda_pytorch_p36",
   "language": "python",
   "name": "conda_pytorch_p36"
  },
  "language_info": {
   "codemirror_mode": {
    "name": "ipython",
    "version": 3
   },
   "file_extension": ".py",
   "mimetype": "text/x-python",
   "name": "python",
   "nbconvert_exporter": "python",
   "pygments_lexer": "ipython3",
   "version": "3.6.5"
  }
 },
 "nbformat": 4,
 "nbformat_minor": 2
}
